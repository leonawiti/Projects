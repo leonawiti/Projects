{
 "cells": [
  {
   "cell_type": "markdown",
   "metadata": {},
   "source": [
    "# INFLUENCE OF STRATEGY IMPLEMENTATION DRIVERS ON WATER SERVICE DELIVERY IN LAKE VICTORIA SOUTH REGION, KENYA"
   ]
  },
  {
   "cell_type": "code",
   "execution_count": 50,
   "metadata": {},
   "outputs": [],
   "source": [
    "#Objectives of the study \n",
    "#i).To examine the influence of organizational structure on water service delivery in Lake Victoria south region, Kenya. \n",
    "#ii).To establish the influence of human capital development on water service delivery in Lake Victoria south region, Kenya. \n",
    "#iii).To determine the influence of corporate governance practices on water service delivery in Lake Victoria south region, Kenya. \n",
    "#iv).To assess the influence of technological adoption on water service delivery in Lake Victoria south region, Kenya. \n",
    "#v).To determine the moderating effect of government regulatory policies on the relationship between strategy implementation drivers and water service delivery in Lake Victoria south region. "
   ]
  },
  {
   "cell_type": "code",
   "execution_count": 51,
   "metadata": {},
   "outputs": [],
   "source": [
    "#Study Hypotheses\n",
    "#i)H0 Organizational structure has no significant influence on water service delivery in Lake Victoria south region, Kenya.\n",
    "#ii)H0 Human capital  development has no significant influence on water service delivery in Lake Victoria south region, Kenya.\n",
    "#iii)H0 Corporate governance practices have no significant influence on water service delivery in Lake Victoria south region, Kenya.\n",
    "#iv)H0 There is no significant relationship between the technological adoption and water service delivery in Lake Victoria south region, Kenya.\n",
    "#v)H0 There is no significant moderating effect of government regulatory policies on the relationship between strategy implementation drivers and water service delivery."
   ]
  },
  {
   "cell_type": "code",
   "execution_count": 52,
   "metadata": {},
   "outputs": [],
   "source": [
    "#importing the libraries \n",
    "import pandas as pd\n",
    "import numpy as np"
   ]
  },
  {
   "cell_type": "code",
   "execution_count": 53,
   "metadata": {},
   "outputs": [],
   "source": [
    "#Water Service Delivery\n",
    "df= pd.read_csv('WaterServiceDelivery.csv')\n",
    "#X=df.drop('WaterServiceDelivery',axis=1)\n",
    "#y=df[['WaterServiceDelivery']]\n",
    "\n",
    "X=df.iloc [:,0:5]\n",
    "y=df.iloc[:,5]\n"
   ]
  },
  {
   "cell_type": "code",
   "execution_count": 54,
   "metadata": {},
   "outputs": [
    {
     "data": {
      "text/html": [
       "<div>\n",
       "<style scoped>\n",
       "    .dataframe tbody tr th:only-of-type {\n",
       "        vertical-align: middle;\n",
       "    }\n",
       "\n",
       "    .dataframe tbody tr th {\n",
       "        vertical-align: top;\n",
       "    }\n",
       "\n",
       "    .dataframe thead th {\n",
       "        text-align: right;\n",
       "    }\n",
       "</style>\n",
       "<table border=\"1\" class=\"dataframe\">\n",
       "  <thead>\n",
       "    <tr style=\"text-align: right;\">\n",
       "      <th></th>\n",
       "      <th>TechnologyAdoption</th>\n",
       "      <th>CorporateGovernancePractices</th>\n",
       "      <th>OrganizationalStructure</th>\n",
       "      <th>HumanCapitalDevelopment</th>\n",
       "      <th>GovernmentRegulatoryPolicies</th>\n",
       "      <th>WaterServiceDelivery</th>\n",
       "    </tr>\n",
       "  </thead>\n",
       "  <tbody>\n",
       "    <tr>\n",
       "      <td>0</td>\n",
       "      <td>18</td>\n",
       "      <td>12</td>\n",
       "      <td>14</td>\n",
       "      <td>13</td>\n",
       "      <td>14</td>\n",
       "      <td>71</td>\n",
       "    </tr>\n",
       "    <tr>\n",
       "      <td>1</td>\n",
       "      <td>15</td>\n",
       "      <td>12</td>\n",
       "      <td>20</td>\n",
       "      <td>12</td>\n",
       "      <td>9</td>\n",
       "      <td>68</td>\n",
       "    </tr>\n",
       "    <tr>\n",
       "      <td>2</td>\n",
       "      <td>19</td>\n",
       "      <td>18</td>\n",
       "      <td>17</td>\n",
       "      <td>9</td>\n",
       "      <td>4</td>\n",
       "      <td>67</td>\n",
       "    </tr>\n",
       "    <tr>\n",
       "      <td>3</td>\n",
       "      <td>19</td>\n",
       "      <td>17</td>\n",
       "      <td>17</td>\n",
       "      <td>11</td>\n",
       "      <td>12</td>\n",
       "      <td>76</td>\n",
       "    </tr>\n",
       "    <tr>\n",
       "      <td>4</td>\n",
       "      <td>18</td>\n",
       "      <td>17</td>\n",
       "      <td>18</td>\n",
       "      <td>14</td>\n",
       "      <td>8</td>\n",
       "      <td>75</td>\n",
       "    </tr>\n",
       "  </tbody>\n",
       "</table>\n",
       "</div>"
      ],
      "text/plain": [
       "   TechnologyAdoption  CorporateGovernancePractices  OrganizationalStructure  \\\n",
       "0                  18                            12                       14   \n",
       "1                  15                            12                       20   \n",
       "2                  19                            18                       17   \n",
       "3                  19                            17                       17   \n",
       "4                  18                            17                       18   \n",
       "\n",
       "   HumanCapitalDevelopment  GovernmentRegulatoryPolicies  WaterServiceDelivery  \n",
       "0                       13                            14                    71  \n",
       "1                       12                             9                    68  \n",
       "2                        9                             4                    67  \n",
       "3                       11                            12                    76  \n",
       "4                       14                             8                    75  "
      ]
     },
     "execution_count": 54,
     "metadata": {},
     "output_type": "execute_result"
    }
   ],
   "source": [
    "#exploring the data,printing first five rows\n",
    "df.head()"
   ]
  },
  {
   "cell_type": "code",
   "execution_count": 55,
   "metadata": {},
   "outputs": [
    {
     "data": {
      "text/plain": [
       "(107, 6)"
      ]
     },
     "execution_count": 55,
     "metadata": {},
     "output_type": "execute_result"
    }
   ],
   "source": [
    "#exploring the data,shape \n",
    "df.shape"
   ]
  },
  {
   "cell_type": "code",
   "execution_count": 56,
   "metadata": {},
   "outputs": [
    {
     "data": {
      "text/html": [
       "<div>\n",
       "<style scoped>\n",
       "    .dataframe tbody tr th:only-of-type {\n",
       "        vertical-align: middle;\n",
       "    }\n",
       "\n",
       "    .dataframe tbody tr th {\n",
       "        vertical-align: top;\n",
       "    }\n",
       "\n",
       "    .dataframe thead th {\n",
       "        text-align: right;\n",
       "    }\n",
       "</style>\n",
       "<table border=\"1\" class=\"dataframe\">\n",
       "  <thead>\n",
       "    <tr style=\"text-align: right;\">\n",
       "      <th></th>\n",
       "      <th>TechnologyAdoption</th>\n",
       "      <th>CorporateGovernancePractices</th>\n",
       "      <th>OrganizationalStructure</th>\n",
       "      <th>HumanCapitalDevelopment</th>\n",
       "      <th>GovernmentRegulatoryPolicies</th>\n",
       "      <th>WaterServiceDelivery</th>\n",
       "    </tr>\n",
       "  </thead>\n",
       "  <tbody>\n",
       "    <tr>\n",
       "      <td>count</td>\n",
       "      <td>107.000000</td>\n",
       "      <td>107.000000</td>\n",
       "      <td>107.000000</td>\n",
       "      <td>107.000000</td>\n",
       "      <td>107.000000</td>\n",
       "      <td>107.000000</td>\n",
       "    </tr>\n",
       "    <tr>\n",
       "      <td>mean</td>\n",
       "      <td>16.934579</td>\n",
       "      <td>15.588785</td>\n",
       "      <td>16.794393</td>\n",
       "      <td>12.233645</td>\n",
       "      <td>11.579439</td>\n",
       "      <td>73.130841</td>\n",
       "    </tr>\n",
       "    <tr>\n",
       "      <td>std</td>\n",
       "      <td>1.899707</td>\n",
       "      <td>2.695045</td>\n",
       "      <td>2.008183</td>\n",
       "      <td>1.809719</td>\n",
       "      <td>2.617205</td>\n",
       "      <td>5.638620</td>\n",
       "    </tr>\n",
       "    <tr>\n",
       "      <td>min</td>\n",
       "      <td>11.000000</td>\n",
       "      <td>8.000000</td>\n",
       "      <td>10.000000</td>\n",
       "      <td>8.000000</td>\n",
       "      <td>4.000000</td>\n",
       "      <td>58.000000</td>\n",
       "    </tr>\n",
       "    <tr>\n",
       "      <td>25%</td>\n",
       "      <td>16.000000</td>\n",
       "      <td>14.000000</td>\n",
       "      <td>16.000000</td>\n",
       "      <td>11.000000</td>\n",
       "      <td>10.000000</td>\n",
       "      <td>69.000000</td>\n",
       "    </tr>\n",
       "    <tr>\n",
       "      <td>50%</td>\n",
       "      <td>17.000000</td>\n",
       "      <td>16.000000</td>\n",
       "      <td>17.000000</td>\n",
       "      <td>12.000000</td>\n",
       "      <td>12.000000</td>\n",
       "      <td>74.000000</td>\n",
       "    </tr>\n",
       "    <tr>\n",
       "      <td>75%</td>\n",
       "      <td>18.000000</td>\n",
       "      <td>18.000000</td>\n",
       "      <td>18.000000</td>\n",
       "      <td>14.000000</td>\n",
       "      <td>13.500000</td>\n",
       "      <td>77.000000</td>\n",
       "    </tr>\n",
       "    <tr>\n",
       "      <td>max</td>\n",
       "      <td>20.000000</td>\n",
       "      <td>19.000000</td>\n",
       "      <td>20.000000</td>\n",
       "      <td>15.000000</td>\n",
       "      <td>15.000000</td>\n",
       "      <td>85.000000</td>\n",
       "    </tr>\n",
       "  </tbody>\n",
       "</table>\n",
       "</div>"
      ],
      "text/plain": [
       "       TechnologyAdoption  CorporateGovernancePractices  \\\n",
       "count          107.000000                    107.000000   \n",
       "mean            16.934579                     15.588785   \n",
       "std              1.899707                      2.695045   \n",
       "min             11.000000                      8.000000   \n",
       "25%             16.000000                     14.000000   \n",
       "50%             17.000000                     16.000000   \n",
       "75%             18.000000                     18.000000   \n",
       "max             20.000000                     19.000000   \n",
       "\n",
       "       OrganizationalStructure  HumanCapitalDevelopment  \\\n",
       "count               107.000000               107.000000   \n",
       "mean                 16.794393                12.233645   \n",
       "std                   2.008183                 1.809719   \n",
       "min                  10.000000                 8.000000   \n",
       "25%                  16.000000                11.000000   \n",
       "50%                  17.000000                12.000000   \n",
       "75%                  18.000000                14.000000   \n",
       "max                  20.000000                15.000000   \n",
       "\n",
       "       GovernmentRegulatoryPolicies  WaterServiceDelivery  \n",
       "count                    107.000000            107.000000  \n",
       "mean                      11.579439             73.130841  \n",
       "std                        2.617205              5.638620  \n",
       "min                        4.000000             58.000000  \n",
       "25%                       10.000000             69.000000  \n",
       "50%                       12.000000             74.000000  \n",
       "75%                       13.500000             77.000000  \n",
       "max                       15.000000             85.000000  "
      ]
     },
     "execution_count": 56,
     "metadata": {},
     "output_type": "execute_result"
    }
   ],
   "source": [
    "#exploring the data,describe\n",
    "df.describe()"
   ]
  },
  {
   "cell_type": "code",
   "execution_count": 57,
   "metadata": {},
   "outputs": [
    {
     "data": {
      "text/html": [
       "<div>\n",
       "<style scoped>\n",
       "    .dataframe tbody tr th:only-of-type {\n",
       "        vertical-align: middle;\n",
       "    }\n",
       "\n",
       "    .dataframe tbody tr th {\n",
       "        vertical-align: top;\n",
       "    }\n",
       "\n",
       "    .dataframe thead th {\n",
       "        text-align: right;\n",
       "    }\n",
       "</style>\n",
       "<table border=\"1\" class=\"dataframe\">\n",
       "  <thead>\n",
       "    <tr style=\"text-align: right;\">\n",
       "      <th></th>\n",
       "      <th>TechnologyAdoption</th>\n",
       "      <th>CorporateGovernancePractices</th>\n",
       "      <th>OrganizationalStructure</th>\n",
       "      <th>HumanCapitalDevelopment</th>\n",
       "      <th>GovernmentRegulatoryPolicies</th>\n",
       "      <th>WaterServiceDelivery</th>\n",
       "    </tr>\n",
       "  </thead>\n",
       "  <tbody>\n",
       "    <tr>\n",
       "      <td>TechnologyAdoption</td>\n",
       "      <td>1.000000</td>\n",
       "      <td>0.372438</td>\n",
       "      <td>0.176962</td>\n",
       "      <td>0.031929</td>\n",
       "      <td>0.000106</td>\n",
       "      <td>0.588242</td>\n",
       "    </tr>\n",
       "    <tr>\n",
       "      <td>CorporateGovernancePractices</td>\n",
       "      <td>0.372438</td>\n",
       "      <td>1.000000</td>\n",
       "      <td>-0.186594</td>\n",
       "      <td>0.103059</td>\n",
       "      <td>-0.052837</td>\n",
       "      <td>0.545537</td>\n",
       "    </tr>\n",
       "    <tr>\n",
       "      <td>OrganizationalStructure</td>\n",
       "      <td>0.176962</td>\n",
       "      <td>-0.186594</td>\n",
       "      <td>1.000000</td>\n",
       "      <td>0.010747</td>\n",
       "      <td>0.024676</td>\n",
       "      <td>0.341486</td>\n",
       "    </tr>\n",
       "    <tr>\n",
       "      <td>HumanCapitalDevelopment</td>\n",
       "      <td>0.031929</td>\n",
       "      <td>0.103059</td>\n",
       "      <td>0.010747</td>\n",
       "      <td>1.000000</td>\n",
       "      <td>0.295810</td>\n",
       "      <td>0.522096</td>\n",
       "    </tr>\n",
       "    <tr>\n",
       "      <td>GovernmentRegulatoryPolicies</td>\n",
       "      <td>0.000106</td>\n",
       "      <td>-0.052837</td>\n",
       "      <td>0.024676</td>\n",
       "      <td>0.295810</td>\n",
       "      <td>1.000000</td>\n",
       "      <td>0.542668</td>\n",
       "    </tr>\n",
       "    <tr>\n",
       "      <td>WaterServiceDelivery</td>\n",
       "      <td>0.588242</td>\n",
       "      <td>0.545537</td>\n",
       "      <td>0.341486</td>\n",
       "      <td>0.522096</td>\n",
       "      <td>0.542668</td>\n",
       "      <td>1.000000</td>\n",
       "    </tr>\n",
       "  </tbody>\n",
       "</table>\n",
       "</div>"
      ],
      "text/plain": [
       "                              TechnologyAdoption  \\\n",
       "TechnologyAdoption                      1.000000   \n",
       "CorporateGovernancePractices            0.372438   \n",
       "OrganizationalStructure                 0.176962   \n",
       "HumanCapitalDevelopment                 0.031929   \n",
       "GovernmentRegulatoryPolicies            0.000106   \n",
       "WaterServiceDelivery                    0.588242   \n",
       "\n",
       "                              CorporateGovernancePractices  \\\n",
       "TechnologyAdoption                                0.372438   \n",
       "CorporateGovernancePractices                      1.000000   \n",
       "OrganizationalStructure                          -0.186594   \n",
       "HumanCapitalDevelopment                           0.103059   \n",
       "GovernmentRegulatoryPolicies                     -0.052837   \n",
       "WaterServiceDelivery                              0.545537   \n",
       "\n",
       "                              OrganizationalStructure  \\\n",
       "TechnologyAdoption                           0.176962   \n",
       "CorporateGovernancePractices                -0.186594   \n",
       "OrganizationalStructure                      1.000000   \n",
       "HumanCapitalDevelopment                      0.010747   \n",
       "GovernmentRegulatoryPolicies                 0.024676   \n",
       "WaterServiceDelivery                         0.341486   \n",
       "\n",
       "                              HumanCapitalDevelopment  \\\n",
       "TechnologyAdoption                           0.031929   \n",
       "CorporateGovernancePractices                 0.103059   \n",
       "OrganizationalStructure                      0.010747   \n",
       "HumanCapitalDevelopment                      1.000000   \n",
       "GovernmentRegulatoryPolicies                 0.295810   \n",
       "WaterServiceDelivery                         0.522096   \n",
       "\n",
       "                              GovernmentRegulatoryPolicies  \\\n",
       "TechnologyAdoption                                0.000106   \n",
       "CorporateGovernancePractices                     -0.052837   \n",
       "OrganizationalStructure                           0.024676   \n",
       "HumanCapitalDevelopment                           0.295810   \n",
       "GovernmentRegulatoryPolicies                      1.000000   \n",
       "WaterServiceDelivery                              0.542668   \n",
       "\n",
       "                              WaterServiceDelivery  \n",
       "TechnologyAdoption                        0.588242  \n",
       "CorporateGovernancePractices              0.545537  \n",
       "OrganizationalStructure                   0.341486  \n",
       "HumanCapitalDevelopment                   0.522096  \n",
       "GovernmentRegulatoryPolicies              0.542668  \n",
       "WaterServiceDelivery                      1.000000  "
      ]
     },
     "execution_count": 57,
     "metadata": {},
     "output_type": "execute_result"
    }
   ],
   "source": [
    "#exploring the data,correlation analysis\n",
    "df.corr()"
   ]
  },
  {
   "cell_type": "code",
   "execution_count": 58,
   "metadata": {},
   "outputs": [],
   "source": [
    "#importing the libraries\n",
    "import seaborn as sns"
   ]
  },
  {
   "cell_type": "code",
   "execution_count": 59,
   "metadata": {},
   "outputs": [
    {
     "data": {
      "text/plain": [
       "<seaborn.axisgrid.PairGrid at 0x1c2214a110>"
      ]
     },
     "execution_count": 59,
     "metadata": {},
     "output_type": "execute_result"
    },
    {
     "data": {
      "image/png": "[encoded data removed]",
      "text/plain": [
       "<Figure size 1080x1080 with 42 Axes>"
      ]
     },
     "metadata": {
      "needs_background": "light"
     },
     "output_type": "display_data"
    }
   ],
   "source": [
    "#exploring the data through visualization \n",
    "sns.pairplot(df)\n"
   ]
  },
  {
   "cell_type": "code",
   "execution_count": 60,
   "metadata": {},
   "outputs": [],
   "source": [
    "#splitting the data into tratin and test portions\n",
    "import sklearn\n",
    "from sklearn.model_selection import train_test_split"
   ]
  },
  {
   "cell_type": "code",
   "execution_count": 61,
   "metadata": {},
   "outputs": [],
   "source": [
    "X_train,X_test,y_train,y_test=train_test_split(X,y, train_size=0.8,test_size=0.2)"
   ]
  },
  {
   "cell_type": "code",
   "execution_count": 62,
   "metadata": {},
   "outputs": [
    {
     "data": {
      "text/plain": [
       "(85, 5)"
      ]
     },
     "execution_count": 62,
     "metadata": {},
     "output_type": "execute_result"
    }
   ],
   "source": [
    "X_train.shape"
   ]
  },
  {
   "cell_type": "code",
   "execution_count": 63,
   "metadata": {},
   "outputs": [
    {
     "data": {
      "text/plain": [
       "(85,)"
      ]
     },
     "execution_count": 63,
     "metadata": {},
     "output_type": "execute_result"
    }
   ],
   "source": [
    "y_train.shape"
   ]
  },
  {
   "cell_type": "code",
   "execution_count": 64,
   "metadata": {},
   "outputs": [
    {
     "data": {
      "text/plain": [
       "(22, 5)"
      ]
     },
     "execution_count": 64,
     "metadata": {},
     "output_type": "execute_result"
    }
   ],
   "source": [
    "X_test.shape"
   ]
  },
  {
   "cell_type": "code",
   "execution_count": 65,
   "metadata": {
    "scrolled": true
   },
   "outputs": [
    {
     "data": {
      "text/plain": [
       "(22,)"
      ]
     },
     "execution_count": 65,
     "metadata": {},
     "output_type": "execute_result"
    }
   ],
   "source": [
    "y_test.shape"
   ]
  },
  {
   "cell_type": "code",
   "execution_count": 66,
   "metadata": {
    "scrolled": false
   },
   "outputs": [],
   "source": [
    "#Incorprating the Constant(y intercept )\n",
    "import statsmodels.api as sm\n",
    "X=sm.add_constant(X_train)  "
   ]
  },
  {
   "cell_type": "code",
   "execution_count": 67,
   "metadata": {
    "scrolled": true
   },
   "outputs": [
    {
     "data": {
      "text/html": [
       "<table class=\"simpletable\">\n",
       "<caption>OLS Regression Results</caption>\n",
       "<tr>\n",
       "  <th>Dep. Variable:</th>    <td>WaterServiceDelivery</td> <th>  R-squared (uncentered):</th>      <td>   1.000</td> \n",
       "</tr>\n",
       "<tr>\n",
       "  <th>Model:</th>                     <td>OLS</td>         <th>  Adj. R-squared (uncentered):</th> <td>   1.000</td> \n",
       "</tr>\n",
       "<tr>\n",
       "  <th>Method:</th>               <td>Least Squares</td>    <th>  F-statistic:       </th>          <td>1.448e+32</td>\n",
       "</tr>\n",
       "<tr>\n",
       "  <th>Date:</th>               <td>Wed, 30 Dec 2020</td>   <th>  Prob (F-statistic):</th>           <td>  0.00</td>  \n",
       "</tr>\n",
       "<tr>\n",
       "  <th>Time:</th>                   <td>21:46:08</td>       <th>  Log-Likelihood:    </th>          <td>  2543.5</td> \n",
       "</tr>\n",
       "<tr>\n",
       "  <th>No. Observations:</th>        <td>    85</td>        <th>  AIC:               </th>          <td>  -5077.</td> \n",
       "</tr>\n",
       "<tr>\n",
       "  <th>Df Residuals:</th>            <td>    80</td>        <th>  BIC:               </th>          <td>  -5065.</td> \n",
       "</tr>\n",
       "<tr>\n",
       "  <th>Df Model:</th>                <td>     5</td>        <th>                     </th>              <td> </td>    \n",
       "</tr>\n",
       "<tr>\n",
       "  <th>Covariance Type:</th>        <td>nonrobust</td>      <th>                     </th>              <td> </td>    \n",
       "</tr>\n",
       "</table>\n",
       "<table class=\"simpletable\">\n",
       "<tr>\n",
       "                <td></td>                  <th>coef</th>     <th>std err</th>      <th>t</th>      <th>P>|t|</th>  <th>[0.025</th>    <th>0.975]</th>  \n",
       "</tr>\n",
       "<tr>\n",
       "  <th>TechnologyAdoption</th>           <td>    1.0000</td> <td> 1.59e-15</td> <td> 6.27e+14</td> <td> 0.000</td> <td>    1.000</td> <td>    1.000</td>\n",
       "</tr>\n",
       "<tr>\n",
       "  <th>CorporateGovernancePractices</th> <td>    1.0000</td> <td> 1.15e-15</td> <td>  8.7e+14</td> <td> 0.000</td> <td>    1.000</td> <td>    1.000</td>\n",
       "</tr>\n",
       "<tr>\n",
       "  <th>OrganizationalStructure</th>      <td>    1.0000</td> <td> 1.22e-15</td> <td> 8.18e+14</td> <td> 0.000</td> <td>    1.000</td> <td>    1.000</td>\n",
       "</tr>\n",
       "<tr>\n",
       "  <th>HumanCapitalDevelopment</th>      <td>    1.0000</td> <td> 1.57e-15</td> <td> 6.37e+14</td> <td> 0.000</td> <td>    1.000</td> <td>    1.000</td>\n",
       "</tr>\n",
       "<tr>\n",
       "  <th>GovernmentRegulatoryPolicies</th> <td>    1.0000</td> <td> 1.09e-15</td> <td> 9.19e+14</td> <td> 0.000</td> <td>    1.000</td> <td>    1.000</td>\n",
       "</tr>\n",
       "</table>\n",
       "<table class=\"simpletable\">\n",
       "<tr>\n",
       "  <th>Omnibus:</th>       <td>11.263</td> <th>  Durbin-Watson:     </th> <td>   0.171</td>\n",
       "</tr>\n",
       "<tr>\n",
       "  <th>Prob(Omnibus):</th> <td> 0.004</td> <th>  Jarque-Bera (JB):  </th> <td>  12.392</td>\n",
       "</tr>\n",
       "<tr>\n",
       "  <th>Skew:</th>          <td> 0.903</td> <th>  Prob(JB):          </th> <td> 0.00204</td>\n",
       "</tr>\n",
       "<tr>\n",
       "  <th>Kurtosis:</th>      <td> 2.516</td> <th>  Cond. No.          </th> <td>    24.1</td>\n",
       "</tr>\n",
       "</table><br/><br/>Warnings:<br/>[1] Standard Errors assume that the covariance matrix of the errors is correctly specified."
      ],
      "text/plain": [
       "<class 'statsmodels.iolib.summary.Summary'>\n",
       "\"\"\"\n",
       "                                  OLS Regression Results                                 \n",
       "=========================================================================================\n",
       "Dep. Variable:     WaterServiceDelivery   R-squared (uncentered):                   1.000\n",
       "Model:                              OLS   Adj. R-squared (uncentered):              1.000\n",
       "Method:                   Least Squares   F-statistic:                          1.448e+32\n",
       "Date:                  Wed, 30 Dec 2020   Prob (F-statistic):                        0.00\n",
       "Time:                          21:46:08   Log-Likelihood:                          2543.5\n",
       "No. Observations:                    85   AIC:                                     -5077.\n",
       "Df Residuals:                        80   BIC:                                     -5065.\n",
       "Df Model:                             5                                                  \n",
       "Covariance Type:              nonrobust                                                  \n",
       "================================================================================================\n",
       "                                   coef    std err          t      P>|t|      [0.025      0.975]\n",
       "------------------------------------------------------------------------------------------------\n",
       "TechnologyAdoption               1.0000   1.59e-15   6.27e+14      0.000       1.000       1.000\n",
       "CorporateGovernancePractices     1.0000   1.15e-15    8.7e+14      0.000       1.000       1.000\n",
       "OrganizationalStructure          1.0000   1.22e-15   8.18e+14      0.000       1.000       1.000\n",
       "HumanCapitalDevelopment          1.0000   1.57e-15   6.37e+14      0.000       1.000       1.000\n",
       "GovernmentRegulatoryPolicies     1.0000   1.09e-15   9.19e+14      0.000       1.000       1.000\n",
       "==============================================================================\n",
       "Omnibus:                       11.263   Durbin-Watson:                   0.171\n",
       "Prob(Omnibus):                  0.004   Jarque-Bera (JB):               12.392\n",
       "Skew:                           0.903   Prob(JB):                      0.00204\n",
       "Kurtosis:                       2.516   Cond. No.                         24.1\n",
       "==============================================================================\n",
       "\n",
       "Warnings:\n",
       "[1] Standard Errors assume that the covariance matrix of the errors is correctly specified.\n",
       "\"\"\""
      ]
     },
     "execution_count": 67,
     "metadata": {},
     "output_type": "execute_result"
    }
   ],
   "source": [
    "#Printing out the regression model output \n",
    "model = sm.OLS(y_train, X_train).fit()\n",
    "model.summary() "
   ]
  },
  {
   "cell_type": "code",
   "execution_count": 68,
   "metadata": {},
   "outputs": [
    {
     "name": "stdout",
     "output_type": "stream",
     "text": [
      "                         sum_sq     df          F        PR(>F)\n",
      "TechnologyAdoption  1166.176702    1.0  55.557634  2.692796e-11\n",
      "Residual            2203.991523  105.0        NaN           NaN\n"
     ]
    }
   ],
   "source": [
    "#TESTING THE HYPOTHESES\n",
    "from statsmodels.formula.api import ols\n",
    "#1. H0: There is no significant relationship between the technological adoption and water service delivery in Lake Victoria south region, Kenya.\n",
    "mod=ols('WaterServiceDelivery~ TechnologyAdoption',data=df).fit()\n",
    "aov_table=sm.stats.anova_lm(mod,typ=2)\n",
    "print(aov_table)"
   ]
  },
  {
   "cell_type": "code",
   "execution_count": 69,
   "metadata": {
    "scrolled": true
   },
   "outputs": [
    {
     "name": "stdout",
     "output_type": "stream",
     "text": [
      "                                   sum_sq     df          F        PR(>F)\n",
      "CorporateGovernancePractices  1002.996908    1.0  44.489672  1.229499e-09\n",
      "Residual                      2367.171316  105.0        NaN           NaN\n"
     ]
    }
   ],
   "source": [
    "#2. H0: Corporate governance practices have no significant influence on water service delivery in Lake Victoria south region, Kenya.\n",
    "mod=ols('WaterServiceDelivery~ CorporateGovernancePractices',data=df).fit()\n",
    "aov_table=sm.stats.anova_lm(mod,typ=2)\n",
    "print(aov_table)"
   ]
  },
  {
   "cell_type": "code",
   "execution_count": 70,
   "metadata": {
    "scrolled": true
   },
   "outputs": [
    {
     "name": "stdout",
     "output_type": "stream",
     "text": [
      "                              sum_sq     df         F    PR(>F)\n",
      "OrganizationalStructure   393.004844    1.0  13.86068  0.000319\n",
      "Residual                 2977.163380  105.0       NaN       NaN\n"
     ]
    }
   ],
   "source": [
    "#3. H0: Organizational structure has no significant influence on water service delivery in Lake Victoria south region, Kenyas in Nyanza Region \n",
    "mod=ols('WaterServiceDelivery ~ OrganizationalStructure',data=df).fit()\n",
    "aov_table=sm.stats.anova_lm(mod,typ=2)\n",
    "print(aov_table)"
   ]
  },
  {
   "cell_type": "code",
   "execution_count": 71,
   "metadata": {},
   "outputs": [
    {
     "name": "stdout",
     "output_type": "stream",
     "text": [
      "                              sum_sq     df          F        PR(>F)\n",
      "HumanCapitalDevelopment   918.653768    1.0  39.346554  8.052382e-09\n",
      "Residual                 2451.514456  105.0        NaN           NaN\n"
     ]
    }
   ],
   "source": [
    "#4. H0: Human capital  development has no significant influence on water service delivery in Lake Victoria south region, Kenya.\n",
    "mod=ols('WaterServiceDelivery ~ HumanCapitalDevelopment',data=df).fit()\n",
    "aov_table=sm.stats.anova_lm(mod,typ=2)\n",
    "print(aov_table)"
   ]
  },
  {
   "cell_type": "code",
   "execution_count": 72,
   "metadata": {
    "scrolled": true
   },
   "outputs": [
    {
     "name": "stdout",
     "output_type": "stream",
     "text": [
      "                                   sum_sq     df          F        PR(>F)\n",
      "GovernmentRegulatoryPolicies   992.474351    1.0  43.828101  1.559609e-09\n",
      "Residual                      2377.693873  105.0        NaN           NaN\n"
     ]
    }
   ],
   "source": [
    "#5. H0: There is no significant moderating effect of government regulatory policies on the relationship between strategy implementation drivers and water service delivery.\n",
    "mod=ols('WaterServiceDelivery ~ GovernmentRegulatoryPolicies',data= df).fit()\n",
    "aov_table=sm.stats.anova_lm(mod,typ=2)\n",
    "print(aov_table)"
   ]
  },
  {
   "cell_type": "code",
   "execution_count": 73,
   "metadata": {},
   "outputs": [],
   "source": [
    "# Performing predictions on the test datdaset \n",
    "yhat = mod.predict(X_test) \n",
    "prediction = list(map(round, yhat)) "
   ]
  },
  {
   "cell_type": "code",
   "execution_count": 74,
   "metadata": {},
   "outputs": [
    {
     "name": "stdout",
     "output_type": "stream",
     "text": [
      "Acutal values [77, 76, 76, 71, 66, 72, 75, 77, 71, 75, 82, 68, 73, 64, 60, 77, 73, 67, 76, 74, 69, 74]\n",
      "Predictions : [75, 74, 74, 76, 69, 70, 72, 75, 69, 75, 75, 72, 71, 65, 69, 77, 72, 76, 74, 71, 71, 75]\n"
     ]
    }
   ],
   "source": [
    "# Comparing original and predicted values of y \n",
    "print('Acutal values', list(y_test.values)) \n",
    "print('Predictions :', prediction) "
   ]
  },
  {
   "cell_type": "code",
   "execution_count": 75,
   "metadata": {},
   "outputs": [],
   "source": [
    "#Importing the libraries for confusion matrix\n",
    "from sklearn.metrics import (confusion_matrix,  \n",
    "                           accuracy_score)"
   ]
  },
  {
   "cell_type": "code",
   "execution_count": 76,
   "metadata": {},
   "outputs": [],
   "source": [
    "#Further Evaluation\n",
    "test_predictions = mod.predict(X_test)"
   ]
  },
  {
   "cell_type": "code",
   "execution_count": 77,
   "metadata": {
    "scrolled": false
   },
   "outputs": [
    {
     "data": {
      "text/plain": [
       "85     74.791685\n",
       "3      73.622538\n",
       "34     73.622538\n",
       "87     75.960832\n",
       "71     68.945952\n",
       "24     70.115098\n",
       "102    72.453392\n",
       "10     74.791685\n",
       "31     68.945952\n",
       "36     74.791685\n",
       "77     74.791685\n",
       "81     72.453392\n",
       "70     71.284245\n",
       "62     65.438512\n",
       "50     68.945952\n",
       "19     77.129978\n",
       "17     72.453392\n",
       "60     75.960832\n",
       "69     73.622538\n",
       "16     71.284245\n",
       "22     71.284245\n",
       "52     74.791685\n",
       "dtype: float64"
      ]
     },
     "execution_count": 77,
     "metadata": {},
     "output_type": "execute_result"
    }
   ],
   "source": [
    "test_predictions"
   ]
  }
 ],
 "metadata": {
  "kernelspec": {
   "display_name": "Python 3",
   "language": "python",
   "name": "python3"
  },
  "language_info": {
   "codemirror_mode": {
    "name": "ipython",
    "version": 3
   },
   "file_extension": ".py",
   "mimetype": "text/x-python",
   "name": "python",
   "nbconvert_exporter": "python",
   "pygments_lexer": "ipython3",
   "version": "3.7.4"
  }
 },
 "nbformat": 4,
 "nbformat_minor": 2
}
