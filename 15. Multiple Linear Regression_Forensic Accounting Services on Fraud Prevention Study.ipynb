{
 "cells": [
  {
   "cell_type": "markdown",
   "metadata": {},
   "source": [
    "# FORENSIC ACCOUNTING SERVICES ON FRAUD PREVENTION IN NON-GOVERNMENTAL ORGANIZATIONS "
   ]
  },
  {
   "cell_type": "code",
   "execution_count": 1,
   "metadata": {},
   "outputs": [],
   "source": [
    "#Study Topic\n",
    "#THE EFFECTS OF FORENSIC ACCOUNTING SERVICES ON FRAUD PREVENTION IN NON-GOVERNMENTAL ORGANIZATIONS IN KENYA"
   ]
  },
  {
   "cell_type": "code",
   "execution_count": 2,
   "metadata": {},
   "outputs": [],
   "source": [
    "#Objectives of the study\n",
    "#i) To determine the effects of advisory services on fraud prevention in NGOs in Kenya\n",
    "#ii) To determine the effects of pro-active auditing services on fraud prevention in NGOs in Kenya\n",
    "#iii) To determine the effects of internal control activities on fraud prevention in NGOs in Kenya\n",
    "#iv) To determine the effects of compliance services offered by forensic accountants on fraud prevention in NGOs in Kenya"
   ]
  },
  {
   "cell_type": "code",
   "execution_count": 3,
   "metadata": {},
   "outputs": [],
   "source": [
    "#Study Hypotheses\n",
    "#i) H0:There is no significant relationship between advisory services and fraud prevention in NGOs in Kenya\n",
    "#ii) H0:There is no significant relationship between pro-active auditing services and fraud prevention in NGOs in Kenya\n",
    "#iii) H0:There is no significant relationship between internal control activities and fraud prevention in NGOs in Kenya\n",
    "#iv) H0:There is no relationship between compliance services offered by forensic accountants and fraud prevention in NGOs in Kenya"
   ]
  },
  {
   "cell_type": "code",
   "execution_count": 4,
   "metadata": {},
   "outputs": [],
   "source": [
    "#importing the pandas libraary \n",
    "import pandas as pd"
   ]
  },
  {
   "cell_type": "code",
   "execution_count": 5,
   "metadata": {},
   "outputs": [],
   "source": [
    "#importing the data\n",
    "df=pd.read_csv('FraudPrevention.csv')\n",
    "X=df.drop('FraudPrevention',1)\n",
    "y=df[['FraudPrevention']]"
   ]
  },
  {
   "cell_type": "code",
   "execution_count": 6,
   "metadata": {
    "scrolled": true
   },
   "outputs": [
    {
     "data": {
      "text/html": [
       "<div>\n",
       "<style scoped>\n",
       "    .dataframe tbody tr th:only-of-type {\n",
       "        vertical-align: middle;\n",
       "    }\n",
       "\n",
       "    .dataframe tbody tr th {\n",
       "        vertical-align: top;\n",
       "    }\n",
       "\n",
       "    .dataframe thead th {\n",
       "        text-align: right;\n",
       "    }\n",
       "</style>\n",
       "<table border=\"1\" class=\"dataframe\">\n",
       "  <thead>\n",
       "    <tr style=\"text-align: right;\">\n",
       "      <th></th>\n",
       "      <th>AdvisoryServices</th>\n",
       "      <th>InternalControlActivities</th>\n",
       "      <th>ProacticeAuditFunction</th>\n",
       "      <th>CompliancePolicy</th>\n",
       "      <th>FraudPrevention</th>\n",
       "    </tr>\n",
       "  </thead>\n",
       "  <tbody>\n",
       "    <tr>\n",
       "      <td>0</td>\n",
       "      <td>10</td>\n",
       "      <td>25</td>\n",
       "      <td>24</td>\n",
       "      <td>19</td>\n",
       "      <td>27</td>\n",
       "    </tr>\n",
       "    <tr>\n",
       "      <td>1</td>\n",
       "      <td>3</td>\n",
       "      <td>7</td>\n",
       "      <td>9</td>\n",
       "      <td>4</td>\n",
       "      <td>19</td>\n",
       "    </tr>\n",
       "    <tr>\n",
       "      <td>2</td>\n",
       "      <td>15</td>\n",
       "      <td>33</td>\n",
       "      <td>43</td>\n",
       "      <td>20</td>\n",
       "      <td>28</td>\n",
       "    </tr>\n",
       "    <tr>\n",
       "      <td>3</td>\n",
       "      <td>6</td>\n",
       "      <td>24</td>\n",
       "      <td>34</td>\n",
       "      <td>18</td>\n",
       "      <td>26</td>\n",
       "    </tr>\n",
       "    <tr>\n",
       "      <td>4</td>\n",
       "      <td>15</td>\n",
       "      <td>35</td>\n",
       "      <td>45</td>\n",
       "      <td>20</td>\n",
       "      <td>29</td>\n",
       "    </tr>\n",
       "  </tbody>\n",
       "</table>\n",
       "</div>"
      ],
      "text/plain": [
       "   AdvisoryServices  InternalControlActivities  ProacticeAuditFunction  \\\n",
       "0                10                         25                      24   \n",
       "1                 3                          7                       9   \n",
       "2                15                         33                      43   \n",
       "3                 6                         24                      34   \n",
       "4                15                         35                      45   \n",
       "\n",
       "   CompliancePolicy  FraudPrevention  \n",
       "0                19               27  \n",
       "1                 4               19  \n",
       "2                20               28  \n",
       "3                18               26  \n",
       "4                20               29  "
      ]
     },
     "execution_count": 6,
     "metadata": {},
     "output_type": "execute_result"
    }
   ],
   "source": [
    "#exploring the data,printing the first five rows\n",
    "df.head()"
   ]
  },
  {
   "cell_type": "code",
   "execution_count": 7,
   "metadata": {},
   "outputs": [
    {
     "data": {
      "text/html": [
       "<div>\n",
       "<style scoped>\n",
       "    .dataframe tbody tr th:only-of-type {\n",
       "        vertical-align: middle;\n",
       "    }\n",
       "\n",
       "    .dataframe tbody tr th {\n",
       "        vertical-align: top;\n",
       "    }\n",
       "\n",
       "    .dataframe thead th {\n",
       "        text-align: right;\n",
       "    }\n",
       "</style>\n",
       "<table border=\"1\" class=\"dataframe\">\n",
       "  <thead>\n",
       "    <tr style=\"text-align: right;\">\n",
       "      <th></th>\n",
       "      <th>AdvisoryServices</th>\n",
       "      <th>InternalControlActivities</th>\n",
       "      <th>ProacticeAuditFunction</th>\n",
       "      <th>CompliancePolicy</th>\n",
       "      <th>FraudPrevention</th>\n",
       "    </tr>\n",
       "  </thead>\n",
       "  <tbody>\n",
       "    <tr>\n",
       "      <td>count</td>\n",
       "      <td>55.000000</td>\n",
       "      <td>55.000000</td>\n",
       "      <td>55.000000</td>\n",
       "      <td>55.000000</td>\n",
       "      <td>55.000000</td>\n",
       "    </tr>\n",
       "    <tr>\n",
       "      <td>mean</td>\n",
       "      <td>10.309091</td>\n",
       "      <td>27.163636</td>\n",
       "      <td>33.654545</td>\n",
       "      <td>18.163636</td>\n",
       "      <td>24.090909</td>\n",
       "    </tr>\n",
       "    <tr>\n",
       "      <td>std</td>\n",
       "      <td>3.393200</td>\n",
       "      <td>5.273145</td>\n",
       "      <td>8.264646</td>\n",
       "      <td>3.065722</td>\n",
       "      <td>4.812302</td>\n",
       "    </tr>\n",
       "    <tr>\n",
       "      <td>min</td>\n",
       "      <td>3.000000</td>\n",
       "      <td>7.000000</td>\n",
       "      <td>9.000000</td>\n",
       "      <td>4.000000</td>\n",
       "      <td>9.000000</td>\n",
       "    </tr>\n",
       "    <tr>\n",
       "      <td>25%</td>\n",
       "      <td>9.000000</td>\n",
       "      <td>24.000000</td>\n",
       "      <td>28.500000</td>\n",
       "      <td>17.000000</td>\n",
       "      <td>20.500000</td>\n",
       "    </tr>\n",
       "    <tr>\n",
       "      <td>50%</td>\n",
       "      <td>11.000000</td>\n",
       "      <td>28.000000</td>\n",
       "      <td>35.000000</td>\n",
       "      <td>20.000000</td>\n",
       "      <td>25.000000</td>\n",
       "    </tr>\n",
       "    <tr>\n",
       "      <td>75%</td>\n",
       "      <td>12.000000</td>\n",
       "      <td>31.000000</td>\n",
       "      <td>40.000000</td>\n",
       "      <td>20.000000</td>\n",
       "      <td>28.000000</td>\n",
       "    </tr>\n",
       "    <tr>\n",
       "      <td>max</td>\n",
       "      <td>15.000000</td>\n",
       "      <td>35.000000</td>\n",
       "      <td>45.000000</td>\n",
       "      <td>20.000000</td>\n",
       "      <td>30.000000</td>\n",
       "    </tr>\n",
       "  </tbody>\n",
       "</table>\n",
       "</div>"
      ],
      "text/plain": [
       "       AdvisoryServices  InternalControlActivities  ProacticeAuditFunction  \\\n",
       "count         55.000000                  55.000000               55.000000   \n",
       "mean          10.309091                  27.163636               33.654545   \n",
       "std            3.393200                   5.273145                8.264646   \n",
       "min            3.000000                   7.000000                9.000000   \n",
       "25%            9.000000                  24.000000               28.500000   \n",
       "50%           11.000000                  28.000000               35.000000   \n",
       "75%           12.000000                  31.000000               40.000000   \n",
       "max           15.000000                  35.000000               45.000000   \n",
       "\n",
       "       CompliancePolicy  FraudPrevention  \n",
       "count         55.000000        55.000000  \n",
       "mean          18.163636        24.090909  \n",
       "std            3.065722         4.812302  \n",
       "min            4.000000         9.000000  \n",
       "25%           17.000000        20.500000  \n",
       "50%           20.000000        25.000000  \n",
       "75%           20.000000        28.000000  \n",
       "max           20.000000        30.000000  "
      ]
     },
     "execution_count": 7,
     "metadata": {},
     "output_type": "execute_result"
    }
   ],
   "source": [
    "#exploring the data,descriptive analysis\n",
    "df.describe() "
   ]
  },
  {
   "cell_type": "code",
   "execution_count": 8,
   "metadata": {},
   "outputs": [
    {
     "data": {
      "text/html": [
       "<div>\n",
       "<style scoped>\n",
       "    .dataframe tbody tr th:only-of-type {\n",
       "        vertical-align: middle;\n",
       "    }\n",
       "\n",
       "    .dataframe tbody tr th {\n",
       "        vertical-align: top;\n",
       "    }\n",
       "\n",
       "    .dataframe thead th {\n",
       "        text-align: right;\n",
       "    }\n",
       "</style>\n",
       "<table border=\"1\" class=\"dataframe\">\n",
       "  <thead>\n",
       "    <tr style=\"text-align: right;\">\n",
       "      <th></th>\n",
       "      <th>AdvisoryServices</th>\n",
       "      <th>InternalControlActivities</th>\n",
       "      <th>ProacticeAuditFunction</th>\n",
       "      <th>CompliancePolicy</th>\n",
       "      <th>FraudPrevention</th>\n",
       "    </tr>\n",
       "  </thead>\n",
       "  <tbody>\n",
       "    <tr>\n",
       "      <td>AdvisoryServices</td>\n",
       "      <td>1.000000</td>\n",
       "      <td>0.673990</td>\n",
       "      <td>0.637151</td>\n",
       "      <td>0.530882</td>\n",
       "      <td>0.570958</td>\n",
       "    </tr>\n",
       "    <tr>\n",
       "      <td>InternalControlActivities</td>\n",
       "      <td>0.673990</td>\n",
       "      <td>1.000000</td>\n",
       "      <td>0.859245</td>\n",
       "      <td>0.670735</td>\n",
       "      <td>0.580297</td>\n",
       "    </tr>\n",
       "    <tr>\n",
       "      <td>ProacticeAuditFunction</td>\n",
       "      <td>0.637151</td>\n",
       "      <td>0.859245</td>\n",
       "      <td>1.000000</td>\n",
       "      <td>0.672494</td>\n",
       "      <td>0.651272</td>\n",
       "    </tr>\n",
       "    <tr>\n",
       "      <td>CompliancePolicy</td>\n",
       "      <td>0.530882</td>\n",
       "      <td>0.670735</td>\n",
       "      <td>0.672494</td>\n",
       "      <td>1.000000</td>\n",
       "      <td>0.485999</td>\n",
       "    </tr>\n",
       "    <tr>\n",
       "      <td>FraudPrevention</td>\n",
       "      <td>0.570958</td>\n",
       "      <td>0.580297</td>\n",
       "      <td>0.651272</td>\n",
       "      <td>0.485999</td>\n",
       "      <td>1.000000</td>\n",
       "    </tr>\n",
       "  </tbody>\n",
       "</table>\n",
       "</div>"
      ],
      "text/plain": [
       "                           AdvisoryServices  InternalControlActivities  \\\n",
       "AdvisoryServices                   1.000000                   0.673990   \n",
       "InternalControlActivities          0.673990                   1.000000   \n",
       "ProacticeAuditFunction             0.637151                   0.859245   \n",
       "CompliancePolicy                   0.530882                   0.670735   \n",
       "FraudPrevention                    0.570958                   0.580297   \n",
       "\n",
       "                           ProacticeAuditFunction  CompliancePolicy  \\\n",
       "AdvisoryServices                         0.637151          0.530882   \n",
       "InternalControlActivities                0.859245          0.670735   \n",
       "ProacticeAuditFunction                   1.000000          0.672494   \n",
       "CompliancePolicy                         0.672494          1.000000   \n",
       "FraudPrevention                          0.651272          0.485999   \n",
       "\n",
       "                           FraudPrevention  \n",
       "AdvisoryServices                  0.570958  \n",
       "InternalControlActivities         0.580297  \n",
       "ProacticeAuditFunction            0.651272  \n",
       "CompliancePolicy                  0.485999  \n",
       "FraudPrevention                   1.000000  "
      ]
     },
     "execution_count": 8,
     "metadata": {},
     "output_type": "execute_result"
    }
   ],
   "source": [
    "#exploring the data,correlation analysis \n",
    "df.corr()"
   ]
  },
  {
   "cell_type": "code",
   "execution_count": 9,
   "metadata": {},
   "outputs": [],
   "source": [
    "#importing seaborn library \n",
    "import seaborn as sns"
   ]
  },
  {
   "cell_type": "code",
   "execution_count": 10,
   "metadata": {
    "scrolled": true
   },
   "outputs": [
    {
     "data": {
      "text/plain": [
       "<seaborn.axisgrid.PairGrid at 0x1a1f083f50>"
      ]
     },
     "execution_count": 10,
     "metadata": {},
     "output_type": "execute_result"
    },
    {
     "data": {
      "image/png": "[encoded data removed]",
      "text/plain": [
       "<Figure size 900x900 with 30 Axes>"
      ]
     },
     "metadata": {
      "needs_background": "light"
     },
     "output_type": "display_data"
    }
   ],
   "source": [
    "#exploring the data through visualization\n",
    "sns.pairplot(df)"
   ]
  },
  {
   "cell_type": "code",
   "execution_count": 11,
   "metadata": {},
   "outputs": [],
   "source": [
    "#importing sklearn libraries\n",
    "import sklearn \n",
    "from sklearn.model_selection import train_test_split "
   ]
  },
  {
   "cell_type": "code",
   "execution_count": 12,
   "metadata": {},
   "outputs": [],
   "source": [
    "#Splitting the data into train and test sets\n",
    "X_train,X_test,y_train,y_test=train_test_split(X,y,train_size=0.80,test_size=0.20)"
   ]
  },
  {
   "cell_type": "code",
   "execution_count": 17,
   "metadata": {},
   "outputs": [],
   "source": [
    "#importing statsmodels libraries \n",
    "import statsmodels.api as sm\n",
    "import statsmodels.formula as smf\n",
    "from statsmodels.formula.api import ols"
   ]
  },
  {
   "cell_type": "code",
   "execution_count": 18,
   "metadata": {
    "scrolled": false
   },
   "outputs": [
    {
     "name": "stdout",
     "output_type": "stream",
     "text": [
      "                                 OLS Regression Results                                \n",
      "=======================================================================================\n",
      "Dep. Variable:        FraudPrevention   R-squared (uncentered):                   0.974\n",
      "Model:                            OLS   Adj. R-squared (uncentered):              0.972\n",
      "Method:                 Least Squares   F-statistic:                              379.3\n",
      "Date:                Sat, 02 Jan 2021   Prob (F-statistic):                    3.21e-31\n",
      "Time:                        21:17:08   Log-Likelihood:                         -122.67\n",
      "No. Observations:                  44   AIC:                                      253.3\n",
      "Df Residuals:                      40   BIC:                                      260.5\n",
      "Df Model:                           4                                                  \n",
      "Covariance Type:            nonrobust                                                  \n",
      "=============================================================================================\n",
      "                                coef    std err          t      P>|t|      [0.025      0.975]\n",
      "---------------------------------------------------------------------------------------------\n",
      "AdvisoryServices              0.3214      0.242      1.331      0.191      -0.167       0.809\n",
      "InternalControlActivities     0.2479      0.223      1.110      0.274      -0.204       0.699\n",
      "ProacticeAuditFunction        0.1803      0.152      1.185      0.243      -0.127       0.488\n",
      "CompliancePolicy              0.4195      0.249      1.683      0.100      -0.084       0.923\n",
      "==============================================================================\n",
      "Omnibus:                        5.546   Durbin-Watson:                   1.464\n",
      "Prob(Omnibus):                  0.062   Jarque-Bera (JB):                4.409\n",
      "Skew:                           0.580   Prob(JB):                        0.110\n",
      "Kurtosis:                       4.029   Cond. No.                         23.2\n",
      "==============================================================================\n",
      "\n",
      "Warnings:\n",
      "[1] Standard Errors assume that the covariance matrix of the errors is correctly specified.\n"
     ]
    }
   ],
   "source": [
    "# Describing the model\n",
    "mod= sm.OLS(y_train, X_train)\n",
    "# Fitting the model\n",
    "res = mod.fit()   \n",
    "# Summarizing the model\n",
    "print(res.summary()) "
   ]
  },
  {
   "cell_type": "code",
   "execution_count": 19,
   "metadata": {},
   "outputs": [
    {
     "name": "stdout",
     "output_type": "stream",
     "text": [
      "                      sum_sq    df          F    PR(>F)\n",
      "AdvisoryServices  407.669212   1.0  25.634212  0.000005\n",
      "Residual          842.876243  53.0        NaN       NaN\n"
     ]
    }
   ],
   "source": [
    "#Hypothesis Testing 1\n",
    "#1.H0:There is no significant relationship between advisory services and fraud prevention in NGOs in Kenya\n",
    "mod=ols('FraudPrevention ~ AdvisoryServices ',data=df).fit()\n",
    "aov_table=sm.stats.anova_lm(mod,typ=2)\n",
    "print(aov_table)"
   ]
  },
  {
   "cell_type": "code",
   "execution_count": 20,
   "metadata": {},
   "outputs": [
    {
     "name": "stdout",
     "output_type": "stream",
     "text": [
      "                               sum_sq    df          F    PR(>F)\n",
      "InternalControlActivities  421.113979   1.0  26.908842  0.000003\n",
      "Residual                   829.431476  53.0        NaN       NaN\n"
     ]
    }
   ],
   "source": [
    "#Hypothesis Testing 2\n",
    "#2. H0:There is no significant relationship between pro-active auditing services and fraud prevention in NGOs in Kenya\n",
    "mod=ols('FraudPrevention ~ InternalControlActivities',data=df).fit()\n",
    "aov_table=sm.stats.anova_lm(mod,typ=2)\n",
    "print(aov_table)"
   ]
  },
  {
   "cell_type": "code",
   "execution_count": 21,
   "metadata": {},
   "outputs": [
    {
     "name": "stdout",
     "output_type": "stream",
     "text": [
      "                            sum_sq    df          F        PR(>F)\n",
      "ProacticeAuditFunction  530.424763   1.0  39.038612  7.276910e-08\n",
      "Residual                720.120692  53.0        NaN           NaN\n"
     ]
    }
   ],
   "source": [
    "#Hypothesis Testing 3\n",
    "#3. H0:There is no significant relationship between internal control activities and fraud prevention in NGOs in Kenya\n",
    "mod=ols('FraudPrevention ~ ProacticeAuditFunction',data=df).fit()\n",
    "aov_table=sm.stats.anova_lm(mod,typ=2)\n",
    "print(aov_table)"
   ]
  },
  {
   "cell_type": "code",
   "execution_count": 22,
   "metadata": {},
   "outputs": [
    {
     "name": "stdout",
     "output_type": "stream",
     "text": [
      "                      sum_sq    df          F    PR(>F)\n",
      "CompliancePolicy  295.372817   1.0  16.389455  0.000169\n",
      "Residual          955.172637  53.0        NaN       NaN\n"
     ]
    }
   ],
   "source": [
    "#Hypothesis Testing 4\n",
    "#4. H0:There is no relationship between compliance services offered by forensic accountants and fraud prevention in NGOs in Kenya\n",
    "mod=ols('FraudPrevention ~ CompliancePolicy',data=df).fit()\n",
    "aov_table=sm.stats.anova_lm(mod,typ=2)\n",
    "print(aov_table)"
   ]
  }
 ],
 "metadata": {
  "kernelspec": {
   "display_name": "Python 3",
   "language": "python",
   "name": "python3"
  },
  "language_info": {
   "codemirror_mode": {
    "name": "ipython",
    "version": 3
   },
   "file_extension": ".py",
   "mimetype": "text/x-python",
   "name": "python",
   "nbconvert_exporter": "python",
   "pygments_lexer": "ipython3",
   "version": "3.7.4"
  }
 },
 "nbformat": 4,
 "nbformat_minor": 2
}
