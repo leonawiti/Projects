{
 "cells": [
  {
   "cell_type": "markdown",
   "metadata": {},
   "source": [
    "# WORKFORCE DIVERSITY AND EMPLOYEE PERFORMANCE STUDY"
   ]
  },
  {
   "cell_type": "code",
   "execution_count": null,
   "metadata": {},
   "outputs": [],
   "source": [
    "#Study Topic\n",
    "#RELATIONSHIP BETWEEN WORKFORCE DIVERSITY AND EMPLOYEE PERFORMANCE IN PUBLIC UNIVERSITIES IN KENYA"
   ]
  },
  {
   "cell_type": "code",
   "execution_count": null,
   "metadata": {},
   "outputs": [],
   "source": [
    "#The specific objectives:\n",
    "#1.\tTo assess relationship between age diversity and employee performance in public universities in Kenya.\n",
    "#2.\tTo establish relationship between gender diversity and employee performance in public universities in Kenya. \n",
    "#3.\tTo assess relationship between ethnic diversity and employee performance in public universities in Kenya.\n",
    "#4.\tTo determine relationship between education background diversity and employee performance in public universities in Kenya.    \n",
    "#5.\tTo establish the moderating influence of organization culture on the relationship between workforce diversity and employee performance in public universities in Kenya."
   ]
  },
  {
   "cell_type": "code",
   "execution_count": null,
   "metadata": {},
   "outputs": [],
   "source": [
    "#The study seeks to test the following hypotheses.\n",
    "#H0. There is no significant relationship between gender diversity and employee performance in public universities in Kenya.\n",
    "#H0. There is no significant relationship between age diversity and employee performance in public universities in Kenya. \n",
    "#H0. There is no significant relationship between ethnic diversity and employee performance in public universities in Kenya. \n",
    "#H0. There is no significant relationship between education background diversity and employee performance in public universities in Kenya.    \n",
    "#H0. Organizational culture does not have a significant moderating influence on the relationship between workforce diversity and employee performance in public universities in Kenya. "
   ]
  },
  {
   "cell_type": "code",
   "execution_count": 270,
   "metadata": {},
   "outputs": [],
   "source": [
    "#importing the libraries\n",
    "import pandas as pd\n",
    "import sklearn \n",
    "from sklearn.linear_model import LinearRegression\n",
    "import statsmodels.api as sm\n",
    "from sklearn.model_selection import train_test_split\n",
    "from statsmodels.stats.outliers_influence import variance_inflation_factor"
   ]
  },
  {
   "cell_type": "code",
   "execution_count": 271,
   "metadata": {},
   "outputs": [],
   "source": [
    "#importing the data\n",
    "Workforce_Diversity=pd.read_csv('Workforce_Diversity.csv')\n",
    "X=Workforce_Diversity.iloc[:,0:5]\n",
    "Y=Workforce_Diversity.iloc[:,5]"
   ]
  },
  {
   "cell_type": "code",
   "execution_count": 272,
   "metadata": {
    "scrolled": false
   },
   "outputs": [
    {
     "data": {
      "text/html": [
       "<div>\n",
       "<style scoped>\n",
       "    .dataframe tbody tr th:only-of-type {\n",
       "        vertical-align: middle;\n",
       "    }\n",
       "\n",
       "    .dataframe tbody tr th {\n",
       "        vertical-align: top;\n",
       "    }\n",
       "\n",
       "    .dataframe thead th {\n",
       "        text-align: right;\n",
       "    }\n",
       "</style>\n",
       "<table border=\"1\" class=\"dataframe\">\n",
       "  <thead>\n",
       "    <tr style=\"text-align: right;\">\n",
       "      <th></th>\n",
       "      <th>GenderDiversity</th>\n",
       "      <th>AgeDiversity</th>\n",
       "      <th>EthnicDiversity</th>\n",
       "      <th>EducationDiversity</th>\n",
       "      <th>OrganizationalCulture</th>\n",
       "      <th>EmployeePerformance</th>\n",
       "    </tr>\n",
       "  </thead>\n",
       "  <tbody>\n",
       "    <tr>\n",
       "      <td>0</td>\n",
       "      <td>35</td>\n",
       "      <td>36</td>\n",
       "      <td>21</td>\n",
       "      <td>32</td>\n",
       "      <td>57</td>\n",
       "      <td>23</td>\n",
       "    </tr>\n",
       "    <tr>\n",
       "      <td>1</td>\n",
       "      <td>31</td>\n",
       "      <td>34</td>\n",
       "      <td>29</td>\n",
       "      <td>34</td>\n",
       "      <td>55</td>\n",
       "      <td>20</td>\n",
       "    </tr>\n",
       "    <tr>\n",
       "      <td>2</td>\n",
       "      <td>35</td>\n",
       "      <td>26</td>\n",
       "      <td>30</td>\n",
       "      <td>35</td>\n",
       "      <td>55</td>\n",
       "      <td>23</td>\n",
       "    </tr>\n",
       "    <tr>\n",
       "      <td>3</td>\n",
       "      <td>35</td>\n",
       "      <td>37</td>\n",
       "      <td>37</td>\n",
       "      <td>37</td>\n",
       "      <td>54</td>\n",
       "      <td>24</td>\n",
       "    </tr>\n",
       "    <tr>\n",
       "      <td>4</td>\n",
       "      <td>30</td>\n",
       "      <td>32</td>\n",
       "      <td>27</td>\n",
       "      <td>28</td>\n",
       "      <td>38</td>\n",
       "      <td>20</td>\n",
       "    </tr>\n",
       "  </tbody>\n",
       "</table>\n",
       "</div>"
      ],
      "text/plain": [
       "   GenderDiversity  AgeDiversity  EthnicDiversity  EducationDiversity  \\\n",
       "0               35            36               21                  32   \n",
       "1               31            34               29                  34   \n",
       "2               35            26               30                  35   \n",
       "3               35            37               37                  37   \n",
       "4               30            32               27                  28   \n",
       "\n",
       "   OrganizationalCulture  EmployeePerformance  \n",
       "0                     57                   23  \n",
       "1                     55                   20  \n",
       "2                     55                   23  \n",
       "3                     54                   24  \n",
       "4                     38                   20  "
      ]
     },
     "execution_count": 272,
     "metadata": {},
     "output_type": "execute_result"
    }
   ],
   "source": [
    "#exploring the data\n",
    "Workforce_Diversity.head()"
   ]
  },
  {
   "cell_type": "code",
   "execution_count": 273,
   "metadata": {
    "scrolled": true
   },
   "outputs": [
    {
     "data": {
      "text/html": [
       "<div>\n",
       "<style scoped>\n",
       "    .dataframe tbody tr th:only-of-type {\n",
       "        vertical-align: middle;\n",
       "    }\n",
       "\n",
       "    .dataframe tbody tr th {\n",
       "        vertical-align: top;\n",
       "    }\n",
       "\n",
       "    .dataframe thead th {\n",
       "        text-align: right;\n",
       "    }\n",
       "</style>\n",
       "<table border=\"1\" class=\"dataframe\">\n",
       "  <thead>\n",
       "    <tr style=\"text-align: right;\">\n",
       "      <th></th>\n",
       "      <th>GenderDiversity</th>\n",
       "      <th>AgeDiversity</th>\n",
       "      <th>EthnicDiversity</th>\n",
       "      <th>EducationDiversity</th>\n",
       "      <th>OrganizationalCulture</th>\n",
       "      <th>EmployeePerformance</th>\n",
       "    </tr>\n",
       "  </thead>\n",
       "  <tbody>\n",
       "    <tr>\n",
       "      <td>count</td>\n",
       "      <td>93.000000</td>\n",
       "      <td>93.000000</td>\n",
       "      <td>93.000000</td>\n",
       "      <td>93.000000</td>\n",
       "      <td>93.000000</td>\n",
       "      <td>93.000000</td>\n",
       "    </tr>\n",
       "    <tr>\n",
       "      <td>mean</td>\n",
       "      <td>31.838710</td>\n",
       "      <td>30.096774</td>\n",
       "      <td>26.645161</td>\n",
       "      <td>29.215054</td>\n",
       "      <td>47.451613</td>\n",
       "      <td>19.741935</td>\n",
       "    </tr>\n",
       "    <tr>\n",
       "      <td>std</td>\n",
       "      <td>5.099638</td>\n",
       "      <td>5.718134</td>\n",
       "      <td>6.941753</td>\n",
       "      <td>5.723425</td>\n",
       "      <td>8.586537</td>\n",
       "      <td>4.366133</td>\n",
       "    </tr>\n",
       "    <tr>\n",
       "      <td>min</td>\n",
       "      <td>15.000000</td>\n",
       "      <td>17.000000</td>\n",
       "      <td>12.000000</td>\n",
       "      <td>15.000000</td>\n",
       "      <td>25.000000</td>\n",
       "      <td>5.000000</td>\n",
       "    </tr>\n",
       "    <tr>\n",
       "      <td>25%</td>\n",
       "      <td>30.000000</td>\n",
       "      <td>27.000000</td>\n",
       "      <td>21.000000</td>\n",
       "      <td>27.000000</td>\n",
       "      <td>40.000000</td>\n",
       "      <td>17.000000</td>\n",
       "    </tr>\n",
       "    <tr>\n",
       "      <td>50%</td>\n",
       "      <td>33.000000</td>\n",
       "      <td>32.000000</td>\n",
       "      <td>27.000000</td>\n",
       "      <td>29.000000</td>\n",
       "      <td>49.000000</td>\n",
       "      <td>22.000000</td>\n",
       "    </tr>\n",
       "    <tr>\n",
       "      <td>75%</td>\n",
       "      <td>35.000000</td>\n",
       "      <td>34.000000</td>\n",
       "      <td>31.000000</td>\n",
       "      <td>34.000000</td>\n",
       "      <td>55.000000</td>\n",
       "      <td>23.000000</td>\n",
       "    </tr>\n",
       "    <tr>\n",
       "      <td>max</td>\n",
       "      <td>38.000000</td>\n",
       "      <td>38.000000</td>\n",
       "      <td>40.000000</td>\n",
       "      <td>40.000000</td>\n",
       "      <td>60.000000</td>\n",
       "      <td>25.000000</td>\n",
       "    </tr>\n",
       "  </tbody>\n",
       "</table>\n",
       "</div>"
      ],
      "text/plain": [
       "       GenderDiversity  AgeDiversity  EthnicDiversity  EducationDiversity  \\\n",
       "count        93.000000     93.000000        93.000000           93.000000   \n",
       "mean         31.838710     30.096774        26.645161           29.215054   \n",
       "std           5.099638      5.718134         6.941753            5.723425   \n",
       "min          15.000000     17.000000        12.000000           15.000000   \n",
       "25%          30.000000     27.000000        21.000000           27.000000   \n",
       "50%          33.000000     32.000000        27.000000           29.000000   \n",
       "75%          35.000000     34.000000        31.000000           34.000000   \n",
       "max          38.000000     38.000000        40.000000           40.000000   \n",
       "\n",
       "       OrganizationalCulture  EmployeePerformance  \n",
       "count              93.000000            93.000000  \n",
       "mean               47.451613            19.741935  \n",
       "std                 8.586537             4.366133  \n",
       "min                25.000000             5.000000  \n",
       "25%                40.000000            17.000000  \n",
       "50%                49.000000            22.000000  \n",
       "75%                55.000000            23.000000  \n",
       "max                60.000000            25.000000  "
      ]
     },
     "execution_count": 273,
     "metadata": {},
     "output_type": "execute_result"
    }
   ],
   "source": [
    "#exploring the data \n",
    "Workforce_Diversity.describe()"
   ]
  },
  {
   "cell_type": "code",
   "execution_count": 274,
   "metadata": {},
   "outputs": [
    {
     "data": {
      "text/plain": [
       "(93, 6)"
      ]
     },
     "execution_count": 274,
     "metadata": {},
     "output_type": "execute_result"
    }
   ],
   "source": [
    "#exploring our data,shape\n",
    "Workforce_Diversity.shape"
   ]
  },
  {
   "cell_type": "code",
   "execution_count": 275,
   "metadata": {},
   "outputs": [
    {
     "data": {
      "text/plain": [
       "558"
      ]
     },
     "execution_count": 275,
     "metadata": {},
     "output_type": "execute_result"
    }
   ],
   "source": [
    "#exploring our data,size\n",
    "Workforce_Diversity.size"
   ]
  },
  {
   "cell_type": "code",
   "execution_count": 277,
   "metadata": {},
   "outputs": [
    {
     "data": {
      "text/plain": [
       "<seaborn.axisgrid.PairGrid at 0x1c2288b650>"
      ]
     },
     "execution_count": 277,
     "metadata": {},
     "output_type": "execute_result"
    },
    {
     "data": {
      "image/png": "[encoded data removed]",
      "text/plain": [
       "<Figure size 900x900 with 30 Axes>"
      ]
     },
     "metadata": {
      "needs_background": "light"
     },
     "output_type": "display_data"
    }
   ],
   "source": [
    "#exploring the data,visualization \n",
    "sns.pairplot(X)"
   ]
  },
  {
   "cell_type": "code",
   "execution_count": 214,
   "metadata": {},
   "outputs": [],
   "source": [
    "#spliting the data to train and test\n",
    "X_train,y_train,X_test,y_test=train_test_split(X,Y,train_size=0.8,test_size=0.2)"
   ]
  },
  {
   "cell_type": "code",
   "execution_count": 215,
   "metadata": {},
   "outputs": [],
   "source": [
    "from sklearn import linear_model\n",
    "reg=linear_model.LinearRegression()"
   ]
  },
  {
   "cell_type": "code",
   "execution_count": 216,
   "metadata": {},
   "outputs": [],
   "source": [
    "#adding a constant to our model \n",
    "X=sm.add_constant(X)"
   ]
  },
  {
   "cell_type": "code",
   "execution_count": 217,
   "metadata": {},
   "outputs": [
    {
     "data": {
      "text/html": [
       "<table class=\"simpletable\">\n",
       "<caption>OLS Regression Results</caption>\n",
       "<tr>\n",
       "  <th>Dep. Variable:</th>    <td>EmployeePerformance</td> <th>  R-squared:         </th> <td>   0.400</td>\n",
       "</tr>\n",
       "<tr>\n",
       "  <th>Model:</th>                    <td>OLS</td>         <th>  Adj. R-squared:    </th> <td>   0.366</td>\n",
       "</tr>\n",
       "<tr>\n",
       "  <th>Method:</th>              <td>Least Squares</td>    <th>  F-statistic:       </th> <td>   11.62</td>\n",
       "</tr>\n",
       "<tr>\n",
       "  <th>Date:</th>              <td>Sat, 28 Nov 2020</td>   <th>  Prob (F-statistic):</th> <td>1.30e-08</td>\n",
       "</tr>\n",
       "<tr>\n",
       "  <th>Time:</th>                  <td>21:53:23</td>       <th>  Log-Likelihood:    </th> <td> -244.74</td>\n",
       "</tr>\n",
       "<tr>\n",
       "  <th>No. Observations:</th>       <td>    93</td>        <th>  AIC:               </th> <td>   501.5</td>\n",
       "</tr>\n",
       "<tr>\n",
       "  <th>Df Residuals:</th>           <td>    87</td>        <th>  BIC:               </th> <td>   516.7</td>\n",
       "</tr>\n",
       "<tr>\n",
       "  <th>Df Model:</th>               <td>     5</td>        <th>                     </th>     <td> </td>   \n",
       "</tr>\n",
       "<tr>\n",
       "  <th>Covariance Type:</th>       <td>nonrobust</td>      <th>                     </th>     <td> </td>   \n",
       "</tr>\n",
       "</table>\n",
       "<table class=\"simpletable\">\n",
       "<tr>\n",
       "            <td></td>               <th>coef</th>     <th>std err</th>      <th>t</th>      <th>P>|t|</th>  <th>[0.025</th>    <th>0.975]</th>  \n",
       "</tr>\n",
       "<tr>\n",
       "  <th>const</th>                 <td>    0.4931</td> <td>    2.747</td> <td>    0.180</td> <td> 0.858</td> <td>   -4.967</td> <td>    5.953</td>\n",
       "</tr>\n",
       "<tr>\n",
       "  <th>GenderDiversity</th>       <td>    0.1033</td> <td>    0.105</td> <td>    0.980</td> <td> 0.330</td> <td>   -0.106</td> <td>    0.313</td>\n",
       "</tr>\n",
       "<tr>\n",
       "  <th>AgeDiversity</th>          <td>    0.1511</td> <td>    0.097</td> <td>    1.562</td> <td> 0.122</td> <td>   -0.041</td> <td>    0.343</td>\n",
       "</tr>\n",
       "<tr>\n",
       "  <th>EthnicDiversity</th>       <td>    0.0006</td> <td>    0.058</td> <td>    0.011</td> <td> 0.991</td> <td>   -0.114</td> <td>    0.115</td>\n",
       "</tr>\n",
       "<tr>\n",
       "  <th>EducationDiversity</th>    <td>    0.0259</td> <td>    0.090</td> <td>    0.289</td> <td> 0.774</td> <td>   -0.152</td> <td>    0.204</td>\n",
       "</tr>\n",
       "<tr>\n",
       "  <th>OrganizationalCulture</th> <td>    0.2242</td> <td>    0.051</td> <td>    4.396</td> <td> 0.000</td> <td>    0.123</td> <td>    0.326</td>\n",
       "</tr>\n",
       "</table>\n",
       "<table class=\"simpletable\">\n",
       "<tr>\n",
       "  <th>Omnibus:</th>       <td> 2.914</td> <th>  Durbin-Watson:     </th> <td>   1.847</td>\n",
       "</tr>\n",
       "<tr>\n",
       "  <th>Prob(Omnibus):</th> <td> 0.233</td> <th>  Jarque-Bera (JB):  </th> <td>   2.657</td>\n",
       "</tr>\n",
       "<tr>\n",
       "  <th>Skew:</th>          <td>-0.414</td> <th>  Prob(JB):          </th> <td>   0.265</td>\n",
       "</tr>\n",
       "<tr>\n",
       "  <th>Kurtosis:</th>      <td> 2.971</td> <th>  Cond. No.          </th> <td>    583.</td>\n",
       "</tr>\n",
       "</table><br/><br/>Warnings:<br/>[1] Standard Errors assume that the covariance matrix of the errors is correctly specified."
      ],
      "text/plain": [
       "<class 'statsmodels.iolib.summary.Summary'>\n",
       "\"\"\"\n",
       "                             OLS Regression Results                            \n",
       "===============================================================================\n",
       "Dep. Variable:     EmployeePerformance   R-squared:                       0.400\n",
       "Model:                             OLS   Adj. R-squared:                  0.366\n",
       "Method:                  Least Squares   F-statistic:                     11.62\n",
       "Date:                 Sat, 28 Nov 2020   Prob (F-statistic):           1.30e-08\n",
       "Time:                         21:53:23   Log-Likelihood:                -244.74\n",
       "No. Observations:                   93   AIC:                             501.5\n",
       "Df Residuals:                       87   BIC:                             516.7\n",
       "Df Model:                            5                                         \n",
       "Covariance Type:             nonrobust                                         \n",
       "=========================================================================================\n",
       "                            coef    std err          t      P>|t|      [0.025      0.975]\n",
       "-----------------------------------------------------------------------------------------\n",
       "const                     0.4931      2.747      0.180      0.858      -4.967       5.953\n",
       "GenderDiversity           0.1033      0.105      0.980      0.330      -0.106       0.313\n",
       "AgeDiversity              0.1511      0.097      1.562      0.122      -0.041       0.343\n",
       "EthnicDiversity           0.0006      0.058      0.011      0.991      -0.114       0.115\n",
       "EducationDiversity        0.0259      0.090      0.289      0.774      -0.152       0.204\n",
       "OrganizationalCulture     0.2242      0.051      4.396      0.000       0.123       0.326\n",
       "==============================================================================\n",
       "Omnibus:                        2.914   Durbin-Watson:                   1.847\n",
       "Prob(Omnibus):                  0.233   Jarque-Bera (JB):                2.657\n",
       "Skew:                          -0.414   Prob(JB):                        0.265\n",
       "Kurtosis:                       2.971   Cond. No.                         583.\n",
       "==============================================================================\n",
       "\n",
       "Warnings:\n",
       "[1] Standard Errors assume that the covariance matrix of the errors is correctly specified.\n",
       "\"\"\""
      ]
     },
     "execution_count": 217,
     "metadata": {},
     "output_type": "execute_result"
    }
   ],
   "source": [
    "#printing out the model summary\n",
    "model=sm.OLS(Y,X).fit()\n",
    "model.summary()"
   ]
  },
  {
   "cell_type": "code",
   "execution_count": 219,
   "metadata": {},
   "outputs": [
    {
     "name": "stdout",
     "output_type": "stream",
     "text": [
      "                      sum_sq    df          F    PR(>F)\n",
      "GenderDiversity   321.558791   1.0  20.430719  0.000019\n",
      "Residual         1432.247661  91.0        NaN       NaN\n"
     ]
    }
   ],
   "source": [
    "#Hypothesis Testing 1\n",
    "#H0.There is no significant relationship between gender diversity and employee performance in public universities in Kenya\n",
    "mod=ols('EmployeePerformance ~ GenderDiversity',data=Workforce_Diversity).fit()\n",
    "aov_table=sm.stats.anova_lm(mod,typ=2)\n",
    "print(aov_table)"
   ]
  },
  {
   "cell_type": "code",
   "execution_count": 221,
   "metadata": {},
   "outputs": [
    {
     "name": "stdout",
     "output_type": "stream",
     "text": [
      "                   sum_sq    df          F    PR(>F)\n",
      "AgeDiversity   332.647056   1.0  21.300132  0.000013\n",
      "Residual      1421.159396  91.0        NaN       NaN\n"
     ]
    }
   ],
   "source": [
    "#Hypothesis Testing 2\n",
    "#H0. There is no significant relationship between age diversity and employee performance in public universities in Kenya. \n",
    "mod=ols('EmployeePerformance ~ AgeDiversity',data=Workforce_Diversity).fit()\n",
    "aov_table=sm.stats.anova_lm(mod,typ=2)\n",
    "print(aov_table)"
   ]
  },
  {
   "cell_type": "code",
   "execution_count": 223,
   "metadata": {},
   "outputs": [
    {
     "name": "stdout",
     "output_type": "stream",
     "text": [
      "                      sum_sq    df         F    PR(>F)\n",
      "EthnicDiversity    74.185024   1.0  4.019261  0.047955\n",
      "Residual         1679.621427  91.0       NaN       NaN\n"
     ]
    }
   ],
   "source": [
    "#Hypothesis Testing 3\n",
    "#H0. There is no significant relationship between ethnic diversity and employee performance in public universities in Kenya.\n",
    "mod=ols('EmployeePerformance ~ EthnicDiversity',data=Workforce_Diversity).fit()\n",
    "aov_table=sm.stats.anova_lm(mod,typ=2)\n",
    "print(aov_table)"
   ]
  },
  {
   "cell_type": "code",
   "execution_count": 225,
   "metadata": {},
   "outputs": [
    {
     "name": "stdout",
     "output_type": "stream",
     "text": [
      "                         sum_sq    df          F    PR(>F)\n",
      "EducationDiversity   356.937959   1.0  23.252979  0.000006\n",
      "Residual            1396.868493  91.0        NaN       NaN\n"
     ]
    }
   ],
   "source": [
    "#Hypothesis Testing 4\n",
    "#H0. There is no significant relationship between education background diversity and employee performance in public universities in Kenya.\n",
    "mod=ols('EmployeePerformance ~ EducationDiversity',data=Workforce_Diversity).fit()\n",
    "aov_table=sm.stats.anova_lm(mod,typ=2)\n",
    "print(aov_table)"
   ]
  },
  {
   "cell_type": "code",
   "execution_count": 227,
   "metadata": {},
   "outputs": [
    {
     "name": "stdout",
     "output_type": "stream",
     "text": [
      "                            sum_sq    df          F        PR(>F)\n",
      "OrganizationalCulture   550.766285   1.0  41.660897  5.183713e-09\n",
      "Residual               1203.040167  91.0        NaN           NaN\n"
     ]
    }
   ],
   "source": [
    "#Hypothesis Testing 5\n",
    "#H0. Organizational culture does not have a significant moderating influence on the relationship between workforce diversity and employee performance in public universities in Kenya.\n",
    "mod=ols('EmployeePerformance ~ OrganizationalCulture',data=Workforce_Diversity).fit()\n",
    "aov_table=sm.stats.anova_lm(mod,typ=2)\n",
    "print(aov_table)"
   ]
  }
 ],
 "metadata": {
  "kernelspec": {
   "display_name": "Python 3",
   "language": "python",
   "name": "python3"
  },
  "language_info": {
   "codemirror_mode": {
    "name": "ipython",
    "version": 3
   },
   "file_extension": ".py",
   "mimetype": "text/x-python",
   "name": "python",
   "nbconvert_exporter": "python",
   "pygments_lexer": "ipython3",
   "version": "3.7.4"
  }
 },
 "nbformat": 4,
 "nbformat_minor": 2
}
