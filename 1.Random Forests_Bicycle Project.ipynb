{
 "cells": [
  {
   "cell_type": "markdown",
   "metadata": {},
   "source": [
    "# Random Forest Regression "
   ]
  },
  {
   "cell_type": "markdown",
   "metadata": {},
   "source": [
    "## Bicycle Project "
   ]
  },
  {
   "cell_type": "code",
   "execution_count": 56,
   "metadata": {},
   "outputs": [],
   "source": [
    "#Project Goal\n",
    "#The project entailed donating bicycles to students in selected secondary schools in Kisumu County,Kenya.The goal of was to reduce the time the students spent to and from school and instead invest the time to study."
   ]
  },
  {
   "cell_type": "code",
   "execution_count": 57,
   "metadata": {},
   "outputs": [],
   "source": [
    "#Hypothesis\n",
    "#The relationship between increased study-time resulting from bicycles donations would not significantly and positively affect the test scores of the students."
   ]
  },
  {
   "cell_type": "code",
   "execution_count": 58,
   "metadata": {},
   "outputs": [],
   "source": [
    "#importing the libraries \n",
    "import numpy as np\n",
    "import pandas as pd\n",
    "import matplotlib.pyplot as plt"
   ]
  },
  {
   "cell_type": "code",
   "execution_count": 59,
   "metadata": {},
   "outputs": [],
   "source": [
    "#importing the dataset \n",
    "df=pd.read_csv('bicycles_project.csv')\n",
    "X = df.iloc[:, :-1].values\n",
    "y = df.iloc[:, -1].values"
   ]
  },
  {
   "cell_type": "code",
   "execution_count": 60,
   "metadata": {
    "scrolled": true
   },
   "outputs": [
    {
     "name": "stdout",
     "output_type": "stream",
     "text": [
      "[ 9.   9.   9.  12.5  7.5  7.5  7.5 10.  10.   9.  10.5 11.   8.   7.5\n",
      " 10.5 10.  11.   8.5  9.5 10.5  8.   8.  10.   9.5 10.   7.  10.5  8.\n",
      " 10.  10.   9.5  9.   8.5 10.   7.5  9.   9.5  8.  11.5 10.   9.5  8.\n",
      " 10.5  9.5  8.   9.  11.   9.   9.5 12.5  8.   9.5  9.5  9.5  7.5 10.\n",
      "  9.  10.  10.   8.5  9.   7.5  9.   8.5 12.5  9.   7.5  8.  11.5  9.\n",
      " 10.5  8.   9.5 11.5  9.5 10.   9.   9.  10.   9.  10.   7.5  7.5  9.5\n",
      "  8.  11.  10.   9.5  7.5  9.5  9.5 11.5  7.5 11.5 11.5  9.5  8.5 10.5\n",
      " 10.   8.5 10.   9.5  9.   8.5  8.5 10.5  7.5 12.5 10.5  8.   8.   9.5\n",
      "  8.   8.5 10.5 10.5  7.5 11.  10.   7.5 10.  10.5  7.5  9.5  8.5  7.5\n",
      " 10.5  8.5  8.5  9.5 10.5 10.   8.5 12.5 10.5  9.5  9.   9.5 10.5  8.5\n",
      "  8.   8.5 11.  10.  11.5  9.5 10.5  9.5  9.  10.5  8.5  8.   7.5  9.5\n",
      "  9.5  7.5  8.   9.  10.   8.   8.5  8.   7.5 11.5 10.5  8.  10.  11.\n",
      " 12.5  9.5 11.  10.5  8.5 11.   9.5  9.   9.5 11.5  9.5 10.5  8.  10.\n",
      " 10.5  9.5 10.   7.5  7.5  8.5  8.5 10.   9.   8.5 10.   7.5 10.   8.5\n",
      "  9.   9.5 10.   8.   9.5  8.   8.5 10.5 12.5 10.5  7.5  8.5  8.   8.\n",
      "  9.5 11.   7.5  9.5  8.5  8.5  7.5  9.  11.5  8.5  8.   8.  10.5  8.5\n",
      " 12.  10.   8.  10.   8.5  9.  11.5 10.  10.5  9.  10.   8.5  8.   7.5\n",
      " 11.5  9.   9.5 10.   8.   7.   9.  10.   8.5  8.5 10.  12.5 10.   7.5\n",
      "  9.5 10.  11.  11.   9.  11.5 10.   9.5 11.5 11.   9.5  9.5 10.  11.5\n",
      " 10.  12.  11.   7.5 10.  10.  10.   8.5  8.5 10.   8.5  8.5  7.5  9.5\n",
      "  9.  10.   8.5 12.5 11.5  8.5  9.5  9.5 12.   9.5  8.5 11.5 10.   9.\n",
      " 10.   8.   9.5  7.5 12.5 10.5 10.  11.  11.  10.5 12.5  7.5  8.   7.5\n",
      "  9.5 10.5  8.  10.  10.  10.   7.5  9.  12.  10.5  9.  10.5  8.   8.\n",
      " 10.   8.5  7.5  9.5  8.5  9.   9.  11.5 12.5  9.5  7.5 10.  10.5  7.5\n",
      "  9.   8.5 10.   7.5  9.5  8.5  7.5 10.   7.5  9.5  9.5  9.  10.   9.\n",
      " 11.5  7.  10.5  8.   8.5 11.5 10.   9.  10.5  7.  10.   9. ]\n"
     ]
    }
   ],
   "source": [
    "print(y)"
   ]
  },
  {
   "cell_type": "code",
   "execution_count": 61,
   "metadata": {},
   "outputs": [
    {
     "name": "stdout",
     "output_type": "stream",
     "text": [
      "[[6.33]\n",
      " [6.33]\n",
      " [6.  ]\n",
      " [7.67]\n",
      " [5.33]\n",
      " [5.33]\n",
      " [6.67]\n",
      " [8.  ]\n",
      " [6.33]\n",
      " [6.67]\n",
      " [7.  ]\n",
      " [7.33]\n",
      " [6.33]\n",
      " [5.67]\n",
      " [6.67]\n",
      " [7.67]\n",
      " [7.33]\n",
      " [5.  ]\n",
      " [7.33]\n",
      " [7.33]\n",
      " [3.67]\n",
      " [7.  ]\n",
      " [8.  ]\n",
      " [5.  ]\n",
      " [6.67]\n",
      " [6.  ]\n",
      " [6.67]\n",
      " [6.  ]\n",
      " [7.67]\n",
      " [6.33]\n",
      " [6.67]\n",
      " [6.33]\n",
      " [6.67]\n",
      " [6.33]\n",
      " [5.67]\n",
      " [7.33]\n",
      " [6.67]\n",
      " [5.67]\n",
      " [6.67]\n",
      " [8.  ]\n",
      " [5.67]\n",
      " [3.67]\n",
      " [6.67]\n",
      " [6.33]\n",
      " [6.  ]\n",
      " [6.  ]\n",
      " [7.67]\n",
      " [7.33]\n",
      " [5.  ]\n",
      " [7.67]\n",
      " [7.  ]\n",
      " [5.67]\n",
      " [5.67]\n",
      " [6.67]\n",
      " [6.33]\n",
      " [7.67]\n",
      " [6.33]\n",
      " [6.67]\n",
      " [7.67]\n",
      " [6.67]\n",
      " [6.33]\n",
      " [5.67]\n",
      " [6.33]\n",
      " [7.67]\n",
      " [7.67]\n",
      " [7.33]\n",
      " [6.67]\n",
      " [7.  ]\n",
      " [7.  ]\n",
      " [6.33]\n",
      " [6.67]\n",
      " [5.67]\n",
      " [7.  ]\n",
      " [6.67]\n",
      " [6.33]\n",
      " [8.  ]\n",
      " [6.33]\n",
      " [6.67]\n",
      " [5.67]\n",
      " [6.33]\n",
      " [6.33]\n",
      " [6.  ]\n",
      " [6.33]\n",
      " [5.  ]\n",
      " [7.33]\n",
      " [7.67]\n",
      " [8.  ]\n",
      " [6.67]\n",
      " [6.67]\n",
      " [7.33]\n",
      " [5.67]\n",
      " [6.67]\n",
      " [6.  ]\n",
      " [7.  ]\n",
      " [7.  ]\n",
      " [7.  ]\n",
      " [6.67]\n",
      " [6.67]\n",
      " [7.  ]\n",
      " [6.  ]\n",
      " [6.67]\n",
      " [6.33]\n",
      " [6.  ]\n",
      " [6.67]\n",
      " [7.67]\n",
      " [7.  ]\n",
      " [6.33]\n",
      " [7.67]\n",
      " [7.67]\n",
      " [5.67]\n",
      " [5.67]\n",
      " [5.  ]\n",
      " [6.33]\n",
      " [6.67]\n",
      " [6.67]\n",
      " [8.  ]\n",
      " [6.33]\n",
      " [6.33]\n",
      " [5.67]\n",
      " [5.33]\n",
      " [7.67]\n",
      " [7.33]\n",
      " [6.  ]\n",
      " [7.  ]\n",
      " [5.  ]\n",
      " [5.33]\n",
      " [8.  ]\n",
      " [5.  ]\n",
      " [5.  ]\n",
      " [6.67]\n",
      " [6.67]\n",
      " [8.  ]\n",
      " [6.67]\n",
      " [7.67]\n",
      " [7.33]\n",
      " [5.  ]\n",
      " [7.33]\n",
      " [5.67]\n",
      " [8.  ]\n",
      " [6.67]\n",
      " [7.33]\n",
      " [6.  ]\n",
      " [7.33]\n",
      " [5.67]\n",
      " [7.33]\n",
      " [7.33]\n",
      " [7.67]\n",
      " [7.33]\n",
      " [7.33]\n",
      " [7.67]\n",
      " [5.  ]\n",
      " [6.  ]\n",
      " [6.33]\n",
      " [5.  ]\n",
      " [6.67]\n",
      " [6.  ]\n",
      " [7.33]\n",
      " [7.33]\n",
      " [6.33]\n",
      " [7.  ]\n",
      " [6.67]\n",
      " [6.33]\n",
      " [5.67]\n",
      " [6.67]\n",
      " [7.33]\n",
      " [5.67]\n",
      " [7.67]\n",
      " [7.67]\n",
      " [7.67]\n",
      " [7.  ]\n",
      " [6.33]\n",
      " [7.67]\n",
      " [6.33]\n",
      " [7.33]\n",
      " [6.33]\n",
      " [6.33]\n",
      " [6.33]\n",
      " [7.  ]\n",
      " [7.33]\n",
      " [7.67]\n",
      " [6.33]\n",
      " [7.67]\n",
      " [8.  ]\n",
      " [5.  ]\n",
      " [8.  ]\n",
      " [6.67]\n",
      " [5.33]\n",
      " [6.67]\n",
      " [5.33]\n",
      " [7.67]\n",
      " [6.  ]\n",
      " [6.33]\n",
      " [7.67]\n",
      " [6.33]\n",
      " [5.67]\n",
      " [5.  ]\n",
      " [6.  ]\n",
      " [5.67]\n",
      " [7.  ]\n",
      " [3.67]\n",
      " [5.  ]\n",
      " [5.67]\n",
      " [6.  ]\n",
      " [7.33]\n",
      " [7.67]\n",
      " [7.  ]\n",
      " [6.  ]\n",
      " [6.67]\n",
      " [7.  ]\n",
      " [5.67]\n",
      " [6.67]\n",
      " [7.33]\n",
      " [6.67]\n",
      " [7.33]\n",
      " [5.  ]\n",
      " [6.  ]\n",
      " [5.33]\n",
      " [7.33]\n",
      " [6.67]\n",
      " [5.  ]\n",
      " [5.67]\n",
      " [5.67]\n",
      " [7.33]\n",
      " [6.  ]\n",
      " [7.33]\n",
      " [7.67]\n",
      " [6.  ]\n",
      " [5.67]\n",
      " [6.67]\n",
      " [7.33]\n",
      " [6.67]\n",
      " [8.  ]\n",
      " [7.67]\n",
      " [7.33]\n",
      " [7.67]\n",
      " [5.33]\n",
      " [7.33]\n",
      " [6.33]\n",
      " [7.33]\n",
      " [6.  ]\n",
      " [7.  ]\n",
      " [8.  ]\n",
      " [3.67]\n",
      " [6.  ]\n",
      " [6.33]\n",
      " [7.  ]\n",
      " [6.  ]\n",
      " [6.33]\n",
      " [7.  ]\n",
      " [7.67]\n",
      " [6.33]\n",
      " [6.67]\n",
      " [6.33]\n",
      " [6.33]\n",
      " [7.67]\n",
      " [6.33]\n",
      " [6.33]\n",
      " [6.67]\n",
      " [6.67]\n",
      " [5.  ]\n",
      " [7.  ]\n",
      " [7.33]\n",
      " [5.  ]\n",
      " [5.  ]\n",
      " [7.67]\n",
      " [7.33]\n",
      " [6.33]\n",
      " [7.33]\n",
      " [7.67]\n",
      " [6.  ]\n",
      " [8.  ]\n",
      " [7.67]\n",
      " [6.33]\n",
      " [5.  ]\n",
      " [6.33]\n",
      " [7.67]\n",
      " [6.67]\n",
      " [5.33]\n",
      " [6.67]\n",
      " [7.33]\n",
      " [6.67]\n",
      " [7.67]\n",
      " [6.67]\n",
      " [7.67]\n",
      " [6.67]\n",
      " [7.67]\n",
      " [7.33]\n",
      " [7.  ]\n",
      " [7.33]\n",
      " [6.67]\n",
      " [6.  ]\n",
      " [7.33]\n",
      " [5.67]\n",
      " [6.33]\n",
      " [6.67]\n",
      " [5.67]\n",
      " [7.  ]\n",
      " [6.33]\n",
      " [7.67]\n",
      " [7.  ]\n",
      " [7.  ]\n",
      " [7.67]\n",
      " [6.33]\n",
      " [8.  ]\n",
      " [7.67]\n",
      " [6.  ]\n",
      " [7.33]\n",
      " [6.67]\n",
      " [6.67]\n",
      " [8.  ]\n",
      " [5.67]\n",
      " [6.67]\n",
      " [6.33]\n",
      " [7.  ]\n",
      " [6.33]\n",
      " [7.33]\n",
      " [7.33]\n",
      " [6.67]\n",
      " [6.33]\n",
      " [6.67]\n",
      " [7.  ]\n",
      " [7.33]\n",
      " [6.33]\n",
      " [6.  ]\n",
      " [6.33]\n",
      " [5.  ]\n",
      " [6.67]\n",
      " [6.  ]\n",
      " [7.33]\n",
      " [7.  ]\n",
      " [7.67]\n",
      " [7.  ]\n",
      " [5.67]\n",
      " [7.  ]\n",
      " [7.  ]\n",
      " [6.  ]\n",
      " [6.  ]\n",
      " [7.67]\n",
      " [6.67]\n",
      " [6.  ]\n",
      " [7.33]\n",
      " [5.33]\n",
      " [5.67]\n",
      " [6.67]\n",
      " [6.  ]\n",
      " [6.67]\n",
      " [7.33]\n",
      " [6.  ]\n",
      " [6.33]\n",
      " [7.33]\n",
      " [6.67]\n",
      " [6.  ]\n",
      " [7.  ]\n",
      " [5.67]\n",
      " [5.  ]\n",
      " [6.67]\n",
      " [7.  ]\n",
      " [6.67]\n",
      " [6.67]\n",
      " [6.  ]\n",
      " [7.67]\n",
      " [6.  ]]\n"
     ]
    }
   ],
   "source": [
    "print(X)"
   ]
  },
  {
   "cell_type": "code",
   "execution_count": 62,
   "metadata": {
    "scrolled": false
   },
   "outputs": [
    {
     "data": {
      "text/html": [
       "<div>\n",
       "<style scoped>\n",
       "    .dataframe tbody tr th:only-of-type {\n",
       "        vertical-align: middle;\n",
       "    }\n",
       "\n",
       "    .dataframe tbody tr th {\n",
       "        vertical-align: top;\n",
       "    }\n",
       "\n",
       "    .dataframe thead th {\n",
       "        text-align: right;\n",
       "    }\n",
       "</style>\n",
       "<table border=\"1\" class=\"dataframe\">\n",
       "  <thead>\n",
       "    <tr style=\"text-align: right;\">\n",
       "      <th></th>\n",
       "      <th>score_improvement</th>\n",
       "      <th>additional_study_hrs</th>\n",
       "    </tr>\n",
       "  </thead>\n",
       "  <tbody>\n",
       "    <tr>\n",
       "      <td>0</td>\n",
       "      <td>6.33</td>\n",
       "      <td>9.0</td>\n",
       "    </tr>\n",
       "    <tr>\n",
       "      <td>1</td>\n",
       "      <td>6.33</td>\n",
       "      <td>9.0</td>\n",
       "    </tr>\n",
       "    <tr>\n",
       "      <td>2</td>\n",
       "      <td>6.00</td>\n",
       "      <td>9.0</td>\n",
       "    </tr>\n",
       "    <tr>\n",
       "      <td>3</td>\n",
       "      <td>7.67</td>\n",
       "      <td>12.5</td>\n",
       "    </tr>\n",
       "    <tr>\n",
       "      <td>4</td>\n",
       "      <td>5.33</td>\n",
       "      <td>7.5</td>\n",
       "    </tr>\n",
       "  </tbody>\n",
       "</table>\n",
       "</div>"
      ],
      "text/plain": [
       "   score_improvement   additional_study_hrs\n",
       "0                6.33                   9.0\n",
       "1                6.33                   9.0\n",
       "2                6.00                   9.0\n",
       "3                7.67                  12.5\n",
       "4                5.33                   7.5"
      ]
     },
     "execution_count": 62,
     "metadata": {},
     "output_type": "execute_result"
    }
   ],
   "source": [
    "#exploring the data,checking the first five cases\n",
    "df.head(5)"
   ]
  },
  {
   "cell_type": "code",
   "execution_count": 63,
   "metadata": {},
   "outputs": [
    {
     "data": {
      "text/html": [
       "<div>\n",
       "<style scoped>\n",
       "    .dataframe tbody tr th:only-of-type {\n",
       "        vertical-align: middle;\n",
       "    }\n",
       "\n",
       "    .dataframe tbody tr th {\n",
       "        vertical-align: top;\n",
       "    }\n",
       "\n",
       "    .dataframe thead th {\n",
       "        text-align: right;\n",
       "    }\n",
       "</style>\n",
       "<table border=\"1\" class=\"dataframe\">\n",
       "  <thead>\n",
       "    <tr style=\"text-align: right;\">\n",
       "      <th></th>\n",
       "      <th>score_improvement</th>\n",
       "      <th>additional_study_hrs</th>\n",
       "    </tr>\n",
       "  </thead>\n",
       "  <tbody>\n",
       "    <tr>\n",
       "      <td>count</td>\n",
       "      <td>362.000000</td>\n",
       "      <td>362.000000</td>\n",
       "    </tr>\n",
       "    <tr>\n",
       "      <td>mean</td>\n",
       "      <td>6.596961</td>\n",
       "      <td>9.406077</td>\n",
       "    </tr>\n",
       "    <tr>\n",
       "      <td>std</td>\n",
       "      <td>0.853049</td>\n",
       "      <td>1.305016</td>\n",
       "    </tr>\n",
       "    <tr>\n",
       "      <td>min</td>\n",
       "      <td>3.670000</td>\n",
       "      <td>7.000000</td>\n",
       "    </tr>\n",
       "    <tr>\n",
       "      <td>25%</td>\n",
       "      <td>6.000000</td>\n",
       "      <td>8.500000</td>\n",
       "    </tr>\n",
       "    <tr>\n",
       "      <td>50%</td>\n",
       "      <td>6.670000</td>\n",
       "      <td>9.500000</td>\n",
       "    </tr>\n",
       "    <tr>\n",
       "      <td>75%</td>\n",
       "      <td>7.330000</td>\n",
       "      <td>10.000000</td>\n",
       "    </tr>\n",
       "    <tr>\n",
       "      <td>max</td>\n",
       "      <td>8.000000</td>\n",
       "      <td>12.500000</td>\n",
       "    </tr>\n",
       "  </tbody>\n",
       "</table>\n",
       "</div>"
      ],
      "text/plain": [
       "       score_improvement   additional_study_hrs\n",
       "count          362.000000            362.000000\n",
       "mean             6.596961              9.406077\n",
       "std              0.853049              1.305016\n",
       "min              3.670000              7.000000\n",
       "25%              6.000000              8.500000\n",
       "50%              6.670000              9.500000\n",
       "75%              7.330000             10.000000\n",
       "max              8.000000             12.500000"
      ]
     },
     "execution_count": 63,
     "metadata": {},
     "output_type": "execute_result"
    }
   ],
   "source": [
    "#exploring the data,checking the descriptive statistics\n",
    "df.describe()"
   ]
  },
  {
   "cell_type": "code",
   "execution_count": 64,
   "metadata": {
    "scrolled": false
   },
   "outputs": [
    {
     "data": {
      "text/html": [
       "<div>\n",
       "<style scoped>\n",
       "    .dataframe tbody tr th:only-of-type {\n",
       "        vertical-align: middle;\n",
       "    }\n",
       "\n",
       "    .dataframe tbody tr th {\n",
       "        vertical-align: top;\n",
       "    }\n",
       "\n",
       "    .dataframe thead th {\n",
       "        text-align: right;\n",
       "    }\n",
       "</style>\n",
       "<table border=\"1\" class=\"dataframe\">\n",
       "  <thead>\n",
       "    <tr style=\"text-align: right;\">\n",
       "      <th></th>\n",
       "      <th>score_improvement</th>\n",
       "      <th>additional_study_hrs</th>\n",
       "    </tr>\n",
       "  </thead>\n",
       "  <tbody>\n",
       "    <tr>\n",
       "      <td>score_improvement</td>\n",
       "      <td>1.000000</td>\n",
       "      <td>0.517036</td>\n",
       "    </tr>\n",
       "    <tr>\n",
       "      <td>additional_study_hrs</td>\n",
       "      <td>0.517036</td>\n",
       "      <td>1.000000</td>\n",
       "    </tr>\n",
       "  </tbody>\n",
       "</table>\n",
       "</div>"
      ],
      "text/plain": [
       "                      score_improvement   additional_study_hrs\n",
       "score_improvement               1.000000              0.517036\n",
       "additional_study_hrs            0.517036              1.000000"
      ]
     },
     "execution_count": 64,
     "metadata": {},
     "output_type": "execute_result"
    }
   ],
   "source": [
    "#Exploring the relationship between additional study hours and scores\n",
    "df.corr()"
   ]
  },
  {
   "cell_type": "code",
   "execution_count": 65,
   "metadata": {
    "scrolled": false
   },
   "outputs": [
    {
     "data": {
      "text/plain": [
       "<seaborn.axisgrid.PairGrid at 0x1a1f41d050>"
      ]
     },
     "execution_count": 65,
     "metadata": {},
     "output_type": "execute_result"
    },
    {
     "data": {
      "image/png": "[encoded data removed]",
      "text/plain": [
       "<Figure size 360x360 with 6 Axes>"
      ]
     },
     "metadata": {
      "needs_background": "light"
     },
     "output_type": "display_data"
    }
   ],
   "source": [
    "#Exploring the data,visualizing the data \n",
    "import seaborn as sns\n",
    "sns.pairplot(df)"
   ]
  },
  {
   "cell_type": "code",
   "execution_count": 66,
   "metadata": {},
   "outputs": [
    {
     "data": {
      "image/png": "[encoded data removed]",
      "text/plain": [
       "<Figure size 1008x432 with 1 Axes>"
      ]
     },
     "metadata": {
      "needs_background": "light"
     },
     "output_type": "display_data"
    }
   ],
   "source": [
    "#Cheking Histogram\n",
    "import matplotlib\n",
    "from matplotlib import pyplot \n",
    "%matplotlib inline\n",
    "pyplot.figure(figsize=(14,6))\n",
    "pyplot.hist(df['additional_study_hrs'])\n",
    "pyplot.show()"
   ]
  },
  {
   "cell_type": "code",
   "execution_count": 67,
   "metadata": {},
   "outputs": [],
   "source": [
    "#Splitting the data into train and test and training the model  \n",
    "from sklearn.model_selection import train_test_split\n",
    "X_train, X_test, y_train, y_test = train_test_split(X, y, test_size = 1/3, random_state = 0)"
   ]
  },
  {
   "cell_type": "code",
   "execution_count": 51,
   "metadata": {},
   "outputs": [
    {
     "data": {
      "text/plain": [
       "RandomForestRegressor(bootstrap=True, criterion='mse', max_depth=None,\n",
       "                      max_features='auto', max_leaf_nodes=None,\n",
       "                      min_impurity_decrease=0.0, min_impurity_split=None,\n",
       "                      min_samples_leaf=1, min_samples_split=2,\n",
       "                      min_weight_fraction_leaf=0.0, n_estimators=10,\n",
       "                      n_jobs=None, oob_score=False, random_state=0, verbose=0,\n",
       "                      warm_start=False)"
      ]
     },
     "execution_count": 51,
     "metadata": {},
     "output_type": "execute_result"
    }
   ],
   "source": [
    "#Training the Random Forest Model\n",
    "from sklearn.ensemble import RandomForestRegressor\n",
    "regressor = RandomForestRegressor(n_estimators=10,random_state =0)\n",
    "regressor.fit(X_train, y_train)"
   ]
  },
  {
   "cell_type": "code",
   "execution_count": 52,
   "metadata": {},
   "outputs": [
    {
     "data": {
      "text/plain": [
       "array([8.])"
      ]
     },
     "execution_count": 52,
     "metadata": {},
     "output_type": "execute_result"
    }
   ],
   "source": [
    "#Predicting new results\n",
    "regressor.predict([[4]])"
   ]
  },
  {
   "cell_type": "code",
   "execution_count": 53,
   "metadata": {
    "scrolled": true
   },
   "outputs": [
    {
     "data": {
      "image/png": "[encoded data removed]",
      "text/plain": [
       "<Figure size 432x288 with 1 Axes>"
      ]
     },
     "metadata": {
      "needs_background": "light"
     },
     "output_type": "display_data"
    }
   ],
   "source": [
    "#Visualizing the Decision Tree\n",
    "X_grid = np.arange(min(X_train), max(X_train), 0.01)\n",
    "X_grid = X_grid.reshape((len(X_grid), 1))\n",
    "plt.scatter(X_train, y_train, color = 'red')\n",
    "plt.plot(X_grid, regressor.predict(X_grid), color = 'blue')\n",
    "plt.title('Score Improvement vs Additional Study Hours (Training set)')\n",
    "plt.xlabel('Additional Study Hours')\n",
    "plt.ylabel('Score Improvement')\n",
    "plt.show()"
   ]
  },
  {
   "cell_type": "code",
   "execution_count": 54,
   "metadata": {},
   "outputs": [
    {
     "name": "stdout",
     "output_type": "stream",
     "text": [
      "stat=0.96, p=0.000000040648778565355314640328\n",
      "Not a normal distribution\n"
     ]
    }
   ],
   "source": [
    "#Hypothesis Testing Using p-value\n",
    "from scipy.stats import shapiro\n",
    "\n",
    "df = df['additional_study_hrs']\n",
    "\n",
    "stat, p = shapiro(df)\n",
    "\n",
    "print('stat=%.2f, p=%.30f' % (stat, p))\n",
    "\n",
    "if p > 0.05:\n",
    "    print('Normal distribution')\n",
    "else:\n",
    "    print('Not a normal distribution')"
   ]
  },
  {
   "cell_type": "code",
   "execution_count": null,
   "metadata": {},
   "outputs": [],
   "source": [
    "#We therefore reject the NULL HYPOTHESIS THAT, the relationship between increased study-time resulting from bicycles donations would not significantly and positively affect the test scores of the students."
   ]
  }
 ],
 "metadata": {
  "kernelspec": {
   "display_name": "Python 3",
   "language": "python",
   "name": "python3"
  },
  "language_info": {
   "codemirror_mode": {
    "name": "ipython",
    "version": 3
   },
   "file_extension": ".py",
   "mimetype": "text/x-python",
   "name": "python",
   "nbconvert_exporter": "python",
   "pygments_lexer": "ipython3",
   "version": "3.7.4"
  }
 },
 "nbformat": 4,
 "nbformat_minor": 2
}
