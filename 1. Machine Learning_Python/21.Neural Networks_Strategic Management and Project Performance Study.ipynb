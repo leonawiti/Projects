{
 "cells": [
  {
   "cell_type": "markdown",
   "metadata": {},
   "source": [
    "# Neural Networks"
   ]
  },
  {
   "cell_type": "markdown",
   "metadata": {},
   "source": [
    "## STRATEGIC MANAGEMENT AND PROJECT PERFORMANCE STUDY"
   ]
  },
  {
   "cell_type": "code",
   "execution_count": 1,
   "metadata": {},
   "outputs": [],
   "source": [
    "#Study Topic\n",
    "#INFLUENCE OF STRATEGIC MANAGEMENT ON PERFORMANCE OF HIV AND AIDS INTERVENTIONS MANAGED BY NON-GOVERNMENTAL ORGANISATIONS IN NYANZA REGION, KENYA"
   ]
  },
  {
   "cell_type": "code",
   "execution_count": 27,
   "metadata": {},
   "outputs": [],
   "source": [
    "#The study was guided by the following objectives: \n",
    "#1. To examine the influence of organisations purpose on performance of HIV and AIDS interventions managed by non-governmental organisations in Nyanza Region. \n",
    "#2. To establish the influence of environmental scanning on performance of HIV and AIDS interventions managed by non-governmental organisations in Nyanza Region. \n",
    "#3. To determine the influence of strategy formulation on performance of HIV and AIDS interventions managed by non-governmental organisations in Nyanza Region. \n",
    "#4. To assess the influence of strategy implementation on performance of HIV and AIDS interventions managed by non-governmental organisations in Nyanza Region. \n",
    "#5. To establish the influence of strategy evaluation and control on performance of HIV and AIDS interventions managed by non-governmental organisations in Nyanza Region. \n",
    "#6. To examine the moderating influence of stakeholder participation on the relationship between strategic management and performance of HIV and AIDS interventions managed by NGOs in Nyanza Region. "
   ]
  },
  {
   "cell_type": "code",
   "execution_count": 28,
   "metadata": {},
   "outputs": [],
   "source": [
    "#importing libraries \n",
    "import numpy as np\n",
    "import pandas as pd\n",
    "\n",
    "import seaborn as sns\n",
    "import matplotlib.pyplot as plt"
   ]
  },
  {
   "cell_type": "code",
   "execution_count": 29,
   "metadata": {},
   "outputs": [],
   "source": [
    "#importing the data \n",
    "df=pd.read_csv('Strategic_Management.csv')\n",
    "X = df.iloc[:,0:6]\n",
    "y = df.iloc[:,6]"
   ]
  },
  {
   "cell_type": "code",
   "execution_count": 30,
   "metadata": {
    "scrolled": true
   },
   "outputs": [
    {
     "data": {
      "text/html": [
       "<div>\n",
       "<style scoped>\n",
       "    .dataframe tbody tr th:only-of-type {\n",
       "        vertical-align: middle;\n",
       "    }\n",
       "\n",
       "    .dataframe tbody tr th {\n",
       "        vertical-align: top;\n",
       "    }\n",
       "\n",
       "    .dataframe thead th {\n",
       "        text-align: right;\n",
       "    }\n",
       "</style>\n",
       "<table border=\"1\" class=\"dataframe\">\n",
       "  <thead>\n",
       "    <tr style=\"text-align: right;\">\n",
       "      <th></th>\n",
       "      <th>OrganizationsPurpose</th>\n",
       "      <th>EnvironmentalScanning</th>\n",
       "      <th>StrategyFormulation</th>\n",
       "      <th>StrategyImplementation</th>\n",
       "      <th>StrategyEvaluation</th>\n",
       "      <th>StakeholderParticipation</th>\n",
       "      <th>Project_Perfomance</th>\n",
       "    </tr>\n",
       "  </thead>\n",
       "  <tbody>\n",
       "    <tr>\n",
       "      <td>0</td>\n",
       "      <td>21</td>\n",
       "      <td>23</td>\n",
       "      <td>29</td>\n",
       "      <td>35</td>\n",
       "      <td>28</td>\n",
       "      <td>21</td>\n",
       "      <td>26</td>\n",
       "    </tr>\n",
       "    <tr>\n",
       "      <td>1</td>\n",
       "      <td>19</td>\n",
       "      <td>25</td>\n",
       "      <td>24</td>\n",
       "      <td>35</td>\n",
       "      <td>24</td>\n",
       "      <td>19</td>\n",
       "      <td>24</td>\n",
       "    </tr>\n",
       "    <tr>\n",
       "      <td>2</td>\n",
       "      <td>21</td>\n",
       "      <td>26</td>\n",
       "      <td>29</td>\n",
       "      <td>38</td>\n",
       "      <td>33</td>\n",
       "      <td>27</td>\n",
       "      <td>29</td>\n",
       "    </tr>\n",
       "    <tr>\n",
       "      <td>3</td>\n",
       "      <td>21</td>\n",
       "      <td>26</td>\n",
       "      <td>29</td>\n",
       "      <td>34</td>\n",
       "      <td>29</td>\n",
       "      <td>24</td>\n",
       "      <td>27</td>\n",
       "    </tr>\n",
       "    <tr>\n",
       "      <td>4</td>\n",
       "      <td>21</td>\n",
       "      <td>30</td>\n",
       "      <td>24</td>\n",
       "      <td>35</td>\n",
       "      <td>29</td>\n",
       "      <td>24</td>\n",
       "      <td>27</td>\n",
       "    </tr>\n",
       "  </tbody>\n",
       "</table>\n",
       "</div>"
      ],
      "text/plain": [
       "   OrganizationsPurpose  EnvironmentalScanning  StrategyFormulation  \\\n",
       "0                    21                     23                   29   \n",
       "1                    19                     25                   24   \n",
       "2                    21                     26                   29   \n",
       "3                    21                     26                   29   \n",
       "4                    21                     30                   24   \n",
       "\n",
       "   StrategyImplementation  StrategyEvaluation  StakeholderParticipation  \\\n",
       "0                      35                  28                        21   \n",
       "1                      35                  24                        19   \n",
       "2                      38                  33                        27   \n",
       "3                      34                  29                        24   \n",
       "4                      35                  29                        24   \n",
       "\n",
       "   Project_Perfomance  \n",
       "0                  26  \n",
       "1                  24  \n",
       "2                  29  \n",
       "3                  27  \n",
       "4                  27  "
      ]
     },
     "execution_count": 30,
     "metadata": {},
     "output_type": "execute_result"
    }
   ],
   "source": [
    "#exploring the data \n",
    "df.head()"
   ]
  },
  {
   "cell_type": "code",
   "execution_count": 31,
   "metadata": {
    "scrolled": true
   },
   "outputs": [
    {
     "data": {
      "text/html": [
       "<div>\n",
       "<style scoped>\n",
       "    .dataframe tbody tr th:only-of-type {\n",
       "        vertical-align: middle;\n",
       "    }\n",
       "\n",
       "    .dataframe tbody tr th {\n",
       "        vertical-align: top;\n",
       "    }\n",
       "\n",
       "    .dataframe thead th {\n",
       "        text-align: right;\n",
       "    }\n",
       "</style>\n",
       "<table border=\"1\" class=\"dataframe\">\n",
       "  <thead>\n",
       "    <tr style=\"text-align: right;\">\n",
       "      <th></th>\n",
       "      <th>OrganizationsPurpose</th>\n",
       "      <th>EnvironmentalScanning</th>\n",
       "      <th>StrategyFormulation</th>\n",
       "      <th>StrategyImplementation</th>\n",
       "      <th>StrategyEvaluation</th>\n",
       "      <th>StakeholderParticipation</th>\n",
       "      <th>Project_Perfomance</th>\n",
       "    </tr>\n",
       "  </thead>\n",
       "  <tbody>\n",
       "    <tr>\n",
       "      <td>count</td>\n",
       "      <td>50.00000</td>\n",
       "      <td>50.000000</td>\n",
       "      <td>50.000000</td>\n",
       "      <td>50.000000</td>\n",
       "      <td>50.000000</td>\n",
       "      <td>50.00000</td>\n",
       "      <td>50.000000</td>\n",
       "    </tr>\n",
       "    <tr>\n",
       "      <td>mean</td>\n",
       "      <td>20.78000</td>\n",
       "      <td>26.640000</td>\n",
       "      <td>28.560000</td>\n",
       "      <td>35.060000</td>\n",
       "      <td>29.880000</td>\n",
       "      <td>23.18000</td>\n",
       "      <td>27.340000</td>\n",
       "    </tr>\n",
       "    <tr>\n",
       "      <td>std</td>\n",
       "      <td>0.70826</td>\n",
       "      <td>2.663127</td>\n",
       "      <td>1.960425</td>\n",
       "      <td>3.542223</td>\n",
       "      <td>3.185682</td>\n",
       "      <td>3.92111</td>\n",
       "      <td>2.016362</td>\n",
       "    </tr>\n",
       "    <tr>\n",
       "      <td>min</td>\n",
       "      <td>19.00000</td>\n",
       "      <td>21.000000</td>\n",
       "      <td>24.000000</td>\n",
       "      <td>27.000000</td>\n",
       "      <td>24.000000</td>\n",
       "      <td>15.00000</td>\n",
       "      <td>23.000000</td>\n",
       "    </tr>\n",
       "    <tr>\n",
       "      <td>25%</td>\n",
       "      <td>21.00000</td>\n",
       "      <td>25.000000</td>\n",
       "      <td>28.000000</td>\n",
       "      <td>33.000000</td>\n",
       "      <td>28.000000</td>\n",
       "      <td>21.00000</td>\n",
       "      <td>26.000000</td>\n",
       "    </tr>\n",
       "    <tr>\n",
       "      <td>50%</td>\n",
       "      <td>21.00000</td>\n",
       "      <td>26.000000</td>\n",
       "      <td>29.000000</td>\n",
       "      <td>35.000000</td>\n",
       "      <td>29.000000</td>\n",
       "      <td>24.00000</td>\n",
       "      <td>27.500000</td>\n",
       "    </tr>\n",
       "    <tr>\n",
       "      <td>75%</td>\n",
       "      <td>21.00000</td>\n",
       "      <td>29.000000</td>\n",
       "      <td>30.000000</td>\n",
       "      <td>38.750000</td>\n",
       "      <td>32.000000</td>\n",
       "      <td>26.00000</td>\n",
       "      <td>29.000000</td>\n",
       "    </tr>\n",
       "    <tr>\n",
       "      <td>max</td>\n",
       "      <td>22.00000</td>\n",
       "      <td>30.000000</td>\n",
       "      <td>30.000000</td>\n",
       "      <td>40.000000</td>\n",
       "      <td>35.000000</td>\n",
       "      <td>30.00000</td>\n",
       "      <td>30.000000</td>\n",
       "    </tr>\n",
       "  </tbody>\n",
       "</table>\n",
       "</div>"
      ],
      "text/plain": [
       "       OrganizationsPurpose  EnvironmentalScanning  StrategyFormulation  \\\n",
       "count              50.00000              50.000000            50.000000   \n",
       "mean               20.78000              26.640000            28.560000   \n",
       "std                 0.70826               2.663127             1.960425   \n",
       "min                19.00000              21.000000            24.000000   \n",
       "25%                21.00000              25.000000            28.000000   \n",
       "50%                21.00000              26.000000            29.000000   \n",
       "75%                21.00000              29.000000            30.000000   \n",
       "max                22.00000              30.000000            30.000000   \n",
       "\n",
       "       StrategyImplementation  StrategyEvaluation  StakeholderParticipation  \\\n",
       "count               50.000000           50.000000                  50.00000   \n",
       "mean                35.060000           29.880000                  23.18000   \n",
       "std                  3.542223            3.185682                   3.92111   \n",
       "min                 27.000000           24.000000                  15.00000   \n",
       "25%                 33.000000           28.000000                  21.00000   \n",
       "50%                 35.000000           29.000000                  24.00000   \n",
       "75%                 38.750000           32.000000                  26.00000   \n",
       "max                 40.000000           35.000000                  30.00000   \n",
       "\n",
       "       Project_Perfomance  \n",
       "count           50.000000  \n",
       "mean            27.340000  \n",
       "std              2.016362  \n",
       "min             23.000000  \n",
       "25%             26.000000  \n",
       "50%             27.500000  \n",
       "75%             29.000000  \n",
       "max             30.000000  "
      ]
     },
     "execution_count": 31,
     "metadata": {},
     "output_type": "execute_result"
    }
   ],
   "source": [
    "df.describe()"
   ]
  },
  {
   "cell_type": "code",
   "execution_count": 32,
   "metadata": {
    "scrolled": true
   },
   "outputs": [
    {
     "data": {
      "text/html": [
       "<div>\n",
       "<style scoped>\n",
       "    .dataframe tbody tr th:only-of-type {\n",
       "        vertical-align: middle;\n",
       "    }\n",
       "\n",
       "    .dataframe tbody tr th {\n",
       "        vertical-align: top;\n",
       "    }\n",
       "\n",
       "    .dataframe thead th {\n",
       "        text-align: right;\n",
       "    }\n",
       "</style>\n",
       "<table border=\"1\" class=\"dataframe\">\n",
       "  <thead>\n",
       "    <tr style=\"text-align: right;\">\n",
       "      <th></th>\n",
       "      <th>OrganizationsPurpose</th>\n",
       "      <th>EnvironmentalScanning</th>\n",
       "      <th>StrategyFormulation</th>\n",
       "      <th>StrategyImplementation</th>\n",
       "      <th>StrategyEvaluation</th>\n",
       "      <th>StakeholderParticipation</th>\n",
       "      <th>Project_Perfomance</th>\n",
       "    </tr>\n",
       "  </thead>\n",
       "  <tbody>\n",
       "    <tr>\n",
       "      <td>OrganizationsPurpose</td>\n",
       "      <td>1.000000</td>\n",
       "      <td>0.465684</td>\n",
       "      <td>0.413898</td>\n",
       "      <td>0.363290</td>\n",
       "      <td>0.566941</td>\n",
       "      <td>0.499555</td>\n",
       "      <td>0.639350</td>\n",
       "    </tr>\n",
       "    <tr>\n",
       "      <td>EnvironmentalScanning</td>\n",
       "      <td>0.465684</td>\n",
       "      <td>1.000000</td>\n",
       "      <td>0.340393</td>\n",
       "      <td>0.595107</td>\n",
       "      <td>0.511992</td>\n",
       "      <td>0.414792</td>\n",
       "      <td>0.722556</td>\n",
       "    </tr>\n",
       "    <tr>\n",
       "      <td>StrategyFormulation</td>\n",
       "      <td>0.413898</td>\n",
       "      <td>0.340393</td>\n",
       "      <td>1.000000</td>\n",
       "      <td>0.359480</td>\n",
       "      <td>0.582839</td>\n",
       "      <td>0.188390</td>\n",
       "      <td>0.611689</td>\n",
       "    </tr>\n",
       "    <tr>\n",
       "      <td>StrategyImplementation</td>\n",
       "      <td>0.363290</td>\n",
       "      <td>0.595107</td>\n",
       "      <td>0.359480</td>\n",
       "      <td>1.000000</td>\n",
       "      <td>0.512465</td>\n",
       "      <td>0.563429</td>\n",
       "      <td>0.837139</td>\n",
       "    </tr>\n",
       "    <tr>\n",
       "      <td>StrategyEvaluation</td>\n",
       "      <td>0.566941</td>\n",
       "      <td>0.511992</td>\n",
       "      <td>0.582839</td>\n",
       "      <td>0.512465</td>\n",
       "      <td>1.000000</td>\n",
       "      <td>0.255000</td>\n",
       "      <td>0.768989</td>\n",
       "    </tr>\n",
       "    <tr>\n",
       "      <td>StakeholderParticipation</td>\n",
       "      <td>0.499555</td>\n",
       "      <td>0.414792</td>\n",
       "      <td>0.188390</td>\n",
       "      <td>0.563429</td>\n",
       "      <td>0.255000</td>\n",
       "      <td>1.000000</td>\n",
       "      <td>0.707102</td>\n",
       "    </tr>\n",
       "    <tr>\n",
       "      <td>Project_Perfomance</td>\n",
       "      <td>0.639350</td>\n",
       "      <td>0.722556</td>\n",
       "      <td>0.611689</td>\n",
       "      <td>0.837139</td>\n",
       "      <td>0.768989</td>\n",
       "      <td>0.707102</td>\n",
       "      <td>1.000000</td>\n",
       "    </tr>\n",
       "  </tbody>\n",
       "</table>\n",
       "</div>"
      ],
      "text/plain": [
       "                          OrganizationsPurpose  EnvironmentalScanning  \\\n",
       "OrganizationsPurpose                  1.000000               0.465684   \n",
       "EnvironmentalScanning                 0.465684               1.000000   \n",
       "StrategyFormulation                   0.413898               0.340393   \n",
       "StrategyImplementation                0.363290               0.595107   \n",
       "StrategyEvaluation                    0.566941               0.511992   \n",
       "StakeholderParticipation              0.499555               0.414792   \n",
       "Project_Perfomance                    0.639350               0.722556   \n",
       "\n",
       "                          StrategyFormulation  StrategyImplementation  \\\n",
       "OrganizationsPurpose                 0.413898                0.363290   \n",
       "EnvironmentalScanning                0.340393                0.595107   \n",
       "StrategyFormulation                  1.000000                0.359480   \n",
       "StrategyImplementation               0.359480                1.000000   \n",
       "StrategyEvaluation                   0.582839                0.512465   \n",
       "StakeholderParticipation             0.188390                0.563429   \n",
       "Project_Perfomance                   0.611689                0.837139   \n",
       "\n",
       "                          StrategyEvaluation  StakeholderParticipation  \\\n",
       "OrganizationsPurpose                0.566941                  0.499555   \n",
       "EnvironmentalScanning               0.511992                  0.414792   \n",
       "StrategyFormulation                 0.582839                  0.188390   \n",
       "StrategyImplementation              0.512465                  0.563429   \n",
       "StrategyEvaluation                  1.000000                  0.255000   \n",
       "StakeholderParticipation            0.255000                  1.000000   \n",
       "Project_Perfomance                  0.768989                  0.707102   \n",
       "\n",
       "                          Project_Perfomance  \n",
       "OrganizationsPurpose                0.639350  \n",
       "EnvironmentalScanning               0.722556  \n",
       "StrategyFormulation                 0.611689  \n",
       "StrategyImplementation              0.837139  \n",
       "StrategyEvaluation                  0.768989  \n",
       "StakeholderParticipation            0.707102  \n",
       "Project_Perfomance                  1.000000  "
      ]
     },
     "execution_count": 32,
     "metadata": {},
     "output_type": "execute_result"
    }
   ],
   "source": [
    "df.corr()"
   ]
  },
  {
   "cell_type": "code",
   "execution_count": 33,
   "metadata": {},
   "outputs": [
    {
     "data": {
      "text/plain": [
       "<seaborn.axisgrid.PairGrid at 0x1c3465be10>"
      ]
     },
     "execution_count": 33,
     "metadata": {},
     "output_type": "execute_result"
    },
    {
     "data": {
      "image/png": "[encoded data removed]",
      "text/plain": [
       "<Figure size 1260x1260 with 56 Axes>"
      ]
     },
     "metadata": {
      "needs_background": "light"
     },
     "output_type": "display_data"
    }
   ],
   "source": [
    "sns.pairplot(df)"
   ]
  },
  {
   "cell_type": "code",
   "execution_count": 34,
   "metadata": {},
   "outputs": [],
   "source": [
    "#Train/Test Split\n",
    "from sklearn.model_selection import train_test_split"
   ]
  },
  {
   "cell_type": "code",
   "execution_count": 35,
   "metadata": {},
   "outputs": [],
   "source": [
    "# Convert Pandas to Numpy for Keras\n",
    "\n",
    "# Features\n",
    "X = df[['OrganizationsPurpose','EnvironmentalScanning','StrategyFormulation','StrategyImplementation','StrategyEvaluation','StakeholderParticipation']].values\n",
    "\n",
    "# Label\n",
    "y = df ['StakeholderParticipation'].values\n",
    "\n",
    "# Split\n",
    "X_train, X_test, y_train, y_test = train_test_split(X,y,test_size=0.3,random_state=42)"
   ]
  },
  {
   "cell_type": "code",
   "execution_count": 36,
   "metadata": {},
   "outputs": [
    {
     "data": {
      "text/plain": [
       "(35, 6)"
      ]
     },
     "execution_count": 36,
     "metadata": {},
     "output_type": "execute_result"
    }
   ],
   "source": [
    "#Confirming the X_train shape\n",
    "X_train.shape"
   ]
  },
  {
   "cell_type": "code",
   "execution_count": 37,
   "metadata": {},
   "outputs": [
    {
     "data": {
      "text/plain": [
       "(35,)"
      ]
     },
     "execution_count": 37,
     "metadata": {},
     "output_type": "execute_result"
    }
   ],
   "source": [
    "#Confirming the y_train shape\n",
    "y_train.shape"
   ]
  },
  {
   "cell_type": "code",
   "execution_count": 38,
   "metadata": {},
   "outputs": [
    {
     "data": {
      "text/plain": [
       "(15, 6)"
      ]
     },
     "execution_count": 38,
     "metadata": {},
     "output_type": "execute_result"
    }
   ],
   "source": [
    "#Confirming the X_test shape\n",
    "X_test.shape"
   ]
  },
  {
   "cell_type": "code",
   "execution_count": 39,
   "metadata": {},
   "outputs": [
    {
     "data": {
      "text/plain": [
       "(15,)"
      ]
     },
     "execution_count": 39,
     "metadata": {},
     "output_type": "execute_result"
    }
   ],
   "source": [
    "#Confirming the y_test shape\n",
    "y_test.shape"
   ]
  },
  {
   "cell_type": "code",
   "execution_count": 40,
   "metadata": {},
   "outputs": [],
   "source": [
    "#Normalizing/Scaling data\n",
    "from sklearn.preprocessing import MinMaxScaler"
   ]
  },
  {
   "cell_type": "code",
   "execution_count": 41,
   "metadata": {},
   "outputs": [],
   "source": [
    "#Checking the documentation for the Scaler\n",
    "#help(MinMaxScaler)"
   ]
  },
  {
   "cell_type": "code",
   "execution_count": 79,
   "metadata": {},
   "outputs": [
    {
     "data": {
      "text/plain": [
       "MinMaxScaler()"
      ]
     },
     "execution_count": 79,
     "metadata": {},
     "output_type": "execute_result"
    }
   ],
   "source": [
    "# To prevent data leakage from the test set, we only fit our scaler to the training set\n",
    "scaler = MinMaxScaler()\n",
    "scaler.fit(X_train)"
   ]
  },
  {
   "cell_type": "code",
   "execution_count": 80,
   "metadata": {},
   "outputs": [],
   "source": [
    "#importing TF libraries\n",
    "import tensorflow as tf\n",
    "from tensorflow.keras.models import Sequential "
   ]
  },
  {
   "cell_type": "code",
   "execution_count": 81,
   "metadata": {},
   "outputs": [],
   "source": [
    "#checking the sequential documentation \n",
    "#help(Sequential)"
   ]
  },
  {
   "cell_type": "code",
   "execution_count": 82,
   "metadata": {},
   "outputs": [],
   "source": [
    "#Creating the model\n",
    "from tensorflow.keras.models import Sequential\n",
    "from tensorflow.keras.layers import Dense, Activation"
   ]
  },
  {
   "cell_type": "code",
   "execution_count": 83,
   "metadata": {},
   "outputs": [],
   "source": [
    "#Adding the layers\n",
    "model = Sequential()\n",
    "\n",
    "model.add(Dense(3))\n",
    "model.add(Dense(3))\n",
    "model.add(Dense(3))"
   ]
  },
  {
   "cell_type": "code",
   "execution_count": 84,
   "metadata": {},
   "outputs": [],
   "source": [
    "model = Sequential()\n",
    "\n",
    "model.add(Dense(4,activation='relu'))\n",
    "model.add(Dense(4,activation='relu'))\n",
    "model.add(Dense(4,activation='relu'))\n",
    "\n",
    "# Final output node for prediction\n",
    "model.add(Dense(1))\n",
    "\n",
    "model.compile(optimizer='rmsprop',loss='mse')"
   ]
  },
  {
   "cell_type": "code",
   "execution_count": 85,
   "metadata": {},
   "outputs": [],
   "source": [
    "X_train = X_train/256\n",
    "y_train = y_train/256"
   ]
  },
  {
   "cell_type": "code",
   "execution_count": 86,
   "metadata": {
    "scrolled": false
   },
   "outputs": [
    {
     "name": "stdout",
     "output_type": "stream",
     "text": [
      "Train on 35 samples\n",
      "Epoch 1/100\n",
      "35/35 [==============================] - 0s 12ms/sample - loss: 1.4181e-05\n",
      "Epoch 2/100\n",
      "35/35 [==============================] - 0s 258us/sample - loss: 1.4954e-08\n",
      "Epoch 3/100\n",
      "35/35 [==============================] - 0s 182us/sample - loss: 4.1116e-09\n",
      "Epoch 4/100\n",
      "35/35 [==============================] - 0s 213us/sample - loss: 2.6528e-09\n",
      "Epoch 5/100\n",
      "35/35 [==============================] - 0s 359us/sample - loss: 2.9238e-09\n",
      "Epoch 6/100\n",
      "35/35 [==============================] - 0s 281us/sample - loss: 2.4543e-09\n",
      "Epoch 7/100\n",
      "35/35 [==============================] - 0s 630us/sample - loss: 1.0018e-08\n",
      "Epoch 8/100\n",
      "35/35 [==============================] - 0s 351us/sample - loss: 2.5255e-09\n",
      "Epoch 9/100\n",
      "35/35 [==============================] - 0s 501us/sample - loss: 2.1937e-09\n",
      "Epoch 10/100\n",
      "35/35 [==============================] - 0s 265us/sample - loss: 1.4631e-08\n",
      "Epoch 11/100\n",
      "35/35 [==============================] - 0s 186us/sample - loss: 9.1165e-08\n",
      "Epoch 12/100\n",
      "35/35 [==============================] - 0s 606us/sample - loss: 6.8946e-08\n",
      "Epoch 13/100\n",
      "35/35 [==============================] - 0s 215us/sample - loss: 6.7804e-09\n",
      "Epoch 14/100\n",
      "35/35 [==============================] - 0s 292us/sample - loss: 5.5317e-09\n",
      "Epoch 15/100\n",
      "35/35 [==============================] - 0s 264us/sample - loss: 3.5034e-09\n",
      "Epoch 16/100\n",
      "35/35 [==============================] - 0s 314us/sample - loss: 3.4392e-09\n",
      "Epoch 17/100\n",
      "35/35 [==============================] - 0s 319us/sample - loss: 3.3047e-09\n",
      "Epoch 18/100\n",
      "35/35 [==============================] - 0s 176us/sample - loss: 3.8114e-09\n",
      "Epoch 19/100\n",
      "35/35 [==============================] - 0s 215us/sample - loss: 3.2822e-09\n",
      "Epoch 20/100\n",
      "35/35 [==============================] - 0s 300us/sample - loss: 3.6085e-09\n",
      "Epoch 21/100\n",
      "35/35 [==============================] - 0s 184us/sample - loss: 3.9692e-09\n",
      "Epoch 22/100\n",
      "35/35 [==============================] - 0s 241us/sample - loss: 7.1132e-09\n",
      "Epoch 23/100\n",
      "35/35 [==============================] - 0s 179us/sample - loss: 3.8636e-09\n",
      "Epoch 24/100\n",
      "35/35 [==============================] - 0s 254us/sample - loss: 3.8619e-08\n",
      "Epoch 25/100\n",
      "35/35 [==============================] - 0s 224us/sample - loss: 2.9088e-07\n",
      "Epoch 26/100\n",
      "35/35 [==============================] - 0s 294us/sample - loss: 9.3546e-07\n",
      "Epoch 27/100\n",
      "35/35 [==============================] - 0s 202us/sample - loss: 3.6418e-07\n",
      "Epoch 28/100\n",
      "35/35 [==============================] - 0s 207us/sample - loss: 1.1591e-07\n",
      "Epoch 29/100\n",
      "35/35 [==============================] - 0s 204us/sample - loss: 9.4185e-08\n",
      "Epoch 30/100\n",
      "35/35 [==============================] - 0s 191us/sample - loss: 8.5061e-08\n",
      "Epoch 31/100\n",
      "35/35 [==============================] - 0s 330us/sample - loss: 1.5774e-07\n",
      "Epoch 32/100\n",
      "35/35 [==============================] - 0s 266us/sample - loss: 4.3007e-07\n",
      "Epoch 33/100\n",
      "35/35 [==============================] - 0s 274us/sample - loss: 7.0799e-07\n",
      "Epoch 34/100\n",
      "35/35 [==============================] - 0s 213us/sample - loss: 2.1069e-07\n",
      "Epoch 35/100\n",
      "35/35 [==============================] - 0s 234us/sample - loss: 9.9914e-08\n",
      "Epoch 36/100\n",
      "35/35 [==============================] - 0s 409us/sample - loss: 7.1700e-08\n",
      "Epoch 37/100\n",
      "35/35 [==============================] - 0s 161us/sample - loss: 5.7226e-08\n",
      "Epoch 38/100\n",
      "35/35 [==============================] - 0s 310us/sample - loss: 7.4441e-08\n",
      "Epoch 39/100\n",
      "35/35 [==============================] - 0s 233us/sample - loss: 2.4155e-07\n",
      "Epoch 40/100\n",
      "35/35 [==============================] - 0s 306us/sample - loss: 7.6879e-07\n",
      "Epoch 41/100\n",
      "35/35 [==============================] - 0s 245us/sample - loss: 4.5565e-07\n",
      "Epoch 42/100\n",
      "35/35 [==============================] - 0s 207us/sample - loss: 1.5102e-07\n",
      "Epoch 43/100\n",
      "35/35 [==============================] - 0s 181us/sample - loss: 9.3486e-08\n",
      "Epoch 44/100\n",
      "35/35 [==============================] - 0s 218us/sample - loss: 1.1884e-07\n",
      "Epoch 45/100\n",
      "35/35 [==============================] - 0s 216us/sample - loss: 2.7041e-07\n",
      "Epoch 46/100\n",
      "35/35 [==============================] - 0s 269us/sample - loss: 4.5736e-07\n",
      "Epoch 47/100\n",
      "35/35 [==============================] - 0s 299us/sample - loss: 2.8531e-07\n",
      "Epoch 48/100\n",
      "35/35 [==============================] - 0s 174us/sample - loss: 2.3684e-07\n",
      "Epoch 49/100\n",
      "35/35 [==============================] - 0s 240us/sample - loss: 2.2827e-07\n",
      "Epoch 50/100\n",
      "35/35 [==============================] - 0s 307us/sample - loss: 1.4159e-07\n",
      "Epoch 51/100\n",
      "35/35 [==============================] - 0s 445us/sample - loss: 1.9657e-07\n",
      "Epoch 52/100\n",
      "35/35 [==============================] - 0s 323us/sample - loss: 2.8842e-07\n",
      "Epoch 53/100\n",
      "35/35 [==============================] - 0s 175us/sample - loss: 3.4652e-07\n",
      "Epoch 54/100\n",
      "35/35 [==============================] - 0s 276us/sample - loss: 4.2958e-07\n",
      "Epoch 55/100\n",
      "35/35 [==============================] - 0s 189us/sample - loss: 2.9979e-07\n",
      "Epoch 56/100\n",
      "35/35 [==============================] - 0s 179us/sample - loss: 1.7175e-07\n",
      "Epoch 57/100\n",
      "35/35 [==============================] - 0s 177us/sample - loss: 1.0710e-07\n",
      "Epoch 58/100\n",
      "35/35 [==============================] - 0s 162us/sample - loss: 1.1490e-07\n",
      "Epoch 59/100\n",
      "35/35 [==============================] - 0s 235us/sample - loss: 1.2888e-07\n",
      "Epoch 60/100\n",
      "35/35 [==============================] - 0s 230us/sample - loss: 2.3255e-07\n",
      "Epoch 61/100\n",
      "35/35 [==============================] - 0s 264us/sample - loss: 4.5516e-07\n",
      "Epoch 62/100\n",
      "35/35 [==============================] - 0s 192us/sample - loss: 3.4022e-07\n",
      "Epoch 63/100\n",
      "35/35 [==============================] - 0s 148us/sample - loss: 2.2404e-07\n",
      "Epoch 64/100\n",
      "35/35 [==============================] - 0s 205us/sample - loss: 1.8646e-07\n",
      "Epoch 65/100\n",
      "35/35 [==============================] - 0s 183us/sample - loss: 3.0670e-07\n",
      "Epoch 66/100\n",
      "35/35 [==============================] - 0s 234us/sample - loss: 3.1922e-07\n",
      "Epoch 67/100\n",
      "35/35 [==============================] - 0s 251us/sample - loss: 2.4532e-07\n",
      "Epoch 68/100\n",
      "35/35 [==============================] - 0s 224us/sample - loss: 1.9555e-07\n",
      "Epoch 69/100\n",
      "35/35 [==============================] - 0s 220us/sample - loss: 2.2462e-07\n",
      "Epoch 70/100\n",
      "35/35 [==============================] - 0s 220us/sample - loss: 2.8818e-07\n",
      "Epoch 71/100\n",
      "35/35 [==============================] - 0s 186us/sample - loss: 3.4741e-07\n",
      "Epoch 72/100\n",
      "35/35 [==============================] - 0s 199us/sample - loss: 2.6465e-07\n",
      "Epoch 73/100\n",
      "35/35 [==============================] - 0s 241us/sample - loss: 2.4275e-07\n",
      "Epoch 74/100\n",
      "35/35 [==============================] - 0s 206us/sample - loss: 1.9692e-07\n",
      "Epoch 75/100\n",
      "35/35 [==============================] - 0s 218us/sample - loss: 1.8059e-07\n",
      "Epoch 76/100\n",
      "35/35 [==============================] - 0s 198us/sample - loss: 2.4029e-07\n",
      "Epoch 77/100\n",
      "35/35 [==============================] - 0s 400us/sample - loss: 3.0168e-07\n",
      "Epoch 78/100\n",
      "35/35 [==============================] - 0s 442us/sample - loss: 3.0452e-07\n",
      "Epoch 79/100\n",
      "35/35 [==============================] - 0s 323us/sample - loss: 3.2331e-07\n",
      "Epoch 80/100\n",
      "35/35 [==============================] - 0s 207us/sample - loss: 1.6507e-07\n",
      "Epoch 81/100\n",
      "35/35 [==============================] - 0s 201us/sample - loss: 2.4217e-07\n",
      "Epoch 82/100\n",
      "35/35 [==============================] - 0s 172us/sample - loss: 2.7295e-07\n",
      "Epoch 83/100\n",
      "35/35 [==============================] - 0s 223us/sample - loss: 3.0765e-07\n",
      "Epoch 84/100\n",
      "35/35 [==============================] - 0s 202us/sample - loss: 2.2302e-07\n",
      "Epoch 85/100\n",
      "35/35 [==============================] - 0s 298us/sample - loss: 2.2058e-07\n",
      "Epoch 86/100\n",
      "35/35 [==============================] - 0s 308us/sample - loss: 1.8016e-07\n",
      "Epoch 87/100\n",
      "35/35 [==============================] - 0s 273us/sample - loss: 1.8226e-07\n",
      "Epoch 88/100\n",
      "35/35 [==============================] - 0s 277us/sample - loss: 3.5540e-07\n",
      "Epoch 89/100\n",
      "35/35 [==============================] - 0s 241us/sample - loss: 3.6402e-07\n",
      "Epoch 90/100\n",
      "35/35 [==============================] - 0s 223us/sample - loss: 2.5770e-07\n",
      "Epoch 91/100\n",
      "35/35 [==============================] - 0s 258us/sample - loss: 1.5444e-07\n",
      "Epoch 92/100\n",
      "35/35 [==============================] - 0s 197us/sample - loss: 1.8397e-07\n"
     ]
    },
    {
     "name": "stdout",
     "output_type": "stream",
     "text": [
      "Epoch 93/100\n",
      "35/35 [==============================] - 0s 272us/sample - loss: 1.7853e-07\n",
      "Epoch 94/100\n",
      "35/35 [==============================] - 0s 187us/sample - loss: 2.1622e-07\n",
      "Epoch 95/100\n",
      "35/35 [==============================] - 0s 174us/sample - loss: 3.4772e-07\n",
      "Epoch 96/100\n",
      "35/35 [==============================] - 0s 194us/sample - loss: 2.8960e-07\n",
      "Epoch 97/100\n",
      "35/35 [==============================] - 0s 326us/sample - loss: 3.2181e-07\n",
      "Epoch 98/100\n",
      "35/35 [==============================] - 0s 311us/sample - loss: 3.1357e-07\n",
      "Epoch 99/100\n",
      "35/35 [==============================] - 0s 304us/sample - loss: 2.3686e-07\n",
      "Epoch 100/100\n",
      "35/35 [==============================] - 0s 209us/sample - loss: 1.9881e-07\n"
     ]
    },
    {
     "data": {
      "text/plain": [
       "<tensorflow.python.keras.callbacks.History at 0x1c380bf990>"
      ]
     },
     "execution_count": 86,
     "metadata": {},
     "output_type": "execute_result"
    }
   ],
   "source": [
    "#training the model\n",
    "model.fit(X_train,y_train,epochs=100)"
   ]
  },
  {
   "cell_type": "code",
   "execution_count": 87,
   "metadata": {
    "scrolled": false
   },
   "outputs": [
    {
     "data": {
      "text/plain": [
       "{'loss': [1.4180535598435589e-05,\n",
       "  1.4954372451470022e-08,\n",
       "  4.1116179651444285e-09,\n",
       "  2.652847846158173e-09,\n",
       "  2.9237917357046887e-09,\n",
       "  2.4542952178511054e-09,\n",
       "  1.0017581481796307e-08,\n",
       "  2.525465952236366e-09,\n",
       "  2.193653614313007e-09,\n",
       "  1.4630749995652488e-08,\n",
       "  9.11652486073373e-08,\n",
       "  6.894586813846867e-08,\n",
       "  6.780427508346065e-09,\n",
       "  5.531741084244653e-09,\n",
       "  3.503368401729696e-09,\n",
       "  3.4392158644789917e-09,\n",
       "  3.3046934141570514e-09,\n",
       "  3.811421591036281e-09,\n",
       "  3.2821634299295965e-09,\n",
       "  3.608502277937678e-09,\n",
       "  3.969154884129823e-09,\n",
       "  7.113166030795323e-09,\n",
       "  3.863584119301322e-09,\n",
       "  3.861894210136338e-08,\n",
       "  2.9088282807216663e-07,\n",
       "  9.354579609472629e-07,\n",
       "  3.6418194123858226e-07,\n",
       "  1.1591492535347113e-07,\n",
       "  9.418472533947612e-08,\n",
       "  8.506124170740544e-08,\n",
       "  1.5773972401283182e-07,\n",
       "  4.300692272149068e-07,\n",
       "  7.079852959382801e-07,\n",
       "  2.106945848774038e-07,\n",
       "  9.991431641408001e-08,\n",
       "  7.170010454566571e-08,\n",
       "  5.7225985626376184e-08,\n",
       "  7.44406713287e-08,\n",
       "  2.4155174125033747e-07,\n",
       "  7.68793193271579e-07,\n",
       "  4.5564978969585875e-07,\n",
       "  1.5102396661502228e-07,\n",
       "  9.348643763879799e-08,\n",
       "  1.1884404987735512e-07,\n",
       "  2.7040890537526656e-07,\n",
       "  4.5736019274045245e-07,\n",
       "  2.853073794994998e-07,\n",
       "  2.3684332818772547e-07,\n",
       "  2.2827231142790488e-07,\n",
       "  1.415868017115177e-07,\n",
       "  1.9657158085400234e-07,\n",
       "  2.88421026490531e-07,\n",
       "  3.465249871429218e-07,\n",
       "  4.2958225614191697e-07,\n",
       "  2.997936718429628e-07,\n",
       "  1.717497890954941e-07,\n",
       "  1.0709553208698707e-07,\n",
       "  1.1489566743096345e-07,\n",
       "  1.2888227079851535e-07,\n",
       "  2.3254635591131644e-07,\n",
       "  4.551586609328037e-07,\n",
       "  3.4022222134158903e-07,\n",
       "  2.240418126575605e-07,\n",
       "  1.8645731237094358e-07,\n",
       "  3.066976538385851e-07,\n",
       "  3.1921678425663103e-07,\n",
       "  2.453163119753299e-07,\n",
       "  1.955487570220222e-07,\n",
       "  2.2462184980603136e-07,\n",
       "  2.8818295975595125e-07,\n",
       "  3.4741363330275425e-07,\n",
       "  2.646536074735195e-07,\n",
       "  2.4275483221052647e-07,\n",
       "  1.9692263647032502e-07,\n",
       "  1.805921747128585e-07,\n",
       "  2.402868639299933e-07,\n",
       "  3.0168373460323244e-07,\n",
       "  3.0451803192071177e-07,\n",
       "  3.233061761420686e-07,\n",
       "  1.6506709122105738e-07,\n",
       "  2.4216823654959236e-07,\n",
       "  2.729518679903517e-07,\n",
       "  3.076549644122549e-07,\n",
       "  2.2302247901149843e-07,\n",
       "  2.2057959857387946e-07,\n",
       "  1.8015710858370378e-07,\n",
       "  1.8225714727902543e-07,\n",
       "  3.553990130252974e-07,\n",
       "  3.640150526150267e-07,\n",
       "  2.5770121478022444e-07,\n",
       "  1.5444349758451738e-07,\n",
       "  1.8396774643341424e-07,\n",
       "  1.7853227721583868e-07,\n",
       "  2.162197306785986e-07,\n",
       "  3.4771646905288174e-07,\n",
       "  2.8959654027208413e-07,\n",
       "  3.218108661582976e-07,\n",
       "  3.135702749139974e-07,\n",
       "  2.3685509883567386e-07,\n",
       "  1.988072755563865e-07]}"
      ]
     },
     "execution_count": 87,
     "metadata": {},
     "output_type": "execute_result"
    }
   ],
   "source": [
    "#Performance Evaluation\n",
    "model.history.history"
   ]
  },
  {
   "cell_type": "code",
   "execution_count": 88,
   "metadata": {},
   "outputs": [],
   "source": [
    "loss = model.history.history['loss']"
   ]
  },
  {
   "cell_type": "code",
   "execution_count": 89,
   "metadata": {
    "scrolled": true
   },
   "outputs": [
    {
     "data": {
      "image/png": "[encoded data removed]",
      "text/plain": [
       "<Figure size 432x288 with 1 Axes>"
      ]
     },
     "metadata": {
      "needs_background": "light"
     },
     "output_type": "display_data"
    }
   ],
   "source": [
    "sns.lineplot(x=range(len(loss)),y=loss)\n",
    "plt.title(\"Training Loss per Epoch\");"
   ]
  },
  {
   "cell_type": "code",
   "execution_count": 90,
   "metadata": {
    "scrolled": true
   },
   "outputs": [
    {
     "data": {
      "text/plain": [
       "['loss']"
      ]
     },
     "execution_count": 90,
     "metadata": {},
     "output_type": "execute_result"
    }
   ],
   "source": [
    "#Compare final evaluation (MSE) on training set and test set.\n",
    "model.metrics_names"
   ]
  },
  {
   "cell_type": "code",
   "execution_count": 91,
   "metadata": {},
   "outputs": [],
   "source": [
    "training_score = model.evaluate(X_train,y_train,verbose=0)\n",
    "test_score = model.evaluate(X_test,y_test,verbose=0)"
   ]
  },
  {
   "cell_type": "code",
   "execution_count": 92,
   "metadata": {},
   "outputs": [
    {
     "data": {
      "text/plain": [
       "2.684187498808959e-07"
      ]
     },
     "execution_count": 92,
     "metadata": {},
     "output_type": "execute_result"
    }
   ],
   "source": [
    "training_score"
   ]
  },
  {
   "cell_type": "code",
   "execution_count": 93,
   "metadata": {},
   "outputs": [
    {
     "data": {
      "text/plain": [
       "187.91880798339844"
      ]
     },
     "execution_count": 93,
     "metadata": {},
     "output_type": "execute_result"
    }
   ],
   "source": [
    "test_score"
   ]
  },
  {
   "cell_type": "code",
   "execution_count": 94,
   "metadata": {},
   "outputs": [],
   "source": [
    "#Further Evaluation\n",
    "test_predictions = model.predict(X_test)"
   ]
  },
  {
   "cell_type": "code",
   "execution_count": 95,
   "metadata": {
    "scrolled": false
   },
   "outputs": [
    {
     "data": {
      "text/plain": [
       "array([[10.270649 ],\n",
       "       [11.531342 ],\n",
       "       [11.442065 ],\n",
       "       [10.295171 ],\n",
       "       [10.788583 ],\n",
       "       [10.730273 ],\n",
       "       [11.565593 ],\n",
       "       [11.531342 ],\n",
       "       [11.285148 ],\n",
       "       [ 9.3151865],\n",
       "       [11.024768 ],\n",
       "       [ 9.914904 ],\n",
       "       [11.287818 ],\n",
       "       [10.081335 ],\n",
       "       [10.655435 ]], dtype=float32)"
      ]
     },
     "execution_count": 95,
     "metadata": {},
     "output_type": "execute_result"
    }
   ],
   "source": [
    "test_predictions"
   ]
  },
  {
   "cell_type": "code",
   "execution_count": 96,
   "metadata": {
    "scrolled": true
   },
   "outputs": [],
   "source": [
    "pred_df= pd.DataFrame(y_test,columns=['Test Y'])"
   ]
  },
  {
   "cell_type": "code",
   "execution_count": 97,
   "metadata": {
    "scrolled": true
   },
   "outputs": [
    {
     "data": {
      "text/html": [
       "<div>\n",
       "<style scoped>\n",
       "    .dataframe tbody tr th:only-of-type {\n",
       "        vertical-align: middle;\n",
       "    }\n",
       "\n",
       "    .dataframe tbody tr th {\n",
       "        vertical-align: top;\n",
       "    }\n",
       "\n",
       "    .dataframe thead th {\n",
       "        text-align: right;\n",
       "    }\n",
       "</style>\n",
       "<table border=\"1\" class=\"dataframe\">\n",
       "  <thead>\n",
       "    <tr style=\"text-align: right;\">\n",
       "      <th></th>\n",
       "      <th>Test Y</th>\n",
       "    </tr>\n",
       "  </thead>\n",
       "  <tbody>\n",
       "    <tr>\n",
       "      <td>0</td>\n",
       "      <td>15</td>\n",
       "    </tr>\n",
       "    <tr>\n",
       "      <td>1</td>\n",
       "      <td>28</td>\n",
       "    </tr>\n",
       "    <tr>\n",
       "      <td>2</td>\n",
       "      <td>26</td>\n",
       "    </tr>\n",
       "    <tr>\n",
       "      <td>3</td>\n",
       "      <td>23</td>\n",
       "    </tr>\n",
       "    <tr>\n",
       "      <td>4</td>\n",
       "      <td>19</td>\n",
       "    </tr>\n",
       "    <tr>\n",
       "      <td>5</td>\n",
       "      <td>24</td>\n",
       "    </tr>\n",
       "    <tr>\n",
       "      <td>6</td>\n",
       "      <td>30</td>\n",
       "    </tr>\n",
       "    <tr>\n",
       "      <td>7</td>\n",
       "      <td>28</td>\n",
       "    </tr>\n",
       "    <tr>\n",
       "      <td>8</td>\n",
       "      <td>23</td>\n",
       "    </tr>\n",
       "    <tr>\n",
       "      <td>9</td>\n",
       "      <td>17</td>\n",
       "    </tr>\n",
       "    <tr>\n",
       "      <td>10</td>\n",
       "      <td>26</td>\n",
       "    </tr>\n",
       "    <tr>\n",
       "      <td>11</td>\n",
       "      <td>24</td>\n",
       "    </tr>\n",
       "    <tr>\n",
       "      <td>12</td>\n",
       "      <td>27</td>\n",
       "    </tr>\n",
       "    <tr>\n",
       "      <td>13</td>\n",
       "      <td>26</td>\n",
       "    </tr>\n",
       "    <tr>\n",
       "      <td>14</td>\n",
       "      <td>24</td>\n",
       "    </tr>\n",
       "  </tbody>\n",
       "</table>\n",
       "</div>"
      ],
      "text/plain": [
       "    Test Y\n",
       "0       15\n",
       "1       28\n",
       "2       26\n",
       "3       23\n",
       "4       19\n",
       "5       24\n",
       "6       30\n",
       "7       28\n",
       "8       23\n",
       "9       17\n",
       "10      26\n",
       "11      24\n",
       "12      27\n",
       "13      26\n",
       "14      24"
      ]
     },
     "execution_count": 97,
     "metadata": {},
     "output_type": "execute_result"
    }
   ],
   "source": [
    "pred_df"
   ]
  },
  {
   "cell_type": "code",
   "execution_count": 98,
   "metadata": {},
   "outputs": [],
   "source": [
    "test_predictions = pd.Series(test_predictions.reshape(15,))"
   ]
  },
  {
   "cell_type": "code",
   "execution_count": 99,
   "metadata": {
    "scrolled": true
   },
   "outputs": [
    {
     "data": {
      "text/plain": [
       "0     10.270649\n",
       "1     11.531342\n",
       "2     11.442065\n",
       "3     10.295171\n",
       "4     10.788583\n",
       "5     10.730273\n",
       "6     11.565593\n",
       "7     11.531342\n",
       "8     11.285148\n",
       "9      9.315187\n",
       "10    11.024768\n",
       "11     9.914904\n",
       "12    11.287818\n",
       "13    10.081335\n",
       "14    10.655435\n",
       "dtype: float32"
      ]
     },
     "execution_count": 99,
     "metadata": {},
     "output_type": "execute_result"
    }
   ],
   "source": [
    "test_predictions"
   ]
  },
  {
   "cell_type": "code",
   "execution_count": 100,
   "metadata": {},
   "outputs": [],
   "source": [
    "pred_df = pd.concat([pred_df,test_predictions],axis=1)"
   ]
  },
  {
   "cell_type": "code",
   "execution_count": 101,
   "metadata": {},
   "outputs": [],
   "source": [
    "pred_df.columns = ['Test Y','Model Predictions']"
   ]
  },
  {
   "cell_type": "code",
   "execution_count": 102,
   "metadata": {
    "scrolled": true
   },
   "outputs": [
    {
     "data": {
      "text/html": [
       "<div>\n",
       "<style scoped>\n",
       "    .dataframe tbody tr th:only-of-type {\n",
       "        vertical-align: middle;\n",
       "    }\n",
       "\n",
       "    .dataframe tbody tr th {\n",
       "        vertical-align: top;\n",
       "    }\n",
       "\n",
       "    .dataframe thead th {\n",
       "        text-align: right;\n",
       "    }\n",
       "</style>\n",
       "<table border=\"1\" class=\"dataframe\">\n",
       "  <thead>\n",
       "    <tr style=\"text-align: right;\">\n",
       "      <th></th>\n",
       "      <th>Test Y</th>\n",
       "      <th>Model Predictions</th>\n",
       "    </tr>\n",
       "  </thead>\n",
       "  <tbody>\n",
       "    <tr>\n",
       "      <td>0</td>\n",
       "      <td>15</td>\n",
       "      <td>10.270649</td>\n",
       "    </tr>\n",
       "    <tr>\n",
       "      <td>1</td>\n",
       "      <td>28</td>\n",
       "      <td>11.531342</td>\n",
       "    </tr>\n",
       "    <tr>\n",
       "      <td>2</td>\n",
       "      <td>26</td>\n",
       "      <td>11.442065</td>\n",
       "    </tr>\n",
       "    <tr>\n",
       "      <td>3</td>\n",
       "      <td>23</td>\n",
       "      <td>10.295171</td>\n",
       "    </tr>\n",
       "    <tr>\n",
       "      <td>4</td>\n",
       "      <td>19</td>\n",
       "      <td>10.788583</td>\n",
       "    </tr>\n",
       "    <tr>\n",
       "      <td>5</td>\n",
       "      <td>24</td>\n",
       "      <td>10.730273</td>\n",
       "    </tr>\n",
       "    <tr>\n",
       "      <td>6</td>\n",
       "      <td>30</td>\n",
       "      <td>11.565593</td>\n",
       "    </tr>\n",
       "    <tr>\n",
       "      <td>7</td>\n",
       "      <td>28</td>\n",
       "      <td>11.531342</td>\n",
       "    </tr>\n",
       "    <tr>\n",
       "      <td>8</td>\n",
       "      <td>23</td>\n",
       "      <td>11.285148</td>\n",
       "    </tr>\n",
       "    <tr>\n",
       "      <td>9</td>\n",
       "      <td>17</td>\n",
       "      <td>9.315187</td>\n",
       "    </tr>\n",
       "    <tr>\n",
       "      <td>10</td>\n",
       "      <td>26</td>\n",
       "      <td>11.024768</td>\n",
       "    </tr>\n",
       "    <tr>\n",
       "      <td>11</td>\n",
       "      <td>24</td>\n",
       "      <td>9.914904</td>\n",
       "    </tr>\n",
       "    <tr>\n",
       "      <td>12</td>\n",
       "      <td>27</td>\n",
       "      <td>11.287818</td>\n",
       "    </tr>\n",
       "    <tr>\n",
       "      <td>13</td>\n",
       "      <td>26</td>\n",
       "      <td>10.081335</td>\n",
       "    </tr>\n",
       "    <tr>\n",
       "      <td>14</td>\n",
       "      <td>24</td>\n",
       "      <td>10.655435</td>\n",
       "    </tr>\n",
       "  </tbody>\n",
       "</table>\n",
       "</div>"
      ],
      "text/plain": [
       "    Test Y  Model Predictions\n",
       "0       15          10.270649\n",
       "1       28          11.531342\n",
       "2       26          11.442065\n",
       "3       23          10.295171\n",
       "4       19          10.788583\n",
       "5       24          10.730273\n",
       "6       30          11.565593\n",
       "7       28          11.531342\n",
       "8       23          11.285148\n",
       "9       17           9.315187\n",
       "10      26          11.024768\n",
       "11      24           9.914904\n",
       "12      27          11.287818\n",
       "13      26          10.081335\n",
       "14      24          10.655435"
      ]
     },
     "execution_count": 102,
     "metadata": {},
     "output_type": "execute_result"
    }
   ],
   "source": [
    "pred_df"
   ]
  },
  {
   "cell_type": "code",
   "execution_count": 103,
   "metadata": {
    "scrolled": true
   },
   "outputs": [
    {
     "data": {
      "text/plain": [
       "<matplotlib.axes._subplots.AxesSubplot at 0x1c383203d0>"
      ]
     },
     "execution_count": 103,
     "metadata": {},
     "output_type": "execute_result"
    },
    {
     "data": {
      "image/png": "[encoded data removed]",
      "text/plain": [
       "<Figure size 432x288 with 1 Axes>"
      ]
     },
     "metadata": {
      "needs_background": "light"
     },
     "output_type": "display_data"
    }
   ],
   "source": [
    "#Visualizing the predictions against the actual values in the test data\n",
    "sns.scatterplot(x='Test Y',y='Model Predictions',data=pred_df)"
   ]
  },
  {
   "cell_type": "code",
   "execution_count": 104,
   "metadata": {},
   "outputs": [],
   "source": [
    "pred_df['Error'] = pred_df['Test Y'] - pred_df['Model Predictions']"
   ]
  },
  {
   "cell_type": "code",
   "execution_count": 105,
   "metadata": {
    "scrolled": true
   },
   "outputs": [
    {
     "data": {
      "text/plain": [
       "<matplotlib.axes._subplots.AxesSubplot at 0x1c3829f810>"
      ]
     },
     "execution_count": 105,
     "metadata": {},
     "output_type": "execute_result"
    },
    {
     "data": {
      "image/png": "[encoded data removed]",
      "text/plain": [
       "<Figure size 432x288 with 1 Axes>"
      ]
     },
     "metadata": {
      "needs_background": "light"
     },
     "output_type": "display_data"
    }
   ],
   "source": [
    "sns.distplot(pred_df['Error'],bins=50)"
   ]
  },
  {
   "cell_type": "code",
   "execution_count": 106,
   "metadata": {},
   "outputs": [],
   "source": [
    "from sklearn.metrics import mean_absolute_error,mean_squared_error"
   ]
  },
  {
   "cell_type": "code",
   "execution_count": 107,
   "metadata": {},
   "outputs": [
    {
     "data": {
      "text/plain": [
       "13.21869265238444"
      ]
     },
     "execution_count": 107,
     "metadata": {},
     "output_type": "execute_result"
    }
   ],
   "source": [
    "mean_absolute_error(pred_df['Test Y'],pred_df['Model Predictions'])"
   ]
  },
  {
   "cell_type": "code",
   "execution_count": 108,
   "metadata": {},
   "outputs": [
    {
     "data": {
      "text/plain": [
       "187.91882317078478"
      ]
     },
     "execution_count": 108,
     "metadata": {},
     "output_type": "execute_result"
    }
   ],
   "source": [
    "mean_squared_error(pred_df['Test Y'],pred_df['Model Predictions'])"
   ]
  },
  {
   "cell_type": "code",
   "execution_count": 109,
   "metadata": {},
   "outputs": [
    {
     "data": {
      "text/plain": [
       "187.91880798339844"
      ]
     },
     "execution_count": 109,
     "metadata": {},
     "output_type": "execute_result"
    }
   ],
   "source": [
    "# Essentially the same thing, difference just due to precision\n",
    "test_score"
   ]
  },
  {
   "cell_type": "code",
   "execution_count": 110,
   "metadata": {},
   "outputs": [
    {
     "data": {
      "text/plain": [
       "13.708348112861682"
      ]
     },
     "execution_count": 110,
     "metadata": {},
     "output_type": "execute_result"
    }
   ],
   "source": [
    "#RMSE\n",
    "test_score**0.5"
   ]
  },
  {
   "cell_type": "code",
   "execution_count": 111,
   "metadata": {},
   "outputs": [],
   "source": [
    "#Predicting Brand New Data\n",
    "\n",
    "#['OrganizationsPurpose','EnvironmentalScanning','StrategyFormulation','StrategyImplementation','StrategyEvaluation','StakeholderParticipation']]\n",
    "\n",
    "New_organization=[[40,35,40,45,39,25]]"
   ]
  },
  {
   "cell_type": "code",
   "execution_count": 112,
   "metadata": {},
   "outputs": [
    {
     "data": {
      "text/plain": [
       "array([[3407.        ,  993.22222222, 1702.66666667,  884.07692308,\n",
       "         905.45454545,  425.66666667]])"
      ]
     },
     "execution_count": 112,
     "metadata": {},
     "output_type": "execute_result"
    }
   ],
   "source": [
    "#Scaling the data\n",
    "scaler.transform(New_organization)"
   ]
  },
  {
   "cell_type": "code",
   "execution_count": 113,
   "metadata": {},
   "outputs": [],
   "source": [
    "New_organization = scaler.transform(New_organization)"
   ]
  },
  {
   "cell_type": "code",
   "execution_count": 114,
   "metadata": {},
   "outputs": [
    {
     "data": {
      "text/plain": [
       "array([[813.0184]], dtype=float32)"
      ]
     },
     "execution_count": 114,
     "metadata": {},
     "output_type": "execute_result"
    }
   ],
   "source": [
    "model.predict(New_organization)"
   ]
  },
  {
   "cell_type": "code",
   "execution_count": 115,
   "metadata": {},
   "outputs": [],
   "source": [
    "#saving the model and loading a model\n",
    "from tensorflow.keras.models import load_model"
   ]
  },
  {
   "cell_type": "code",
   "execution_count": 116,
   "metadata": {},
   "outputs": [],
   "source": [
    "#This creates a HDF file \n",
    "model.save('Strategy_Model.h5')"
   ]
  },
  {
   "cell_type": "code",
   "execution_count": 117,
   "metadata": {
    "scrolled": true
   },
   "outputs": [
    {
     "name": "stdout",
     "output_type": "stream",
     "text": [
      "WARNING:tensorflow:From /Users/admin/opt/anaconda3/lib/python3.7/site-packages/tensorflow_core/python/ops/init_ops.py:97: calling GlorotUniform.__init__ (from tensorflow.python.ops.init_ops) with dtype is deprecated and will be removed in a future version.\n",
      "Instructions for updating:\n",
      "Call initializer instance with the dtype argument instead of passing it to the constructor\n",
      "WARNING:tensorflow:From /Users/admin/opt/anaconda3/lib/python3.7/site-packages/tensorflow_core/python/ops/init_ops.py:97: calling Zeros.__init__ (from tensorflow.python.ops.init_ops) with dtype is deprecated and will be removed in a future version.\n",
      "Instructions for updating:\n",
      "Call initializer instance with the dtype argument instead of passing it to the constructor\n",
      "WARNING:tensorflow:Sequential models without an `input_shape` passed to the first layer cannot reload their optimizer state. As a result, your model isstarting with a freshly initialized optimizer.\n"
     ]
    }
   ],
   "source": [
    "later_model = load_model('Strategy_Model.h5')"
   ]
  },
  {
   "cell_type": "code",
   "execution_count": 118,
   "metadata": {},
   "outputs": [
    {
     "data": {
      "text/plain": [
       "array([[813.0184]], dtype=float32)"
      ]
     },
     "execution_count": 118,
     "metadata": {},
     "output_type": "execute_result"
    }
   ],
   "source": [
    "later_model.predict(New_organization)"
   ]
  },
  {
   "cell_type": "code",
   "execution_count": 119,
   "metadata": {},
   "outputs": [
    {
     "data": {
      "text/plain": [
       "813"
      ]
     },
     "execution_count": 119,
     "metadata": {},
     "output_type": "execute_result"
    }
   ],
   "source": [
    "int(later_model.predict(New_organization))"
   ]
  },
  {
   "cell_type": "code",
   "execution_count": null,
   "metadata": {},
   "outputs": [],
   "source": [
    "#Conclusion:\n",
    "#This model wasn't a great one,neural networks do well with a lot more data."
   ]
  }
 ],
 "metadata": {
  "kernelspec": {
   "display_name": "Python 3",
   "language": "python",
   "name": "python3"
  },
  "language_info": {
   "codemirror_mode": {
    "name": "ipython",
    "version": 3
   },
   "file_extension": ".py",
   "mimetype": "text/x-python",
   "name": "python",
   "nbconvert_exporter": "python",
   "pygments_lexer": "ipython3",
   "version": "3.7.4"
  }
 },
 "nbformat": 4,
 "nbformat_minor": 2
}
