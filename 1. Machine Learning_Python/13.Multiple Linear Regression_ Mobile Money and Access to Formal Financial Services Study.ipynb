{
 "cells": [
  {
   "cell_type": "markdown",
   "metadata": {},
   "source": [
    "# KNOWLEDGE AND PERCEPTION ON MOBILE MONEY AND ITS INFLUENCE ON ACCESS TO FORMAL FINANCIAL SERVICES AMONG THE YOUTHS "
   ]
  },
  {
   "cell_type": "code",
   "execution_count": 1,
   "metadata": {},
   "outputs": [],
   "source": [
    "#Topic of the study \n",
    "#KNOWLEDGE AND PERCEPTION ON MOBILE MONEY AND ITS INFLUENCE ON ACCESS TO FORMAL FINANCIAL SERVICES AMONG THE YOUTHS IN SEME SUB COUNTY: A CASE OF KOMBEWA DIVISION "
   ]
  },
  {
   "cell_type": "code",
   "execution_count": 2,
   "metadata": {},
   "outputs": [],
   "source": [
    "#Objectives of the study \n",
    "#i.To determine the extent to which perception on mobile money influences access to formal financial services \n",
    "#ii.To assess the extent to which knowledge on the use of mobile money influences access to formal financial services.\n",
    "#iii.To examine the extent to which cost of mobile money influences access to formal financial services. \n",
    "#iv.To establish the extent to which access to mobile phone influences  access to formal financial services"
   ]
  },
  {
   "cell_type": "code",
   "execution_count": 3,
   "metadata": {},
   "outputs": [],
   "source": [
    "#Objectives of the study \n",
    "#i.H0:There is no significant relationship between perception on mobile money and access to formal financial services \n",
    "#ii.H0:There is no significant relationship between knowledge on the use of mobile money and access to formal financial services.\n",
    "#iii.H0:There is no relationship between cost of mobile money and access to formal financial services. \n",
    "#iv.H0:There is no relationship between access to mobile phone and access to formal financial services"
   ]
  },
  {
   "cell_type": "code",
   "execution_count": 4,
   "metadata": {},
   "outputs": [],
   "source": [
    "#Importing libraries\n",
    "import pandas as pd"
   ]
  },
  {
   "cell_type": "code",
   "execution_count": 5,
   "metadata": {},
   "outputs": [],
   "source": [
    "#Importing the data\n",
    "df=pd.read_csv('FinancialServices.csv')\n",
    "X=df.drop('AccesstoFormalFinancialServises',1)\n",
    "y=df[['AccesstoFormalFinancialServises']]"
   ]
  },
  {
   "cell_type": "code",
   "execution_count": 6,
   "metadata": {
    "scrolled": true
   },
   "outputs": [
    {
     "data": {
      "text/html": [
       "<div>\n",
       "<style scoped>\n",
       "    .dataframe tbody tr th:only-of-type {\n",
       "        vertical-align: middle;\n",
       "    }\n",
       "\n",
       "    .dataframe tbody tr th {\n",
       "        vertical-align: top;\n",
       "    }\n",
       "\n",
       "    .dataframe thead th {\n",
       "        text-align: right;\n",
       "    }\n",
       "</style>\n",
       "<table border=\"1\" class=\"dataframe\">\n",
       "  <thead>\n",
       "    <tr style=\"text-align: right;\">\n",
       "      <th></th>\n",
       "      <th>AccesstoFormalFinancialServises</th>\n",
       "      <th>AccesstoMobilePhone</th>\n",
       "      <th>CostEffectivenessofMobileMoney</th>\n",
       "      <th>PerceptiononMobileMoney</th>\n",
       "      <th>KnowlegeonMobileMoney</th>\n",
       "    </tr>\n",
       "  </thead>\n",
       "  <tbody>\n",
       "    <tr>\n",
       "      <td>0</td>\n",
       "      <td>28</td>\n",
       "      <td>41</td>\n",
       "      <td>42</td>\n",
       "      <td>37</td>\n",
       "      <td>38</td>\n",
       "    </tr>\n",
       "    <tr>\n",
       "      <td>1</td>\n",
       "      <td>34</td>\n",
       "      <td>42</td>\n",
       "      <td>39</td>\n",
       "      <td>38</td>\n",
       "      <td>41</td>\n",
       "    </tr>\n",
       "    <tr>\n",
       "      <td>2</td>\n",
       "      <td>38</td>\n",
       "      <td>50</td>\n",
       "      <td>46</td>\n",
       "      <td>44</td>\n",
       "      <td>46</td>\n",
       "    </tr>\n",
       "    <tr>\n",
       "      <td>3</td>\n",
       "      <td>30</td>\n",
       "      <td>30</td>\n",
       "      <td>38</td>\n",
       "      <td>42</td>\n",
       "      <td>39</td>\n",
       "    </tr>\n",
       "    <tr>\n",
       "      <td>4</td>\n",
       "      <td>35</td>\n",
       "      <td>41</td>\n",
       "      <td>41</td>\n",
       "      <td>38</td>\n",
       "      <td>40</td>\n",
       "    </tr>\n",
       "  </tbody>\n",
       "</table>\n",
       "</div>"
      ],
      "text/plain": [
       "   AccesstoFormalFinancialServises  AccesstoMobilePhone  \\\n",
       "0                               28                   41   \n",
       "1                               34                   42   \n",
       "2                               38                   50   \n",
       "3                               30                   30   \n",
       "4                               35                   41   \n",
       "\n",
       "   CostEffectivenessofMobileMoney  PerceptiononMobileMoney  \\\n",
       "0                              42                       37   \n",
       "1                              39                       38   \n",
       "2                              46                       44   \n",
       "3                              38                       42   \n",
       "4                              41                       38   \n",
       "\n",
       "   KnowlegeonMobileMoney  \n",
       "0                     38  \n",
       "1                     41  \n",
       "2                     46  \n",
       "3                     39  \n",
       "4                     40  "
      ]
     },
     "execution_count": 6,
     "metadata": {},
     "output_type": "execute_result"
    }
   ],
   "source": [
    "#Exploring the data,printing the head\n",
    "df.head()"
   ]
  },
  {
   "cell_type": "code",
   "execution_count": 7,
   "metadata": {
    "scrolled": true
   },
   "outputs": [
    {
     "data": {
      "text/plain": [
       "AccesstoFormalFinancialServises    36.969849\n",
       "AccesstoMobilePhone                40.592965\n",
       "CostEffectivenessofMobileMoney     43.839196\n",
       "PerceptiononMobileMoney            42.567839\n",
       "KnowlegeonMobileMoney              41.537688\n",
       "dtype: float64"
      ]
     },
     "execution_count": 7,
     "metadata": {},
     "output_type": "execute_result"
    }
   ],
   "source": [
    "#Printing out the means of the variables \n",
    "df.mean()"
   ]
  },
  {
   "cell_type": "code",
   "execution_count": 8,
   "metadata": {},
   "outputs": [
    {
     "data": {
      "text/html": [
       "<div>\n",
       "<style scoped>\n",
       "    .dataframe tbody tr th:only-of-type {\n",
       "        vertical-align: middle;\n",
       "    }\n",
       "\n",
       "    .dataframe tbody tr th {\n",
       "        vertical-align: top;\n",
       "    }\n",
       "\n",
       "    .dataframe thead th {\n",
       "        text-align: right;\n",
       "    }\n",
       "</style>\n",
       "<table border=\"1\" class=\"dataframe\">\n",
       "  <thead>\n",
       "    <tr style=\"text-align: right;\">\n",
       "      <th></th>\n",
       "      <th>AccesstoFormalFinancialServises</th>\n",
       "      <th>AccesstoMobilePhone</th>\n",
       "      <th>CostEffectivenessofMobileMoney</th>\n",
       "      <th>PerceptiononMobileMoney</th>\n",
       "      <th>KnowlegeonMobileMoney</th>\n",
       "    </tr>\n",
       "  </thead>\n",
       "  <tbody>\n",
       "    <tr>\n",
       "      <td>0</td>\n",
       "      <td>28</td>\n",
       "      <td>41</td>\n",
       "      <td>42</td>\n",
       "      <td>37</td>\n",
       "      <td>38</td>\n",
       "    </tr>\n",
       "    <tr>\n",
       "      <td>1</td>\n",
       "      <td>34</td>\n",
       "      <td>42</td>\n",
       "      <td>39</td>\n",
       "      <td>38</td>\n",
       "      <td>41</td>\n",
       "    </tr>\n",
       "    <tr>\n",
       "      <td>2</td>\n",
       "      <td>38</td>\n",
       "      <td>50</td>\n",
       "      <td>46</td>\n",
       "      <td>44</td>\n",
       "      <td>46</td>\n",
       "    </tr>\n",
       "    <tr>\n",
       "      <td>3</td>\n",
       "      <td>30</td>\n",
       "      <td>30</td>\n",
       "      <td>38</td>\n",
       "      <td>42</td>\n",
       "      <td>39</td>\n",
       "    </tr>\n",
       "    <tr>\n",
       "      <td>4</td>\n",
       "      <td>35</td>\n",
       "      <td>41</td>\n",
       "      <td>41</td>\n",
       "      <td>38</td>\n",
       "      <td>40</td>\n",
       "    </tr>\n",
       "    <tr>\n",
       "      <td>...</td>\n",
       "      <td>...</td>\n",
       "      <td>...</td>\n",
       "      <td>...</td>\n",
       "      <td>...</td>\n",
       "      <td>...</td>\n",
       "    </tr>\n",
       "    <tr>\n",
       "      <td>194</td>\n",
       "      <td>44</td>\n",
       "      <td>47</td>\n",
       "      <td>44</td>\n",
       "      <td>44</td>\n",
       "      <td>50</td>\n",
       "    </tr>\n",
       "    <tr>\n",
       "      <td>195</td>\n",
       "      <td>30</td>\n",
       "      <td>20</td>\n",
       "      <td>45</td>\n",
       "      <td>36</td>\n",
       "      <td>23</td>\n",
       "    </tr>\n",
       "    <tr>\n",
       "      <td>196</td>\n",
       "      <td>35</td>\n",
       "      <td>27</td>\n",
       "      <td>48</td>\n",
       "      <td>45</td>\n",
       "      <td>50</td>\n",
       "    </tr>\n",
       "    <tr>\n",
       "      <td>197</td>\n",
       "      <td>49</td>\n",
       "      <td>44</td>\n",
       "      <td>44</td>\n",
       "      <td>43</td>\n",
       "      <td>50</td>\n",
       "    </tr>\n",
       "    <tr>\n",
       "      <td>198</td>\n",
       "      <td>50</td>\n",
       "      <td>32</td>\n",
       "      <td>49</td>\n",
       "      <td>47</td>\n",
       "      <td>50</td>\n",
       "    </tr>\n",
       "  </tbody>\n",
       "</table>\n",
       "<p>199 rows × 5 columns</p>\n",
       "</div>"
      ],
      "text/plain": [
       "     AccesstoFormalFinancialServises  AccesstoMobilePhone  \\\n",
       "0                                 28                   41   \n",
       "1                                 34                   42   \n",
       "2                                 38                   50   \n",
       "3                                 30                   30   \n",
       "4                                 35                   41   \n",
       "..                               ...                  ...   \n",
       "194                               44                   47   \n",
       "195                               30                   20   \n",
       "196                               35                   27   \n",
       "197                               49                   44   \n",
       "198                               50                   32   \n",
       "\n",
       "     CostEffectivenessofMobileMoney  PerceptiononMobileMoney  \\\n",
       "0                                42                       37   \n",
       "1                                39                       38   \n",
       "2                                46                       44   \n",
       "3                                38                       42   \n",
       "4                                41                       38   \n",
       "..                              ...                      ...   \n",
       "194                              44                       44   \n",
       "195                              45                       36   \n",
       "196                              48                       45   \n",
       "197                              44                       43   \n",
       "198                              49                       47   \n",
       "\n",
       "     KnowlegeonMobileMoney  \n",
       "0                       38  \n",
       "1                       41  \n",
       "2                       46  \n",
       "3                       39  \n",
       "4                       40  \n",
       "..                     ...  \n",
       "194                     50  \n",
       "195                     23  \n",
       "196                     50  \n",
       "197                     50  \n",
       "198                     50  \n",
       "\n",
       "[199 rows x 5 columns]"
      ]
     },
     "execution_count": 8,
     "metadata": {},
     "output_type": "execute_result"
    }
   ],
   "source": [
    "#Dealing with NaNs\n",
    "df.fillna(df.mean())"
   ]
  },
  {
   "cell_type": "code",
   "execution_count": 9,
   "metadata": {},
   "outputs": [
    {
     "data": {
      "text/html": [
       "<div>\n",
       "<style scoped>\n",
       "    .dataframe tbody tr th:only-of-type {\n",
       "        vertical-align: middle;\n",
       "    }\n",
       "\n",
       "    .dataframe tbody tr th {\n",
       "        vertical-align: top;\n",
       "    }\n",
       "\n",
       "    .dataframe thead th {\n",
       "        text-align: right;\n",
       "    }\n",
       "</style>\n",
       "<table border=\"1\" class=\"dataframe\">\n",
       "  <thead>\n",
       "    <tr style=\"text-align: right;\">\n",
       "      <th></th>\n",
       "      <th>AccesstoFormalFinancialServises</th>\n",
       "      <th>AccesstoMobilePhone</th>\n",
       "      <th>CostEffectivenessofMobileMoney</th>\n",
       "      <th>PerceptiononMobileMoney</th>\n",
       "      <th>KnowlegeonMobileMoney</th>\n",
       "    </tr>\n",
       "  </thead>\n",
       "  <tbody>\n",
       "    <tr>\n",
       "      <td>count</td>\n",
       "      <td>199.000000</td>\n",
       "      <td>199.000000</td>\n",
       "      <td>199.000000</td>\n",
       "      <td>199.000000</td>\n",
       "      <td>199.000000</td>\n",
       "    </tr>\n",
       "    <tr>\n",
       "      <td>mean</td>\n",
       "      <td>36.969849</td>\n",
       "      <td>40.592965</td>\n",
       "      <td>43.839196</td>\n",
       "      <td>42.567839</td>\n",
       "      <td>41.537688</td>\n",
       "    </tr>\n",
       "    <tr>\n",
       "      <td>std</td>\n",
       "      <td>8.472719</td>\n",
       "      <td>8.768064</td>\n",
       "      <td>4.688722</td>\n",
       "      <td>6.426285</td>\n",
       "      <td>7.230501</td>\n",
       "    </tr>\n",
       "    <tr>\n",
       "      <td>min</td>\n",
       "      <td>19.000000</td>\n",
       "      <td>20.000000</td>\n",
       "      <td>18.000000</td>\n",
       "      <td>26.000000</td>\n",
       "      <td>13.000000</td>\n",
       "    </tr>\n",
       "    <tr>\n",
       "      <td>25%</td>\n",
       "      <td>30.000000</td>\n",
       "      <td>36.000000</td>\n",
       "      <td>40.000000</td>\n",
       "      <td>40.000000</td>\n",
       "      <td>39.000000</td>\n",
       "    </tr>\n",
       "    <tr>\n",
       "      <td>50%</td>\n",
       "      <td>37.000000</td>\n",
       "      <td>40.000000</td>\n",
       "      <td>45.000000</td>\n",
       "      <td>42.000000</td>\n",
       "      <td>41.000000</td>\n",
       "    </tr>\n",
       "    <tr>\n",
       "      <td>75%</td>\n",
       "      <td>44.000000</td>\n",
       "      <td>44.000000</td>\n",
       "      <td>47.500000</td>\n",
       "      <td>45.000000</td>\n",
       "      <td>48.000000</td>\n",
       "    </tr>\n",
       "    <tr>\n",
       "      <td>max</td>\n",
       "      <td>77.000000</td>\n",
       "      <td>100.000000</td>\n",
       "      <td>50.000000</td>\n",
       "      <td>96.000000</td>\n",
       "      <td>50.000000</td>\n",
       "    </tr>\n",
       "  </tbody>\n",
       "</table>\n",
       "</div>"
      ],
      "text/plain": [
       "       AccesstoFormalFinancialServises  AccesstoMobilePhone  \\\n",
       "count                       199.000000           199.000000   \n",
       "mean                         36.969849            40.592965   \n",
       "std                           8.472719             8.768064   \n",
       "min                          19.000000            20.000000   \n",
       "25%                          30.000000            36.000000   \n",
       "50%                          37.000000            40.000000   \n",
       "75%                          44.000000            44.000000   \n",
       "max                          77.000000           100.000000   \n",
       "\n",
       "       CostEffectivenessofMobileMoney  PerceptiononMobileMoney  \\\n",
       "count                      199.000000               199.000000   \n",
       "mean                        43.839196                42.567839   \n",
       "std                          4.688722                 6.426285   \n",
       "min                         18.000000                26.000000   \n",
       "25%                         40.000000                40.000000   \n",
       "50%                         45.000000                42.000000   \n",
       "75%                         47.500000                45.000000   \n",
       "max                         50.000000                96.000000   \n",
       "\n",
       "       KnowlegeonMobileMoney  \n",
       "count             199.000000  \n",
       "mean               41.537688  \n",
       "std                 7.230501  \n",
       "min                13.000000  \n",
       "25%                39.000000  \n",
       "50%                41.000000  \n",
       "75%                48.000000  \n",
       "max                50.000000  "
      ]
     },
     "execution_count": 9,
     "metadata": {},
     "output_type": "execute_result"
    }
   ],
   "source": [
    "#Exploring the data,descriptive statistics\n",
    "df.describe()"
   ]
  },
  {
   "cell_type": "code",
   "execution_count": 10,
   "metadata": {},
   "outputs": [
    {
     "data": {
      "text/html": [
       "<div>\n",
       "<style scoped>\n",
       "    .dataframe tbody tr th:only-of-type {\n",
       "        vertical-align: middle;\n",
       "    }\n",
       "\n",
       "    .dataframe tbody tr th {\n",
       "        vertical-align: top;\n",
       "    }\n",
       "\n",
       "    .dataframe thead th {\n",
       "        text-align: right;\n",
       "    }\n",
       "</style>\n",
       "<table border=\"1\" class=\"dataframe\">\n",
       "  <thead>\n",
       "    <tr style=\"text-align: right;\">\n",
       "      <th></th>\n",
       "      <th>AccesstoFormalFinancialServises</th>\n",
       "      <th>AccesstoMobilePhone</th>\n",
       "      <th>CostEffectivenessofMobileMoney</th>\n",
       "      <th>PerceptiononMobileMoney</th>\n",
       "      <th>KnowlegeonMobileMoney</th>\n",
       "    </tr>\n",
       "  </thead>\n",
       "  <tbody>\n",
       "    <tr>\n",
       "      <td>AccesstoFormalFinancialServises</td>\n",
       "      <td>1.000000</td>\n",
       "      <td>0.328062</td>\n",
       "      <td>0.169981</td>\n",
       "      <td>0.344078</td>\n",
       "      <td>0.576941</td>\n",
       "    </tr>\n",
       "    <tr>\n",
       "      <td>AccesstoMobilePhone</td>\n",
       "      <td>0.328062</td>\n",
       "      <td>1.000000</td>\n",
       "      <td>0.206140</td>\n",
       "      <td>0.230448</td>\n",
       "      <td>0.239514</td>\n",
       "    </tr>\n",
       "    <tr>\n",
       "      <td>CostEffectivenessofMobileMoney</td>\n",
       "      <td>0.169981</td>\n",
       "      <td>0.206140</td>\n",
       "      <td>1.000000</td>\n",
       "      <td>0.379851</td>\n",
       "      <td>0.203381</td>\n",
       "    </tr>\n",
       "    <tr>\n",
       "      <td>PerceptiononMobileMoney</td>\n",
       "      <td>0.344078</td>\n",
       "      <td>0.230448</td>\n",
       "      <td>0.379851</td>\n",
       "      <td>1.000000</td>\n",
       "      <td>0.364804</td>\n",
       "    </tr>\n",
       "    <tr>\n",
       "      <td>KnowlegeonMobileMoney</td>\n",
       "      <td>0.576941</td>\n",
       "      <td>0.239514</td>\n",
       "      <td>0.203381</td>\n",
       "      <td>0.364804</td>\n",
       "      <td>1.000000</td>\n",
       "    </tr>\n",
       "  </tbody>\n",
       "</table>\n",
       "</div>"
      ],
      "text/plain": [
       "                                 AccesstoFormalFinancialServises  \\\n",
       "AccesstoFormalFinancialServises                         1.000000   \n",
       "AccesstoMobilePhone                                     0.328062   \n",
       "CostEffectivenessofMobileMoney                          0.169981   \n",
       "PerceptiononMobileMoney                                 0.344078   \n",
       "KnowlegeonMobileMoney                                   0.576941   \n",
       "\n",
       "                                 AccesstoMobilePhone  \\\n",
       "AccesstoFormalFinancialServises             0.328062   \n",
       "AccesstoMobilePhone                         1.000000   \n",
       "CostEffectivenessofMobileMoney              0.206140   \n",
       "PerceptiononMobileMoney                     0.230448   \n",
       "KnowlegeonMobileMoney                       0.239514   \n",
       "\n",
       "                                 CostEffectivenessofMobileMoney  \\\n",
       "AccesstoFormalFinancialServises                        0.169981   \n",
       "AccesstoMobilePhone                                    0.206140   \n",
       "CostEffectivenessofMobileMoney                         1.000000   \n",
       "PerceptiononMobileMoney                                0.379851   \n",
       "KnowlegeonMobileMoney                                  0.203381   \n",
       "\n",
       "                                 PerceptiononMobileMoney  \\\n",
       "AccesstoFormalFinancialServises                 0.344078   \n",
       "AccesstoMobilePhone                             0.230448   \n",
       "CostEffectivenessofMobileMoney                  0.379851   \n",
       "PerceptiononMobileMoney                         1.000000   \n",
       "KnowlegeonMobileMoney                           0.364804   \n",
       "\n",
       "                                 KnowlegeonMobileMoney  \n",
       "AccesstoFormalFinancialServises               0.576941  \n",
       "AccesstoMobilePhone                           0.239514  \n",
       "CostEffectivenessofMobileMoney                0.203381  \n",
       "PerceptiononMobileMoney                       0.364804  \n",
       "KnowlegeonMobileMoney                         1.000000  "
      ]
     },
     "execution_count": 10,
     "metadata": {},
     "output_type": "execute_result"
    }
   ],
   "source": [
    "#Exploring the data,correlation analysis \n",
    "df.corr()"
   ]
  },
  {
   "cell_type": "code",
   "execution_count": 11,
   "metadata": {},
   "outputs": [
    {
     "data": {
      "text/plain": [
       "<seaborn.axisgrid.PairGrid at 0x11bf2e210>"
      ]
     },
     "execution_count": 11,
     "metadata": {},
     "output_type": "execute_result"
    }
   ],
   "source": [
    "#Exploring the data,visualizations\n",
    "import seaborn as sns\n",
    "sns.pairplot(X)"
   ]
  },
  {
   "cell_type": "code",
   "execution_count": 12,
   "metadata": {},
   "outputs": [],
   "source": [
    "#Importing the libraries\n",
    "import statsmodels.api as sm\n",
    "import statsmodels.formula.api as smf\n",
    "from statsmodels.formula.api import ols"
   ]
  },
  {
   "cell_type": "code",
   "execution_count": 13,
   "metadata": {},
   "outputs": [],
   "source": [
    "from sklearn.model_selection import train_test_split\n",
    "#spliting the data to train and test\n",
    "X_train,X_test,y_train,y_test=train_test_split(X,y,train_size=0.8,test_size=0.2)"
   ]
  },
  {
   "cell_type": "code",
   "execution_count": 14,
   "metadata": {},
   "outputs": [
    {
     "name": "stdout",
     "output_type": "stream",
     "text": [
      "                                       OLS Regression Results                                       \n",
      "====================================================================================================\n",
      "Dep. Variable:     AccesstoFormalFinancialServises   R-squared (uncentered):                   0.969\n",
      "Model:                                         OLS   Adj. R-squared (uncentered):              0.968\n",
      "Method:                              Least Squares   F-statistic:                              1209.\n",
      "Date:                             Sat, 02 Jan 2021   Prob (F-statistic):                   1.05e-115\n",
      "Time:                                     21:06:47   Log-Likelihood:                         -527.92\n",
      "No. Observations:                              159   AIC:                                      1064.\n",
      "Df Residuals:                                  155   BIC:                                      1076.\n",
      "Df Model:                                        4                                                  \n",
      "Covariance Type:                         nonrobust                                                  \n",
      "==================================================================================================\n",
      "                                     coef    std err          t      P>|t|      [0.025      0.975]\n",
      "--------------------------------------------------------------------------------------------------\n",
      "AccesstoMobilePhone                0.1857      0.060      3.081      0.002       0.067       0.305\n",
      "CostEffectivenessofMobileMoney    -0.1967      0.120     -1.644      0.102      -0.433       0.040\n",
      "PerceptiononMobileMoney            0.4596      0.158      2.915      0.004       0.148       0.771\n",
      "KnowlegeonMobileMoney              0.4573      0.084      5.438      0.000       0.291       0.623\n",
      "==============================================================================\n",
      "Omnibus:                       48.990   Durbin-Watson:                   1.729\n",
      "Prob(Omnibus):                  0.000   Jarque-Bera (JB):              193.589\n",
      "Skew:                           1.085   Prob(JB):                     9.18e-43\n",
      "Kurtosis:                       7.951   Cond. No.                         30.1\n",
      "==============================================================================\n",
      "\n",
      "Warnings:\n",
      "[1] Standard Errors assume that the covariance matrix of the errors is correctly specified.\n"
     ]
    }
   ],
   "source": [
    "# Describing the model\n",
    "mod= sm.OLS(y_train, X_train)\n",
    "# Fitting the model\n",
    "res = mod.fit()   \n",
    "# Summarizing the model\n",
    "print(res.summary())   "
   ]
  },
  {
   "cell_type": "code",
   "execution_count": 15,
   "metadata": {},
   "outputs": [
    {
     "name": "stdout",
     "output_type": "stream",
     "text": [
      "                               sum_sq     df          F        PR(>F)\n",
      "PerceptiononMobileMoney   1682.766247    1.0  26.454677  6.490748e-07\n",
      "Residual                 12531.052848  197.0        NaN           NaN\n"
     ]
    }
   ],
   "source": [
    "#Hypothesis Testing 1\n",
    "#H0:There is no significant relationship between perception on mobile money and access to formal financial services\n",
    "mod=ols('AccesstoFormalFinancialServises ~ PerceptiononMobileMoney',data=df).fit()\n",
    "aov_table=sm.stats.anova_lm(mod,typ=2)\n",
    "print(aov_table)"
   ]
  },
  {
   "cell_type": "code",
   "execution_count": 16,
   "metadata": {},
   "outputs": [
    {
     "name": "stdout",
     "output_type": "stream",
     "text": [
      "                            sum_sq     df          F        PR(>F)\n",
      "KnowlegeonMobileMoney  4731.229630    1.0  98.290898  4.721133e-19\n",
      "Residual               9482.589466  197.0        NaN           NaN\n"
     ]
    }
   ],
   "source": [
    "#Hypothesis Testing 2\n",
    "#H0:There is no significant relationship between knowledge on the use of mobile money and access to formal financial services.\n",
    "mod=ols('AccesstoFormalFinancialServises ~ KnowlegeonMobileMoney',data=df).fit()\n",
    "aov_table=sm.stats.anova_lm(mod,typ=2)\n",
    "print(aov_table)"
   ]
  },
  {
   "cell_type": "code",
   "execution_count": 17,
   "metadata": {},
   "outputs": [
    {
     "name": "stdout",
     "output_type": "stream",
     "text": [
      "                                      sum_sq     df         F    PR(>F)\n",
      "CostEffectivenessofMobileMoney    410.687551    1.0  5.861384  0.016383\n",
      "Residual                        13803.131544  197.0       NaN       NaN\n"
     ]
    }
   ],
   "source": [
    "#Hypothesis Testing 3\n",
    "#H0:There is no relationship between cost of mobile money and access to formal financial services.\n",
    "mod=ols('AccesstoFormalFinancialServises ~ CostEffectivenessofMobileMoney',data=df).fit()\n",
    "aov_table=sm.stats.anova_lm(mod,typ=2)\n",
    "print(aov_table)"
   ]
  },
  {
   "cell_type": "code",
   "execution_count": 18,
   "metadata": {},
   "outputs": [
    {
     "name": "stdout",
     "output_type": "stream",
     "text": [
      "                           sum_sq     df          F    PR(>F)\n",
      "AccesstoMobilePhone   1529.757052    1.0  23.759119  0.000002\n",
      "Residual             12684.062043  197.0        NaN       NaN\n"
     ]
    }
   ],
   "source": [
    "#Hypothesis Testing 4\n",
    "#H0:There is no relationship between access to mobile phone and access to formal financial services\n",
    "mod=ols('AccesstoFormalFinancialServises ~ AccesstoMobilePhone',data=df).fit()\n",
    "aov_table=sm.stats.anova_lm(mod,typ=2)\n",
    "print(aov_table)"
   ]
  }
 ],
 "metadata": {
  "kernelspec": {
   "display_name": "Python 3",
   "language": "python",
   "name": "python3"
  },
  "language_info": {
   "codemirror_mode": {
    "name": "ipython",
    "version": 3
   },
   "file_extension": ".py",
   "mimetype": "text/x-python",
   "name": "python",
   "nbconvert_exporter": "python",
   "pygments_lexer": "ipython3",
   "version": "3.7.4"
  }
 },
 "nbformat": 4,
 "nbformat_minor": 2
}
