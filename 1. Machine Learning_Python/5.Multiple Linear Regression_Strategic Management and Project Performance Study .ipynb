{
 "cells": [
  {
   "cell_type": "markdown",
   "metadata": {},
   "source": [
    "# STRATEGIC MANAGEMENT AND PROJECT PERFORMANCE STUDY "
   ]
  },
  {
   "cell_type": "code",
   "execution_count": 168,
   "metadata": {},
   "outputs": [],
   "source": [
    "#Study Topic\n",
    "#INFLUENCE OF STRATEGIC MANAGEMENT ON PERFORMANCE OF HIV AND AIDS INTERVENTIONS MANAGED BY NON-GOVERNMENTAL ORGANISATIONS IN NYANZA REGION, KENYA"
   ]
  },
  {
   "cell_type": "code",
   "execution_count": 169,
   "metadata": {},
   "outputs": [],
   "source": [
    "#The study was guided by the following objectives: \n",
    "#1. To examine the influence of organisations purpose on performance of HIV and AIDS interventions managed by non-governmental organisations in Nyanza Region. \n",
    "#2. To establish the influence of environmental scanning on performance of HIV and AIDS interventions managed by non-governmental organisations in Nyanza Region. \n",
    "#3. To determine the influence of strategy formulation on performance of HIV and AIDS interventions managed by non-governmental organisations in Nyanza Region. \n",
    "#4. To assess the influence of strategy implementation on performance of HIV and AIDS interventions managed by non-governmental organisations in Nyanza Region. \n",
    "#5. To establish the influence of strategy evaluation and control on performance of HIV and AIDS interventions managed by non-governmental organisations in Nyanza Region. \n",
    "#6. To examine the moderating influence of stakeholder participation on the relationship between strategic management and performance of HIV and AIDS interventions managed by NGOs in Nyanza Region. \n"
   ]
  },
  {
   "cell_type": "code",
   "execution_count": 170,
   "metadata": {},
   "outputs": [],
   "source": [
    "#The study sought to test the following research hypotheses: \n",
    "#1. H0: There is no significant relationship between organizations purpose and performance of HIV and AIDS interventions managed by non-governmental organisations in Nyanza Region \n",
    "#2. H0: There is no significant relationship between environmental scanning and performance HIV and AIDS interventions managed by non-governmental organisations in Nyanza Region \n",
    "#3. H0: There is no significant relationship between strategy formulation and performance of HIV and AIDS interventions managed by non-governmental organisations in Nyanza Region \n",
    "#4. H0: There is no significant relationship between strategy implementation and performance of HIV and AIDS interventions managed by non-governmental organisations in Nyanza Region \n",
    "#5. H0: There is no significant relationship between strategy evaluation and control on performance of HIV and AIDS interventions managed by non-governmental organisations in Nyanza Region \n",
    "#6. H0: There is no significant moderating influence of stakeholder participation on the relationship between strategic management and performance of HIV and AIDS interventions managed by non-governmental organisations in Nyanza Region \n"
   ]
  },
  {
   "cell_type": "code",
   "execution_count": 171,
   "metadata": {},
   "outputs": [],
   "source": [
    "#Importing the libraries \n",
    "import pandas as pd\n",
    "import numpy as np\n",
    "import seaborn as sns\n",
    "import matplotlib.pyplot as plt\n",
    "from sklearn import linear_model\n",
    "import statsmodels.api as sm\n",
    "from statsmodels.formula.api import ols\n",
    "from statsmodels.stats.outliers_influence import variance_inflation_factor"
   ]
  },
  {
   "cell_type": "code",
   "execution_count": 172,
   "metadata": {},
   "outputs": [],
   "source": [
    "#Importing the libraries and specifying the variables\n",
    "strategy_management=pd.read_csv('Strategic_Management.csv')\n",
    "x = strategy_management.iloc[:,0:6]\n",
    "y = strategy_management.iloc[:,6]"
   ]
  },
  {
   "cell_type": "code",
   "execution_count": 163,
   "metadata": {},
   "outputs": [
    {
     "data": {
      "text/html": [
       "<div>\n",
       "<style scoped>\n",
       "    .dataframe tbody tr th:only-of-type {\n",
       "        vertical-align: middle;\n",
       "    }\n",
       "\n",
       "    .dataframe tbody tr th {\n",
       "        vertical-align: top;\n",
       "    }\n",
       "\n",
       "    .dataframe thead th {\n",
       "        text-align: right;\n",
       "    }\n",
       "</style>\n",
       "<table border=\"1\" class=\"dataframe\">\n",
       "  <thead>\n",
       "    <tr style=\"text-align: right;\">\n",
       "      <th></th>\n",
       "      <th>OrganizationsPurpose</th>\n",
       "      <th>EnvironmentalScanning</th>\n",
       "      <th>StrategyFormulation</th>\n",
       "      <th>StrategyImplementation</th>\n",
       "      <th>StrategyEvaluation</th>\n",
       "      <th>StakeholderParticipation</th>\n",
       "      <th>Project_Perfomance</th>\n",
       "    </tr>\n",
       "  </thead>\n",
       "  <tbody>\n",
       "    <tr>\n",
       "      <td>0</td>\n",
       "      <td>21</td>\n",
       "      <td>23</td>\n",
       "      <td>29</td>\n",
       "      <td>35</td>\n",
       "      <td>28</td>\n",
       "      <td>21</td>\n",
       "      <td>26</td>\n",
       "    </tr>\n",
       "    <tr>\n",
       "      <td>1</td>\n",
       "      <td>19</td>\n",
       "      <td>25</td>\n",
       "      <td>24</td>\n",
       "      <td>35</td>\n",
       "      <td>24</td>\n",
       "      <td>19</td>\n",
       "      <td>24</td>\n",
       "    </tr>\n",
       "    <tr>\n",
       "      <td>2</td>\n",
       "      <td>21</td>\n",
       "      <td>26</td>\n",
       "      <td>29</td>\n",
       "      <td>38</td>\n",
       "      <td>33</td>\n",
       "      <td>27</td>\n",
       "      <td>29</td>\n",
       "    </tr>\n",
       "    <tr>\n",
       "      <td>3</td>\n",
       "      <td>21</td>\n",
       "      <td>26</td>\n",
       "      <td>29</td>\n",
       "      <td>34</td>\n",
       "      <td>29</td>\n",
       "      <td>24</td>\n",
       "      <td>27</td>\n",
       "    </tr>\n",
       "    <tr>\n",
       "      <td>4</td>\n",
       "      <td>21</td>\n",
       "      <td>30</td>\n",
       "      <td>24</td>\n",
       "      <td>35</td>\n",
       "      <td>29</td>\n",
       "      <td>24</td>\n",
       "      <td>27</td>\n",
       "    </tr>\n",
       "  </tbody>\n",
       "</table>\n",
       "</div>"
      ],
      "text/plain": [
       "   OrganizationsPurpose  EnvironmentalScanning  StrategyFormulation  \\\n",
       "0                    21                     23                   29   \n",
       "1                    19                     25                   24   \n",
       "2                    21                     26                   29   \n",
       "3                    21                     26                   29   \n",
       "4                    21                     30                   24   \n",
       "\n",
       "   StrategyImplementation  StrategyEvaluation  StakeholderParticipation  \\\n",
       "0                      35                  28                        21   \n",
       "1                      35                  24                        19   \n",
       "2                      38                  33                        27   \n",
       "3                      34                  29                        24   \n",
       "4                      35                  29                        24   \n",
       "\n",
       "   Project_Perfomance  \n",
       "0                  26  \n",
       "1                  24  \n",
       "2                  29  \n",
       "3                  27  \n",
       "4                  27  "
      ]
     },
     "execution_count": 163,
     "metadata": {},
     "output_type": "execute_result"
    }
   ],
   "source": [
    "#Exploring the data\n",
    "strategy_management.head()"
   ]
  },
  {
   "cell_type": "code",
   "execution_count": 70,
   "metadata": {},
   "outputs": [
    {
     "data": {
      "text/html": [
       "<div>\n",
       "<style scoped>\n",
       "    .dataframe tbody tr th:only-of-type {\n",
       "        vertical-align: middle;\n",
       "    }\n",
       "\n",
       "    .dataframe tbody tr th {\n",
       "        vertical-align: top;\n",
       "    }\n",
       "\n",
       "    .dataframe thead th {\n",
       "        text-align: right;\n",
       "    }\n",
       "</style>\n",
       "<table border=\"1\" class=\"dataframe\">\n",
       "  <thead>\n",
       "    <tr style=\"text-align: right;\">\n",
       "      <th></th>\n",
       "      <th>OrganizationsPurpose</th>\n",
       "      <th>EnvironmentalScanning</th>\n",
       "      <th>StrategyFormulation</th>\n",
       "      <th>StrategyImplementation</th>\n",
       "      <th>StrategyEvaluation</th>\n",
       "      <th>StakeholderParticipation</th>\n",
       "      <th>Project_Perfomance</th>\n",
       "    </tr>\n",
       "  </thead>\n",
       "  <tbody>\n",
       "    <tr>\n",
       "      <td>count</td>\n",
       "      <td>50.00000</td>\n",
       "      <td>50.000000</td>\n",
       "      <td>50.000000</td>\n",
       "      <td>50.000000</td>\n",
       "      <td>50.000000</td>\n",
       "      <td>50.00000</td>\n",
       "      <td>50.000000</td>\n",
       "    </tr>\n",
       "    <tr>\n",
       "      <td>mean</td>\n",
       "      <td>20.78000</td>\n",
       "      <td>26.640000</td>\n",
       "      <td>28.560000</td>\n",
       "      <td>35.060000</td>\n",
       "      <td>29.880000</td>\n",
       "      <td>23.18000</td>\n",
       "      <td>27.340000</td>\n",
       "    </tr>\n",
       "    <tr>\n",
       "      <td>std</td>\n",
       "      <td>0.70826</td>\n",
       "      <td>2.663127</td>\n",
       "      <td>1.960425</td>\n",
       "      <td>3.542223</td>\n",
       "      <td>3.185682</td>\n",
       "      <td>3.92111</td>\n",
       "      <td>2.016362</td>\n",
       "    </tr>\n",
       "    <tr>\n",
       "      <td>min</td>\n",
       "      <td>19.00000</td>\n",
       "      <td>21.000000</td>\n",
       "      <td>24.000000</td>\n",
       "      <td>27.000000</td>\n",
       "      <td>24.000000</td>\n",
       "      <td>15.00000</td>\n",
       "      <td>23.000000</td>\n",
       "    </tr>\n",
       "    <tr>\n",
       "      <td>25%</td>\n",
       "      <td>21.00000</td>\n",
       "      <td>25.000000</td>\n",
       "      <td>28.000000</td>\n",
       "      <td>33.000000</td>\n",
       "      <td>28.000000</td>\n",
       "      <td>21.00000</td>\n",
       "      <td>26.000000</td>\n",
       "    </tr>\n",
       "    <tr>\n",
       "      <td>50%</td>\n",
       "      <td>21.00000</td>\n",
       "      <td>26.000000</td>\n",
       "      <td>29.000000</td>\n",
       "      <td>35.000000</td>\n",
       "      <td>29.000000</td>\n",
       "      <td>24.00000</td>\n",
       "      <td>27.500000</td>\n",
       "    </tr>\n",
       "    <tr>\n",
       "      <td>75%</td>\n",
       "      <td>21.00000</td>\n",
       "      <td>29.000000</td>\n",
       "      <td>30.000000</td>\n",
       "      <td>38.750000</td>\n",
       "      <td>32.000000</td>\n",
       "      <td>26.00000</td>\n",
       "      <td>29.000000</td>\n",
       "    </tr>\n",
       "    <tr>\n",
       "      <td>max</td>\n",
       "      <td>22.00000</td>\n",
       "      <td>30.000000</td>\n",
       "      <td>30.000000</td>\n",
       "      <td>40.000000</td>\n",
       "      <td>35.000000</td>\n",
       "      <td>30.00000</td>\n",
       "      <td>30.000000</td>\n",
       "    </tr>\n",
       "  </tbody>\n",
       "</table>\n",
       "</div>"
      ],
      "text/plain": [
       "       OrganizationsPurpose  EnvironmentalScanning  StrategyFormulation  \\\n",
       "count              50.00000              50.000000            50.000000   \n",
       "mean               20.78000              26.640000            28.560000   \n",
       "std                 0.70826               2.663127             1.960425   \n",
       "min                19.00000              21.000000            24.000000   \n",
       "25%                21.00000              25.000000            28.000000   \n",
       "50%                21.00000              26.000000            29.000000   \n",
       "75%                21.00000              29.000000            30.000000   \n",
       "max                22.00000              30.000000            30.000000   \n",
       "\n",
       "       StrategyImplementation  StrategyEvaluation  StakeholderParticipation  \\\n",
       "count               50.000000           50.000000                  50.00000   \n",
       "mean                35.060000           29.880000                  23.18000   \n",
       "std                  3.542223            3.185682                   3.92111   \n",
       "min                 27.000000           24.000000                  15.00000   \n",
       "25%                 33.000000           28.000000                  21.00000   \n",
       "50%                 35.000000           29.000000                  24.00000   \n",
       "75%                 38.750000           32.000000                  26.00000   \n",
       "max                 40.000000           35.000000                  30.00000   \n",
       "\n",
       "       Project_Perfomance  \n",
       "count           50.000000  \n",
       "mean            27.340000  \n",
       "std              2.016362  \n",
       "min             23.000000  \n",
       "25%             26.000000  \n",
       "50%             27.500000  \n",
       "75%             29.000000  \n",
       "max             30.000000  "
      ]
     },
     "execution_count": 70,
     "metadata": {},
     "output_type": "execute_result"
    }
   ],
   "source": [
    "#Exploratory analysis \n",
    "strategy_management.describe()"
   ]
  },
  {
   "cell_type": "code",
   "execution_count": 73,
   "metadata": {
    "scrolled": true
   },
   "outputs": [
    {
     "data": {
      "text/html": [
       "<div>\n",
       "<style scoped>\n",
       "    .dataframe tbody tr th:only-of-type {\n",
       "        vertical-align: middle;\n",
       "    }\n",
       "\n",
       "    .dataframe tbody tr th {\n",
       "        vertical-align: top;\n",
       "    }\n",
       "\n",
       "    .dataframe thead th {\n",
       "        text-align: right;\n",
       "    }\n",
       "</style>\n",
       "<table border=\"1\" class=\"dataframe\">\n",
       "  <thead>\n",
       "    <tr style=\"text-align: right;\">\n",
       "      <th></th>\n",
       "      <th>OrganizationsPurpose</th>\n",
       "      <th>EnvironmentalScanning</th>\n",
       "      <th>StrategyFormulation</th>\n",
       "      <th>StrategyImplementation</th>\n",
       "      <th>StrategyEvaluation</th>\n",
       "      <th>StakeholderParticipation</th>\n",
       "      <th>Project_Perfomance</th>\n",
       "    </tr>\n",
       "  </thead>\n",
       "  <tbody>\n",
       "    <tr>\n",
       "      <td>OrganizationsPurpose</td>\n",
       "      <td>1.000000</td>\n",
       "      <td>0.465684</td>\n",
       "      <td>0.413898</td>\n",
       "      <td>0.363290</td>\n",
       "      <td>0.566941</td>\n",
       "      <td>0.499555</td>\n",
       "      <td>0.639350</td>\n",
       "    </tr>\n",
       "    <tr>\n",
       "      <td>EnvironmentalScanning</td>\n",
       "      <td>0.465684</td>\n",
       "      <td>1.000000</td>\n",
       "      <td>0.340393</td>\n",
       "      <td>0.595107</td>\n",
       "      <td>0.511992</td>\n",
       "      <td>0.414792</td>\n",
       "      <td>0.722556</td>\n",
       "    </tr>\n",
       "    <tr>\n",
       "      <td>StrategyFormulation</td>\n",
       "      <td>0.413898</td>\n",
       "      <td>0.340393</td>\n",
       "      <td>1.000000</td>\n",
       "      <td>0.359480</td>\n",
       "      <td>0.582839</td>\n",
       "      <td>0.188390</td>\n",
       "      <td>0.611689</td>\n",
       "    </tr>\n",
       "    <tr>\n",
       "      <td>StrategyImplementation</td>\n",
       "      <td>0.363290</td>\n",
       "      <td>0.595107</td>\n",
       "      <td>0.359480</td>\n",
       "      <td>1.000000</td>\n",
       "      <td>0.512465</td>\n",
       "      <td>0.563429</td>\n",
       "      <td>0.837139</td>\n",
       "    </tr>\n",
       "    <tr>\n",
       "      <td>StrategyEvaluation</td>\n",
       "      <td>0.566941</td>\n",
       "      <td>0.511992</td>\n",
       "      <td>0.582839</td>\n",
       "      <td>0.512465</td>\n",
       "      <td>1.000000</td>\n",
       "      <td>0.255000</td>\n",
       "      <td>0.768989</td>\n",
       "    </tr>\n",
       "    <tr>\n",
       "      <td>StakeholderParticipation</td>\n",
       "      <td>0.499555</td>\n",
       "      <td>0.414792</td>\n",
       "      <td>0.188390</td>\n",
       "      <td>0.563429</td>\n",
       "      <td>0.255000</td>\n",
       "      <td>1.000000</td>\n",
       "      <td>0.707102</td>\n",
       "    </tr>\n",
       "    <tr>\n",
       "      <td>Project_Perfomance</td>\n",
       "      <td>0.639350</td>\n",
       "      <td>0.722556</td>\n",
       "      <td>0.611689</td>\n",
       "      <td>0.837139</td>\n",
       "      <td>0.768989</td>\n",
       "      <td>0.707102</td>\n",
       "      <td>1.000000</td>\n",
       "    </tr>\n",
       "  </tbody>\n",
       "</table>\n",
       "</div>"
      ],
      "text/plain": [
       "                          OrganizationsPurpose  EnvironmentalScanning  \\\n",
       "OrganizationsPurpose                  1.000000               0.465684   \n",
       "EnvironmentalScanning                 0.465684               1.000000   \n",
       "StrategyFormulation                   0.413898               0.340393   \n",
       "StrategyImplementation                0.363290               0.595107   \n",
       "StrategyEvaluation                    0.566941               0.511992   \n",
       "StakeholderParticipation              0.499555               0.414792   \n",
       "Project_Perfomance                    0.639350               0.722556   \n",
       "\n",
       "                          StrategyFormulation  StrategyImplementation  \\\n",
       "OrganizationsPurpose                 0.413898                0.363290   \n",
       "EnvironmentalScanning                0.340393                0.595107   \n",
       "StrategyFormulation                  1.000000                0.359480   \n",
       "StrategyImplementation               0.359480                1.000000   \n",
       "StrategyEvaluation                   0.582839                0.512465   \n",
       "StakeholderParticipation             0.188390                0.563429   \n",
       "Project_Perfomance                   0.611689                0.837139   \n",
       "\n",
       "                          StrategyEvaluation  StakeholderParticipation  \\\n",
       "OrganizationsPurpose                0.566941                  0.499555   \n",
       "EnvironmentalScanning               0.511992                  0.414792   \n",
       "StrategyFormulation                 0.582839                  0.188390   \n",
       "StrategyImplementation              0.512465                  0.563429   \n",
       "StrategyEvaluation                  1.000000                  0.255000   \n",
       "StakeholderParticipation            0.255000                  1.000000   \n",
       "Project_Perfomance                  0.768989                  0.707102   \n",
       "\n",
       "                          Project_Perfomance  \n",
       "OrganizationsPurpose                0.639350  \n",
       "EnvironmentalScanning               0.722556  \n",
       "StrategyFormulation                 0.611689  \n",
       "StrategyImplementation              0.837139  \n",
       "StrategyEvaluation                  0.768989  \n",
       "StakeholderParticipation            0.707102  \n",
       "Project_Perfomance                  1.000000  "
      ]
     },
     "execution_count": 73,
     "metadata": {},
     "output_type": "execute_result"
    }
   ],
   "source": [
    "#Checking the correlation coefficients \n",
    "strategy_management.corr()"
   ]
  },
  {
   "cell_type": "code",
   "execution_count": 74,
   "metadata": {},
   "outputs": [
    {
     "data": {
      "text/plain": [
       "<matplotlib.axes._subplots.AxesSubplot at 0x1c2e184e10>"
      ]
     },
     "execution_count": 74,
     "metadata": {},
     "output_type": "execute_result"
    },
    {
     "data": {
      "image/png": "[encoded data removed]",
      "text/plain": [
       "<Figure size 432x288 with 2 Axes>"
      ]
     },
     "metadata": {
      "needs_background": "light"
     },
     "output_type": "display_data"
    }
   ],
   "source": [
    "#Visualizing the correlations \n",
    "sns.heatmap(strategy_management.corr())"
   ]
  },
  {
   "cell_type": "code",
   "execution_count": 75,
   "metadata": {},
   "outputs": [],
   "source": [
    "#Splitting the data into train and test sets\n",
    "X_train, X_test, y_train, y_test = train_test_split(x, y, train_size=0.7, test_size=0.3)"
   ]
  },
  {
   "cell_type": "code",
   "execution_count": 76,
   "metadata": {},
   "outputs": [
    {
     "data": {
      "text/plain": [
       "<seaborn.axisgrid.PairGrid at 0x1c2e25a710>"
      ]
     },
     "execution_count": 76,
     "metadata": {},
     "output_type": "execute_result"
    },
    {
     "data": {
      "image/png": "[encoded data removed]",
      "text/plain": [
       "<Figure size 1080x1080 with 42 Axes>"
      ]
     },
     "metadata": {
      "needs_background": "light"
     },
     "output_type": "display_data"
    }
   ],
   "source": [
    "#Exploring the data through visualization \n",
    "sns.pairplot(X_train)"
   ]
  },
  {
   "cell_type": "code",
   "execution_count": 77,
   "metadata": {},
   "outputs": [
    {
     "name": "stderr",
     "output_type": "stream",
     "text": [
      "/Users/admin/opt/anaconda3/lib/python3.7/site-packages/numpy/core/fromnumeric.py:2495: FutureWarning: Method .ptp is deprecated and will be removed in a future version. Use numpy.ptp instead.\n",
      "  return ptp(axis=axis, out=out, **kwargs)\n"
     ]
    }
   ],
   "source": [
    "#Incorprating the Constant(y intercept )\n",
    "X=sm.add_constant(X_train)  "
   ]
  },
  {
   "cell_type": "code",
   "execution_count": 78,
   "metadata": {
    "scrolled": true
   },
   "outputs": [
    {
     "data": {
      "text/html": [
       "<table class=\"simpletable\">\n",
       "<caption>OLS Regression Results</caption>\n",
       "<tr>\n",
       "  <th>Dep. Variable:</th>    <td>Project_Perfomance</td> <th>  R-squared (uncentered):</th>      <td>   1.000</td> \n",
       "</tr>\n",
       "<tr>\n",
       "  <th>Model:</th>                    <td>OLS</td>        <th>  Adj. R-squared (uncentered):</th> <td>   1.000</td> \n",
       "</tr>\n",
       "<tr>\n",
       "  <th>Method:</th>              <td>Least Squares</td>   <th>  F-statistic:       </th>          <td>8.796e+04</td>\n",
       "</tr>\n",
       "<tr>\n",
       "  <th>Date:</th>              <td>Sat, 12 Dec 2020</td>  <th>  Prob (F-statistic):</th>          <td>2.17e-60</td> \n",
       "</tr>\n",
       "<tr>\n",
       "  <th>Time:</th>                  <td>09:32:46</td>      <th>  Log-Likelihood:    </th>          <td>  5.9579</td> \n",
       "</tr>\n",
       "<tr>\n",
       "  <th>No. Observations:</th>       <td>    35</td>       <th>  AIC:               </th>          <td> 0.08411</td> \n",
       "</tr>\n",
       "<tr>\n",
       "  <th>Df Residuals:</th>           <td>    29</td>       <th>  BIC:               </th>          <td>   9.416</td> \n",
       "</tr>\n",
       "<tr>\n",
       "  <th>Df Model:</th>               <td>     6</td>       <th>                     </th>              <td> </td>    \n",
       "</tr>\n",
       "<tr>\n",
       "  <th>Covariance Type:</th>       <td>nonrobust</td>     <th>                     </th>              <td> </td>    \n",
       "</tr>\n",
       "</table>\n",
       "<table class=\"simpletable\">\n",
       "<tr>\n",
       "              <td></td>                <th>coef</th>     <th>std err</th>      <th>t</th>      <th>P>|t|</th>  <th>[0.025</th>    <th>0.975]</th>  \n",
       "</tr>\n",
       "<tr>\n",
       "  <th>OrganizationsPurpose</th>     <td>    0.1277</td> <td>    0.035</td> <td>    3.646</td> <td> 0.001</td> <td>    0.056</td> <td>    0.199</td>\n",
       "</tr>\n",
       "<tr>\n",
       "  <th>EnvironmentalScanning</th>    <td>    0.1233</td> <td>    0.019</td> <td>    6.398</td> <td> 0.000</td> <td>    0.084</td> <td>    0.163</td>\n",
       "</tr>\n",
       "<tr>\n",
       "  <th>StrategyFormulation</th>      <td>    0.1878</td> <td>    0.023</td> <td>    8.239</td> <td> 0.000</td> <td>    0.141</td> <td>    0.234</td>\n",
       "</tr>\n",
       "<tr>\n",
       "  <th>StrategyImplementation</th>   <td>    0.1851</td> <td>    0.016</td> <td>   11.353</td> <td> 0.000</td> <td>    0.152</td> <td>    0.218</td>\n",
       "</tr>\n",
       "<tr>\n",
       "  <th>StrategyEvaluation</th>       <td>    0.1926</td> <td>    0.017</td> <td>   11.549</td> <td> 0.000</td> <td>    0.159</td> <td>    0.227</td>\n",
       "</tr>\n",
       "<tr>\n",
       "  <th>StakeholderParticipation</th> <td>    0.1651</td> <td>    0.012</td> <td>   14.008</td> <td> 0.000</td> <td>    0.141</td> <td>    0.189</td>\n",
       "</tr>\n",
       "</table>\n",
       "<table class=\"simpletable\">\n",
       "<tr>\n",
       "  <th>Omnibus:</th>       <td> 4.267</td> <th>  Durbin-Watson:     </th> <td>   2.106</td>\n",
       "</tr>\n",
       "<tr>\n",
       "  <th>Prob(Omnibus):</th> <td> 0.118</td> <th>  Jarque-Bera (JB):  </th> <td>   1.749</td>\n",
       "</tr>\n",
       "<tr>\n",
       "  <th>Skew:</th>          <td> 0.111</td> <th>  Prob(JB):          </th> <td>   0.417</td>\n",
       "</tr>\n",
       "<tr>\n",
       "  <th>Kurtosis:</th>      <td> 1.928</td> <th>  Cond. No.          </th> <td>    70.5</td>\n",
       "</tr>\n",
       "</table><br/><br/>Warnings:<br/>[1] Standard Errors assume that the covariance matrix of the errors is correctly specified."
      ],
      "text/plain": [
       "<class 'statsmodels.iolib.summary.Summary'>\n",
       "\"\"\"\n",
       "                                 OLS Regression Results                                \n",
       "=======================================================================================\n",
       "Dep. Variable:     Project_Perfomance   R-squared (uncentered):                   1.000\n",
       "Model:                            OLS   Adj. R-squared (uncentered):              1.000\n",
       "Method:                 Least Squares   F-statistic:                          8.796e+04\n",
       "Date:                Sat, 12 Dec 2020   Prob (F-statistic):                    2.17e-60\n",
       "Time:                        09:32:46   Log-Likelihood:                          5.9579\n",
       "No. Observations:                  35   AIC:                                    0.08411\n",
       "Df Residuals:                      29   BIC:                                      9.416\n",
       "Df Model:                           6                                                  \n",
       "Covariance Type:            nonrobust                                                  \n",
       "============================================================================================\n",
       "                               coef    std err          t      P>|t|      [0.025      0.975]\n",
       "--------------------------------------------------------------------------------------------\n",
       "OrganizationsPurpose         0.1277      0.035      3.646      0.001       0.056       0.199\n",
       "EnvironmentalScanning        0.1233      0.019      6.398      0.000       0.084       0.163\n",
       "StrategyFormulation          0.1878      0.023      8.239      0.000       0.141       0.234\n",
       "StrategyImplementation       0.1851      0.016     11.353      0.000       0.152       0.218\n",
       "StrategyEvaluation           0.1926      0.017     11.549      0.000       0.159       0.227\n",
       "StakeholderParticipation     0.1651      0.012     14.008      0.000       0.141       0.189\n",
       "==============================================================================\n",
       "Omnibus:                        4.267   Durbin-Watson:                   2.106\n",
       "Prob(Omnibus):                  0.118   Jarque-Bera (JB):                1.749\n",
       "Skew:                           0.111   Prob(JB):                        0.417\n",
       "Kurtosis:                       1.928   Cond. No.                         70.5\n",
       "==============================================================================\n",
       "\n",
       "Warnings:\n",
       "[1] Standard Errors assume that the covariance matrix of the errors is correctly specified.\n",
       "\"\"\""
      ]
     },
     "execution_count": 78,
     "metadata": {},
     "output_type": "execute_result"
    }
   ],
   "source": [
    "#Printing out the regression model output \n",
    "model = sm.OLS(y_train, X_train).fit()\n",
    "model.summary() "
   ]
  },
  {
   "cell_type": "code",
   "execution_count": 246,
   "metadata": {},
   "outputs": [
    {
     "name": "stdout",
     "output_type": "stream",
     "text": [
      "                          sum_sq    df          F        PR(>F)\n",
      "OrganizationsPurpose   81.434809   1.0  33.186437  5.803798e-07\n",
      "Residual              117.785191  48.0        NaN           NaN\n"
     ]
    }
   ],
   "source": [
    "#TESTING THE HYPOTHESES\n",
    "#1. H0: There is no significant relationship between organizations purpose and performance of HIV and AIDS interventions managed by non-governmental organisations in Nyanza Region \n",
    "mod=ols('Project_Perfomance ~ OrganizationsPurpose',data=strategy_management).fit()\n",
    "aov_table=sm.stats.anova_lm(mod,typ=2)\n",
    "print(aov_table)"
   ]
  },
  {
   "cell_type": "code",
   "execution_count": 247,
   "metadata": {
    "scrolled": true
   },
   "outputs": [
    {
     "name": "stdout",
     "output_type": "stream",
     "text": [
      "                          sum_sq    df          F        PR(>F)\n",
      "EnvironmentalScanning  104.01017   1.0  52.436688  3.139995e-09\n",
      "Residual                95.20983  48.0        NaN           NaN\n"
     ]
    }
   ],
   "source": [
    "#2. H0: There is no significant relationship between environmental scanning and performance HIV and AIDS interventions managed by non-governmental organisations in Nyanza Region \n",
    "mod=ols('Project_Perfomance ~ EnvironmentalScanning',data=strategy_management).fit()\n",
    "aov_table=sm.stats.anova_lm(mod,typ=2)\n",
    "print(aov_table)"
   ]
  },
  {
   "cell_type": "code",
   "execution_count": 249,
   "metadata": {
    "scrolled": true
   },
   "outputs": [
    {
     "name": "stdout",
     "output_type": "stream",
     "text": [
      "                         sum_sq    df          F    PR(>F)\n",
      "StrategyFormulation   74.540731   1.0  28.697273  0.000002\n",
      "Residual             124.679269  48.0        NaN       NaN\n"
     ]
    }
   ],
   "source": [
    "#3. H0: There is no significant relationship between strategy formulation and performance of HIV and AIDS interventions managed by non-governmental organisations in Nyanza Region \n",
    "mod=ols('Project_Perfomance ~ StrategyFormulation',data=strategy_management).fit()\n",
    "aov_table=sm.stats.anova_lm(mod,typ=2)\n",
    "print(aov_table)"
   ]
  },
  {
   "cell_type": "code",
   "execution_count": 250,
   "metadata": {
    "scrolled": true
   },
   "outputs": [
    {
     "name": "stdout",
     "output_type": "stream",
     "text": [
      "                            sum_sq    df           F        PR(>F)\n",
      "StrategyImplementation  139.613676   1.0  112.428615  3.594597e-14\n",
      "Residual                 59.606324  48.0         NaN           NaN\n"
     ]
    }
   ],
   "source": [
    "#4. H0: There is no significant relationship between strategy implementation and performance of HIV and AIDS interventions managed by non-governmental organisations in Nyanza Region \n",
    "mod=ols('Project_Perfomance ~ StrategyImplementation',data=strategy_management).fit()\n",
    "aov_table=sm.stats.anova_lm(mod,typ=2)\n",
    "print(aov_table)"
   ]
  },
  {
   "cell_type": "code",
   "execution_count": 251,
   "metadata": {},
   "outputs": [
    {
     "name": "stdout",
     "output_type": "stream",
     "text": [
      "                        sum_sq    df          F        PR(>F)\n",
      "StrategyEvaluation  117.807597   1.0  69.458269  6.916793e-11\n",
      "Residual             81.412403  48.0        NaN           NaN\n"
     ]
    }
   ],
   "source": [
    "#5. H0: There is no significant relationship between strategy evaluation and control on performance of HIV and AIDS interventions managed by non-governmental organisations in Nyanza Region \n",
    "mod=ols('Project_Perfomance ~ StrategyEvaluation',data=strategy_management).fit()\n",
    "aov_table=sm.stats.anova_lm(mod,typ=2)\n",
    "print(aov_table)"
   ]
  },
  {
   "cell_type": "code",
   "execution_count": 252,
   "metadata": {},
   "outputs": [
    {
     "name": "stdout",
     "output_type": "stream",
     "text": [
      "                             sum_sq    df          F        PR(>F)\n",
      "StakeholderParticipation  99.608595   1.0  47.998646  9.477581e-09\n",
      "Residual                  99.611405  48.0        NaN           NaN\n"
     ]
    }
   ],
   "source": [
    "6. H0: There is no significant moderating influence of stakeholder participation on the relationship between strategic management and performance of HIV and AIDS interventions managed by non-governmental organisations in Nyanza Region\n",
    "mod=ols('Project_Perfomance ~ StakeholderParticipation',data=strategy_management).fit()\n",
    "aov_table=sm.stats.anova_lm(mod,typ=2)\n",
    "print(aov_table)"
   ]
  }
 ],
 "metadata": {
  "kernelspec": {
   "display_name": "Python 3",
   "language": "python",
   "name": "python3"
  },
  "language_info": {
   "codemirror_mode": {
    "name": "ipython",
    "version": 3
   },
   "file_extension": ".py",
   "mimetype": "text/x-python",
   "name": "python",
   "nbconvert_exporter": "python",
   "pygments_lexer": "ipython3",
   "version": "3.7.4"
  }
 },
 "nbformat": 4,
 "nbformat_minor": 2
}
