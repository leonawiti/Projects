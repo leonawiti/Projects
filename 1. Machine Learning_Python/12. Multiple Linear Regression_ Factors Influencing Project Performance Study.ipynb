{
 "cells": [
  {
   "cell_type": "markdown",
   "metadata": {},
   "source": [
    "# FACTORS INFLUENCING PROJECT PERFORMANCE"
   ]
  },
  {
   "cell_type": "code",
   "execution_count": 1,
   "metadata": {},
   "outputs": [],
   "source": [
    "#Study topic\n",
    "#Factors influencing performance of ICRAF projects implemented in the Eastern and Southern Africa region"
   ]
  },
  {
   "cell_type": "code",
   "execution_count": 2,
   "metadata": {},
   "outputs": [],
   "source": [
    "# Specific objectives of the study\n",
    "#1.To assess the influence of organisational culture on performance of ICRAF projects implemented in the Eastern and Southern Africa region\n",
    "#2.To assess the influence of project manager's competency on performance of ICRAF projects implemented in the Eastern and Southern Africa region\n",
    "#3.To examine the influence of stakeholders’ involvement on performance of ICRAF projects implemented in the Eastern and Southern Africa region\n",
    "#4.To determine the influence of funds disbursement procedures on performance of ICRAF projects implemented in the Eastern and Southern Africa region"
   ]
  },
  {
   "cell_type": "code",
   "execution_count": 3,
   "metadata": {},
   "outputs": [],
   "source": [
    "# Study Hypotheses\n",
    "#1.H0:There is no significant relationship between organisational culture and performance of ICRAF projects implemented in the Eastern and Southern Africa region\n",
    "#2.H0:There is no significant relationship between project manager's competency and performance of ICRAF projects implemented in the Eastern and Southern Africa region\n",
    "#3.H0:There is no significant relationship between stakeholders’ involvement and performance of ICRAF projects implemented in the Eastern and Southern Africa region\n",
    "#4.H0:There is no significant relationship between funds disbursement procedures and performance of ICRAF projects implemented in the Eastern and Southern Africa region"
   ]
  },
  {
   "cell_type": "code",
   "execution_count": 7,
   "metadata": {},
   "outputs": [],
   "source": [
    "#Importing libraries\n",
    "import numpy as np\n",
    "import pandas as pd"
   ]
  },
  {
   "cell_type": "code",
   "execution_count": 8,
   "metadata": {},
   "outputs": [],
   "source": [
    "#Importing the data\n",
    "df=pd.read_csv('Organizationalfactors.csv')\n",
    "X=df.drop('ProjectPerformance',axis=1)\n",
    "y=df[['ProjectPerformance']]"
   ]
  },
  {
   "cell_type": "code",
   "execution_count": 9,
   "metadata": {
    "scrolled": false
   },
   "outputs": [
    {
     "data": {
      "text/plain": [
       "(72, 5)"
      ]
     },
     "execution_count": 9,
     "metadata": {},
     "output_type": "execute_result"
    }
   ],
   "source": [
    "#Exploring the data\n",
    "df.head()\n",
    "df.shape"
   ]
  },
  {
   "cell_type": "code",
   "execution_count": 10,
   "metadata": {
    "scrolled": false
   },
   "outputs": [
    {
     "data": {
      "text/html": [
       "<div>\n",
       "<style scoped>\n",
       "    .dataframe tbody tr th:only-of-type {\n",
       "        vertical-align: middle;\n",
       "    }\n",
       "\n",
       "    .dataframe tbody tr th {\n",
       "        vertical-align: top;\n",
       "    }\n",
       "\n",
       "    .dataframe thead th {\n",
       "        text-align: right;\n",
       "    }\n",
       "</style>\n",
       "<table border=\"1\" class=\"dataframe\">\n",
       "  <thead>\n",
       "    <tr style=\"text-align: right;\">\n",
       "      <th></th>\n",
       "      <th>OrganizationalCulture</th>\n",
       "      <th>ProjectManagaersCompetency</th>\n",
       "      <th>StakeholdersEngagement</th>\n",
       "      <th>FundDisbursement</th>\n",
       "      <th>ProjectPerformance</th>\n",
       "    </tr>\n",
       "  </thead>\n",
       "  <tbody>\n",
       "    <tr>\n",
       "      <td>count</td>\n",
       "      <td>72.000000</td>\n",
       "      <td>72.000000</td>\n",
       "      <td>72.0000</td>\n",
       "      <td>72.000000</td>\n",
       "      <td>72.00000</td>\n",
       "    </tr>\n",
       "    <tr>\n",
       "      <td>mean</td>\n",
       "      <td>38.888889</td>\n",
       "      <td>54.305556</td>\n",
       "      <td>35.1250</td>\n",
       "      <td>29.625000</td>\n",
       "      <td>22.12500</td>\n",
       "    </tr>\n",
       "    <tr>\n",
       "      <td>std</td>\n",
       "      <td>5.529831</td>\n",
       "      <td>5.776687</td>\n",
       "      <td>4.7883</td>\n",
       "      <td>4.824928</td>\n",
       "      <td>3.16645</td>\n",
       "    </tr>\n",
       "    <tr>\n",
       "      <td>min</td>\n",
       "      <td>18.000000</td>\n",
       "      <td>41.000000</td>\n",
       "      <td>19.0000</td>\n",
       "      <td>16.000000</td>\n",
       "      <td>16.00000</td>\n",
       "    </tr>\n",
       "    <tr>\n",
       "      <td>25%</td>\n",
       "      <td>36.750000</td>\n",
       "      <td>52.000000</td>\n",
       "      <td>32.0000</td>\n",
       "      <td>26.000000</td>\n",
       "      <td>19.75000</td>\n",
       "    </tr>\n",
       "    <tr>\n",
       "      <td>50%</td>\n",
       "      <td>40.000000</td>\n",
       "      <td>54.500000</td>\n",
       "      <td>36.0000</td>\n",
       "      <td>29.500000</td>\n",
       "      <td>22.00000</td>\n",
       "    </tr>\n",
       "    <tr>\n",
       "      <td>75%</td>\n",
       "      <td>42.250000</td>\n",
       "      <td>58.000000</td>\n",
       "      <td>38.0000</td>\n",
       "      <td>33.000000</td>\n",
       "      <td>24.00000</td>\n",
       "    </tr>\n",
       "    <tr>\n",
       "      <td>max</td>\n",
       "      <td>50.000000</td>\n",
       "      <td>65.000000</td>\n",
       "      <td>45.0000</td>\n",
       "      <td>40.000000</td>\n",
       "      <td>30.00000</td>\n",
       "    </tr>\n",
       "  </tbody>\n",
       "</table>\n",
       "</div>"
      ],
      "text/plain": [
       "       OrganizationalCulture  ProjectManagaersCompetency  \\\n",
       "count              72.000000                   72.000000   \n",
       "mean               38.888889                   54.305556   \n",
       "std                 5.529831                    5.776687   \n",
       "min                18.000000                   41.000000   \n",
       "25%                36.750000                   52.000000   \n",
       "50%                40.000000                   54.500000   \n",
       "75%                42.250000                   58.000000   \n",
       "max                50.000000                   65.000000   \n",
       "\n",
       "       StakeholdersEngagement  FundDisbursement  ProjectPerformance  \n",
       "count                 72.0000         72.000000            72.00000  \n",
       "mean                  35.1250         29.625000            22.12500  \n",
       "std                    4.7883          4.824928             3.16645  \n",
       "min                   19.0000         16.000000            16.00000  \n",
       "25%                   32.0000         26.000000            19.75000  \n",
       "50%                   36.0000         29.500000            22.00000  \n",
       "75%                   38.0000         33.000000            24.00000  \n",
       "max                   45.0000         40.000000            30.00000  "
      ]
     },
     "execution_count": 10,
     "metadata": {},
     "output_type": "execute_result"
    }
   ],
   "source": [
    "#Exploring the data,descriptive analysis \n",
    "df.describe()"
   ]
  },
  {
   "cell_type": "code",
   "execution_count": 11,
   "metadata": {},
   "outputs": [
    {
     "data": {
      "text/html": [
       "<div>\n",
       "<style scoped>\n",
       "    .dataframe tbody tr th:only-of-type {\n",
       "        vertical-align: middle;\n",
       "    }\n",
       "\n",
       "    .dataframe tbody tr th {\n",
       "        vertical-align: top;\n",
       "    }\n",
       "\n",
       "    .dataframe thead th {\n",
       "        text-align: right;\n",
       "    }\n",
       "</style>\n",
       "<table border=\"1\" class=\"dataframe\">\n",
       "  <thead>\n",
       "    <tr style=\"text-align: right;\">\n",
       "      <th></th>\n",
       "      <th>OrganizationalCulture</th>\n",
       "      <th>ProjectManagaersCompetency</th>\n",
       "      <th>StakeholdersEngagement</th>\n",
       "      <th>FundDisbursement</th>\n",
       "      <th>ProjectPerformance</th>\n",
       "    </tr>\n",
       "  </thead>\n",
       "  <tbody>\n",
       "    <tr>\n",
       "      <td>OrganizationalCulture</td>\n",
       "      <td>1.000000</td>\n",
       "      <td>0.476821</td>\n",
       "      <td>0.407985</td>\n",
       "      <td>0.394858</td>\n",
       "      <td>0.526059</td>\n",
       "    </tr>\n",
       "    <tr>\n",
       "      <td>ProjectManagaersCompetency</td>\n",
       "      <td>0.476821</td>\n",
       "      <td>1.000000</td>\n",
       "      <td>0.523067</td>\n",
       "      <td>0.444814</td>\n",
       "      <td>0.581542</td>\n",
       "    </tr>\n",
       "    <tr>\n",
       "      <td>StakeholdersEngagement</td>\n",
       "      <td>0.407985</td>\n",
       "      <td>0.523067</td>\n",
       "      <td>1.000000</td>\n",
       "      <td>0.546461</td>\n",
       "      <td>0.469927</td>\n",
       "    </tr>\n",
       "    <tr>\n",
       "      <td>FundDisbursement</td>\n",
       "      <td>0.394858</td>\n",
       "      <td>0.444814</td>\n",
       "      <td>0.546461</td>\n",
       "      <td>1.000000</td>\n",
       "      <td>0.406898</td>\n",
       "    </tr>\n",
       "    <tr>\n",
       "      <td>ProjectPerformance</td>\n",
       "      <td>0.526059</td>\n",
       "      <td>0.581542</td>\n",
       "      <td>0.469927</td>\n",
       "      <td>0.406898</td>\n",
       "      <td>1.000000</td>\n",
       "    </tr>\n",
       "  </tbody>\n",
       "</table>\n",
       "</div>"
      ],
      "text/plain": [
       "                            OrganizationalCulture  ProjectManagaersCompetency  \\\n",
       "OrganizationalCulture                    1.000000                    0.476821   \n",
       "ProjectManagaersCompetency               0.476821                    1.000000   \n",
       "StakeholdersEngagement                   0.407985                    0.523067   \n",
       "FundDisbursement                         0.394858                    0.444814   \n",
       "ProjectPerformance                       0.526059                    0.581542   \n",
       "\n",
       "                            StakeholdersEngagement  FundDisbursement  \\\n",
       "OrganizationalCulture                     0.407985          0.394858   \n",
       "ProjectManagaersCompetency                0.523067          0.444814   \n",
       "StakeholdersEngagement                    1.000000          0.546461   \n",
       "FundDisbursement                          0.546461          1.000000   \n",
       "ProjectPerformance                        0.469927          0.406898   \n",
       "\n",
       "                            ProjectPerformance  \n",
       "OrganizationalCulture                 0.526059  \n",
       "ProjectManagaersCompetency            0.581542  \n",
       "StakeholdersEngagement                0.469927  \n",
       "FundDisbursement                      0.406898  \n",
       "ProjectPerformance                    1.000000  "
      ]
     },
     "execution_count": 11,
     "metadata": {},
     "output_type": "execute_result"
    }
   ],
   "source": [
    "#Exploring the data through correlation analysis\n",
    "df.corr()"
   ]
  },
  {
   "cell_type": "code",
   "execution_count": 15,
   "metadata": {},
   "outputs": [
    {
     "data": {
      "text/plain": [
       "<seaborn.axisgrid.PairGrid at 0x1c1bf31350>"
      ]
     },
     "execution_count": 15,
     "metadata": {},
     "output_type": "execute_result"
    }
   ],
   "source": [
    "#Exploring the data through visualization\n",
    "import seaborn as sns\n",
    "sns.pairplot(X)"
   ]
  },
  {
   "cell_type": "code",
   "execution_count": 13,
   "metadata": {},
   "outputs": [],
   "source": [
    "#Importing the libraries\n",
    "from sklearn.model_selection import train_test_split\n",
    "#Spliting the data to train and test\n",
    "X_train,X_test,y_train,y_test=train_test_split(X,y,train_size=0.8,test_size=0.2)"
   ]
  },
  {
   "cell_type": "code",
   "execution_count": 16,
   "metadata": {},
   "outputs": [],
   "source": [
    "#Importing the libraries  \n",
    "import statsmodels.api as sm\n",
    "import statsmodels.formula as smf\n",
    "from statsmodels.formula.api import ols"
   ]
  },
  {
   "cell_type": "code",
   "execution_count": 17,
   "metadata": {},
   "outputs": [
    {
     "name": "stdout",
     "output_type": "stream",
     "text": [
      "                                 OLS Regression Results                                \n",
      "=======================================================================================\n",
      "Dep. Variable:     ProjectPerformance   R-squared (uncentered):                   0.988\n",
      "Model:                            OLS   Adj. R-squared (uncentered):              0.987\n",
      "Method:                 Least Squares   F-statistic:                              1098.\n",
      "Date:                Sat, 02 Jan 2021   Prob (F-statistic):                    2.89e-50\n",
      "Time:                        20:42:17   Log-Likelihood:                         -131.75\n",
      "No. Observations:                  57   AIC:                                      271.5\n",
      "Df Residuals:                      53   BIC:                                      279.7\n",
      "Df Model:                           4                                                  \n",
      "Covariance Type:            nonrobust                                                  \n",
      "==============================================================================================\n",
      "                                 coef    std err          t      P>|t|      [0.025      0.975]\n",
      "----------------------------------------------------------------------------------------------\n",
      "OrganizationalCulture          0.1300      0.079      1.644      0.106      -0.029       0.289\n",
      "ProjectManagaersCompetency     0.1924      0.075      2.551      0.014       0.041       0.344\n",
      "StakeholdersEngagement         0.1171      0.096      1.221      0.228      -0.075       0.310\n",
      "FundDisbursement               0.0839      0.090      0.930      0.357      -0.097       0.265\n",
      "==============================================================================\n",
      "Omnibus:                        0.263   Durbin-Watson:                   2.064\n",
      "Prob(Omnibus):                  0.877   Jarque-Bera (JB):                0.337\n",
      "Skew:                          -0.151   Prob(JB):                        0.845\n",
      "Kurtosis:                       2.775   Cond. No.                         26.8\n",
      "==============================================================================\n",
      "\n",
      "Warnings:\n",
      "[1] Standard Errors assume that the covariance matrix of the errors is correctly specified.\n"
     ]
    }
   ],
   "source": [
    "# Describing the model\n",
    "mod= sm.OLS(y_train, X_train)\n",
    "# Fitting the model\n",
    "res = mod.fit()   \n",
    "# Summarizing the model\n",
    "print(res.summary())   "
   ]
  },
  {
   "cell_type": "code",
   "execution_count": 19,
   "metadata": {},
   "outputs": [
    {
     "name": "stdout",
     "output_type": "stream",
     "text": [
      "                           sum_sq    df          F    PR(>F)\n",
      "OrganizationalCulture  197.003275   1.0  26.783815  0.000002\n",
      "Residual               514.871725  70.0        NaN       NaN\n"
     ]
    }
   ],
   "source": [
    "#Hypothesis Testing 1\n",
    "#H0:There is no significant relationship between organisational culture and performance of ICRAF projects implemented in the Eastern and Southern Africa region\n",
    "mod=ols('ProjectPerformance ~ OrganizationalCulture',data=df).fit()\n",
    "aov_table=sm.stats.anova_lm(mod,typ=2)\n",
    "print(aov_table)"
   ]
  },
  {
   "cell_type": "code",
   "execution_count": 20,
   "metadata": {},
   "outputs": [
    {
     "name": "stdout",
     "output_type": "stream",
     "text": [
      "                                sum_sq    df          F        PR(>F)\n",
      "ProjectManagaersCompetency  240.749552   1.0  35.770661  8.468306e-08\n",
      "Residual                    471.125448  70.0        NaN           NaN\n"
     ]
    }
   ],
   "source": [
    "#Hypothesis Testing 2\n",
    "#H0:There is no significant relationship between project manager's competency and performance of ICRAF projects implemented in the Eastern and Southern Africa region\n",
    "mod=ols('ProjectPerformance ~ ProjectManagaersCompetency',data=df).fit()\n",
    "aov_table=sm.stats.anova_lm(mod,typ=2)\n",
    "print(aov_table)"
   ]
  },
  {
   "cell_type": "code",
   "execution_count": 21,
   "metadata": {},
   "outputs": [
    {
     "name": "stdout",
     "output_type": "stream",
     "text": [
      "                            sum_sq    df          F    PR(>F)\n",
      "StakeholdersEngagement  157.204648   1.0  19.839397  0.000031\n",
      "Residual                554.670352  70.0        NaN       NaN\n"
     ]
    }
   ],
   "source": [
    "#Hypothesis Testing 3\n",
    "#H0:There is no significant relationship between stakeholders’ involvement and performance of ICRAF projects implemented in the Eastern and Southern Africa region\n",
    "mod=ols('ProjectPerformance ~ StakeholdersEngagement',data=df).fit()\n",
    "aov_table=sm.stats.anova_lm(mod,typ=2)\n",
    "print(aov_table)"
   ]
  },
  {
   "cell_type": "code",
   "execution_count": 22,
   "metadata": {},
   "outputs": [
    {
     "name": "stdout",
     "output_type": "stream",
     "text": [
      "                      sum_sq    df         F   PR(>F)\n",
      "FundDisbursement  117.862446   1.0  13.88922  0.00039\n",
      "Residual          594.012554  70.0       NaN      NaN\n"
     ]
    }
   ],
   "source": [
    "#Hypothesis Testing 4\n",
    "#H0:There is no significant relationship between funds disbursement procedures and performance of ICRAF projects implemented in the Eastern and Southern Africa regionimplemented by Plan International in Homa Bay Town Sub-County\n",
    "mod=ols('ProjectPerformance ~ FundDisbursement',data=df).fit()\n",
    "aov_table=sm.stats.anova_lm(mod,typ=2)\n",
    "print(aov_table)"
   ]
  }
 ],
 "metadata": {
  "kernelspec": {
   "display_name": "Python 3",
   "language": "python",
   "name": "python3"
  },
  "language_info": {
   "codemirror_mode": {
    "name": "ipython",
    "version": 3
   },
   "file_extension": ".py",
   "mimetype": "text/x-python",
   "name": "python",
   "nbconvert_exporter": "python",
   "pygments_lexer": "ipython3",
   "version": "3.7.4"
  }
 },
 "nbformat": 4,
 "nbformat_minor": 2
}
